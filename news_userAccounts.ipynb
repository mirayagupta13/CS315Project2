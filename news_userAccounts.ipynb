{
 "cells": [
  {
   "cell_type": "markdown",
   "metadata": {},
   "source": [
    "## Comparing our user following list to the news account list\n",
    "#### By: Ashley You 2024"
   ]
  },
  {
   "cell_type": "code",
   "execution_count": 3,
   "metadata": {},
   "outputs": [
    {
     "name": "stdout",
     "output_type": "stream",
     "text": [
      "{'Sec02Gr1_90282.json': ['livbedumb', 'egregorski', 'rytyboone', 'michxllxlim', 'francescasotto_', 'anastasiagerrans', 'anthony_hall35', 'kayleebull', 'cinnamonfart7', 'smithatrish', 'lukas_stranger', 'mckennastarnesss', 'samnottofficial', '_wheresali', 'defnaenaee', 'shae.ur.bae', 'elisa.leddaaa', 'exceldictionary', 'madeleine_white', 'joeykidney', 'axeltanner', 'yakerseatthebooty', 'thecb30music', 'verivanessa', 'beardthebestyoucanbe', 'workoutwscout', 'nathaliecfit', 'amandamcf3', 'mirandalarson06', 'philllipc59', 'booksmina', 'haidynshope', 'itsdjsoph', 'sk8ordieee', 'contrahq', 'carolinecitelli', 'ssam.ttaylor', 'cecesavesyou', 'grind.and.align', 'cleanwithabbi', 'eslkate', 'eatthecapital', 'damianbrunton', 'codyko', 'santanax69', 'itsjessicahawks', 'nikki.font', 'bariatricqueen', 'rachie.love', 'cayla.janae', 'kennedybright24', 'davidjamesgraye', 'haubes', 'titatots', 'thewaistcoach', 'honeymatcha333', 'caleeshea', 'kezzie_turner', 'sayas.s', 'andrea28635', 'ottersbachs', 'lynlapid', 'davidsuh', 'island.therapist', 'spencer.barbosa', 'chlokinggg', 'davidyrodriguez', 'pxrxvi', 'audrey.audreyyy', 'james_beardwell', 'hotgirlsavvv', 'accessscholarships', 'shansel.odm', 'hayleylombard_', 'karsynmckay', 'lukescheffers', 'mattstrengthlegacy', 'madisonbeer', 'gavinleatherwood4', 'jojovitoskin', 'owenpatrickjoyner', 'thelegacyinvestingshow', 'thatblondemillennial', 'blacktivism21', 'bradylockerby', 'sand.oval', 'mandaround', 'theafterworkchannel', 'imgianluca', 'k.wamp', 'nickleyden', 'growingwithgabby', 'hashtagcatie', 'rach.connellyy', 'unnecessaryinventions', 'bonniegiampa', 'davidpaykin', 'thekoreanvegan', '_vagablonde', 'kiwiberrydisco', 'everydayarete', 'troyosterberg', 'motivatedme.co', 'healthy.by.diana', 'guacamolly.com', 'bondenavant', 'ashlynluketich', 'rorydouglasofficial', 'erinmcgoff', 'nyc.yoel', 'tejashullur', 'demelzamay', 'pawsome.nala', 'lukeoakvt', 'marlene.fit', 'yoleendadong', 'theconsideratemomma', 'oliverkeanemusic', 'guiltyaesthetic', 'bearenger', 'growwithjo', 'tommysmocktails', 'abbyandersonmusic', 'morganmassive', 'basii_17', 'jasmine_.._marie', 'alessa.miki', 'deja_foxx', 'natanderson19', 'mikeabdon', 'os_illustration', '_braedin', 'abigailbarlowww', 'maria.kre13', 'kneesovertoesguy', 'livingerica', 'notk8', 'sad.teen.hours', 'christi.steyn.poetry', 'packslight', 'alyssafontainerd', 'yourrichbff', 'carolinerosetravel', 'couchsleepers', 'angelicalilianfitness', 'joujoutravels', 'moribyan', 'thelucy.a', 'bobeema', 'sarahpalmyra', 'arielleelizabetht', 'tori.kinley', 'alissaisabellee', 'blogilates', 'mamainthekitchen', 'evadabill', 'xgilham', 'laurentiby', 'apple._.watch._.hacks._', 'jaketheillustrator', 'jackson.beck', 'hotdamnitslilah', 'mikah.inlove', 'james.joblin', 'stephanieahn', 'studentlife101', 'wattpad._recommendations', 'hanbity', 'meganygoody', 'theworldpursuit', 'jaybaby07', 'bellowbois', 'zane', 'daisykeech', 'N/A', 'clintonkane', 'justinmschuble', 'nick.digiovanni', 'nbcsnl', 'user246813579993', 'daniisilver_', 'bylindsayalbanese', 'liltenimasudi', 'kriskrohn', 'wildlilyorganics', 'shea...b', 'laurenwolfe', 'oakandhavenstudio', 'toponlinefinds', 'laurenlind94', 'arianalucidonio', 'doctor.nessim', 'scholarbuzzzz', 'sat_test_assured', 'meemshou', 'reuzbl', 'cbssports', 'happiejordan', 'ericafromamerica', 'hannahwarling', 'collegeprepguide', 'daviddobrik', 'N/A', 'i092142', 'samrae44', 'penavega', 'itzmelanin', 'shekouclothing', 'neluhknee', 'iislandlife', 'carsonjamesargenna', 'sycir', 'suhan.park', 'damyansv', 'collinlabrosse', 'mayantr', 'nikokatsuyoshi', 'llexicook', 'arribaelamerica233', 'heartintiktoks', 'gummmywormms', 'creatingwonders', 'f.i.t.z', 'mattpetitto', 'abilovesfriday', 'luluduhn4', 'ronaldkimm', 'sophie_swisz', 'tiktokdylab', 'tracethedrawing', 'kiocyrrr', 'yungnibb', 'awesomemateo7', 'rachelzafra', 'emilynpayton', 'rinimagination', 'joshryanx', 'heyitsphiephie', 'elijahgrit', 'calebkaupp', 'jacobhellenbrand', 'bigtiddytris', 'cowboydaddy123', 'kaede.koga', 'henryyyoung', 'hantaraki', 'jackriyn', 'lilbebekam', 'masxngaines', 'bubbles_baby_', 'pierce_woodward', 'bigbeaubrown', 'benoftheweek', 'abbyroberts', 'rifenstine', '143joannagc', 'thecardguy', 'buffi', 'ghosthoney', 'josephansara', 'andrew_tufano', '6thkyler', 'reallywhitegurl', 'babushka.yaya', 'ahahahandro'], 'Sec2Gr1_13395.json': ['officialwhiptailultimate', 'daundrylay', 'mroseweber', 'lizzza', 'kurtisconner', 'zachchoifansasmr', 'bee.maple', 'helga3178', 'hikingwithmary', 'whereismuna', 'ameliadimz', '_weloveyou__', 'dj__mandy', 'mademoisellesoph', 'calmcomposer35', 'turtlewithhat', 'swagcynthia', 'hollywoodnut', 'redheadgirlypop', 'ayesebastien', 'freyadish', 'skweezy4real', 'gallavich.vsps', 'cchartruese', 'musicrecsandsuch', 'cath_erine123', 'pinkfloyd', 'keeern.tok', 'bigzitti', 'licciy', 'daisysourcream_', 'laurencreviston', 'jothefarmer_', 'shepgold', 'brandon.biscuit10', 'art772828', 'tannertan36', 'neildegrassetyson', 'bytomwright', 'audgpodge', 'toxicthotsyndrome', 'devvyyy_', 'devsvlogs', 'corywinn', 'sophdatroph2.0', 'myspacemama', 'will.paquin', 'codyko', 'alejwho', 'speedyandtheg', 'thefrancisfiles', 'ms.mawma', 'dylantroesken', 'billz6969', 'devon_palmer', 'chase120501', 'hankgreen1', 'washwonderlands', 'benkielesinski', 'jadonarmon', 'davidgrrr3', 'evanpalmblad', 'mr.sexyguy', 'seaarose', 'toborowitz', 'sutherlandphys', 'sid.gr8s', 'yodelinghaley', 'jackknightley', 'hamzahsings', 'user1205076323', 'zoifishh', 'postysdaughther', 'zockjat', 'brittany_broski', 'chaserutherford', 'vicky.blas_', 'nmillz1', 'N/A', 'quenblackwell', 'spookycowboybones', 'shakespearecouldgetit', 'mr.epic.octopus', 'mia.nuci4o', 'lorabednarek', 'bellacastilloo', 'psychxoffical', 'iwillpeeurpants', 'N/A', 'deadave', 'meeratrivediii', 'mina0c', 'sophiaaa_15', 'jeepers.vivsters', 'ella.bella.fo.fella', 'lex1apro', 'myeh.medina', 'isabelshi_', 'a_sophie_wit_da_trophie', 'dniprkk', 'natalie_simotas', 'kayshlly', 'saucekia22', 'ayladollar', 'katetruog', 'iamfromusatakemetobosnia', 'sarahjane__04', 'jocelyn.valentino', 'N/A', 'saxxx123', 'grace.buerger', 'emilywalkers', 'anitaabbaraju', 'jess.icafay'], 'Sec2Gr1_20323.json': ['nytimes', 'aurikatariina', 'our_dal_basil', 'gggggian_', 'djhanskim', 'foodbykaitlyn', 'iiamkylenn', 'jason___wav', 'gordonramsaytv', 'myatheestallion', 'jacobxcohen', 'tybeos6688', 'thetoebro.p', 'drnailnipper', 'doctor.lamm', 'devourpower', 'brooklyn99', 'officialboaster', 'fallingtreasure', 'familymanclipsss', 'doctor.cha', 'snapptube', 'valorant', 'elisolanotravels', 'frightenedkiwi', 'giggityclipz', 'noodlesruns', 'kitchennightmares4u', 'funnyasiandude', 'shou.time', '3blue1brown', 'bobbybojanglles', 'kambiz.ahmadi', 'jaekicho', 'discover.la', 'geoffreyatm', 'chefmaxmariola', 'horror6sic6', 'shootimpro', 'jeygdiff', 'matt_rife', 'ovilazari', 'desiregamingvalorant', 'abedn8d1r', 'keith_lee125', 'hairingrown09', 'charliecustard_mc', 'charliecustard_builds', 'theguardgg', '444.him._', 'airen_sg', 'kj.todo', 'boneshandsanimals', 'valorantboni', 'l2smentalhealth', 'officialriddle', 'pprxteam', 'anhanhbdtb1', 'ayanna_moise', 'merweeeen', 're.reddit', 'bobbytriggered9', 'mmezaki', 'iwantttch', 'jooceboks', 'xinqoh', 'grimval', 'kubbi4123', 'lobenzo', 'vince.n.tran', 'thegr8khalid', 'cheriewangg', '01ea', 'dr.cracks', 'cara_mulrooney', 'findingnimesh', 'monqueeeek', 'bunni6ug', 'noaahhss', 'qui2que', 'laundersmoney', 'luan_marczak', 'malt.10', 'vvard', 'sstolentino', 'fernandorimoli', 'azlehearing', 'dewatermelongod', 'corduroy_underwear', 'pedicurist0', 'brandon.v.02', 'chrisbychang', 'dr.beauhightower', 'roarkchao', 'N/A', 'drpimplepopper', 'thebostonfoodie', 'itscizzia', 'iceagesloth', 'jakecornelll', 'jadeexploe', 'beeleaver', 'jmhmore', 'joshieyangg', 'ricerogue', 'chashiya', 'drzz40', 'porojin', 'jannelleliu', 'calebjooo', 'koriee_m', 'nagakusa_kun', 'chefchrischo', 'omuraisupuro', 'smarterinasec', 'tiny.avocados', 'kellyn057', 'pricelesstay', 'clariechow13', 'bellaseoo'], 'Sec2Gr1_24149.json': ['ninisha2002', 'babymonster_yg_tiktok', 'isabelle.schilling', 'nutritionbykylie', 'foodradio', 'seventeen17_official', 'le_sserafim', 'ive.official', 'newjeans_official', 'aespa_official', 'nctdreamofficial', 'qunhtn04', 'punchbunny', 'itsmichellekwok', 'kyute._.e12', 'hasol_o7', 's_min5', '__moon.na__', 'k__nini', 'artbeat.official', 'hotdancevn_', 'chisaakiii', 'luuphuonganh_05', 'ahs2__', 'kg_off_icial', 'imboian', 'jejeejeen', 'czerone', 'cocona.dance', 'yoongitea2', 'madeleine_white', 'official_nct', 'drlee90210', 'i_luv_nanaa', 'convith'], 'Sec2Gr1_33552.json': ['valentinaxoxoxo', 'amydemure', 'tarayummy', 'pr1ncejack', 'reesamteesa', 'alissaviolet', 'nessaabarrett', 'markdohner', 'georgasisbored', 'bananacatfactory', 'rhyss.daviess', 'endlessmomdiary', 'divinezangel', 'zakplis', 'userpv6wj2nw6d', 'stephdims', 'aestheticsthingz4', 'usercgapg8frks', 'oatsovernight', 'eastcoastdiy', 'lefrenchhusband', 'luke.meeker', 'skyelarchase', 'ianasher', 'leoskepi', 'clutch_glue', 'babybella777', 'ighostedeveryoneiknow', 'jusouf', 'andrewtsangg', 'rileysaurage', 'tykhus_', 'kawi.ak', 'burroughsgarrett', 'hollyscarfone', 'babybushwhacked', 'marinastobartt', 'memyselfanddnat', 'sashatulkoff', 'ballz.ballz.ballz.b', 'katepatayyy', 'hotlinebling41', 'annaa_paull', 'memeee0310', 'ally.ballz', 'chloendiaz', 'okcallie', 'pakmanfleet', 'sofiarichiegrainge', 'kaylakosuga', 'matt368msw', 'cconnor.9', 'crstlmth', 'N/A', 'randy_lam', 'gabegoesjim', 'egan.n', 'iannricch02', 'haileyasf_', 'anthony.sanchez147', 'trynafckyohoe', 'stefanie_kamperrr', 'chloe_doolaege', 'citlalimichelle', 'bwinnz1', 's0r33na', 'gianna.vescovi', 'N/A', 'jordanhedjazi', 'deckskiii', 'N/A', 'maliak28', 'adam_stark00', 'mcsantossss', 'banzalio', 'kylacastanon', 'haleylotterman', 'talia.uslander', 'splatt212', 'ashley1458', 'hana.absari', 'kiwiberrydisco', 'ethan.harringtonn', 'azethyst_', 'ell4tinsl3y', 'jacobstuart20', 'tindracronkhite', 'cornthetrain', 'sheilarox', 'simoneezell', 'tejgadhavi_', 'shirashayy', 'N/A', 'gabbyyyhackett', 'samraseaward', 'mattd737', 'iamrradiorebell', 'lookatmywang', 'cammm.perkins', 'llexicook', 'brooklyncoppock', 'cuhday', 'sk8ordieee', 'abeepya', 'cinnamonfart7', 'noelleyelle', 'tiktokkprincesss'], 'Sec2Gr1_66169.json': ['49ers', 'zebpowelll', 'auroraperi88', 'celebrity_corner', 'espnfc', 'coachwardlaw', 'cbcnews', 'collectcompany', 'branson.cz', 'memesclp', 'uncoveringcalifornia', 'anthonybucardo6', 'freshpalettemarket', 'notk8', 'zaryna_leooo', 'philipdefranco', 'sammybeast03', 'expiredpretzel', 'kylerehl', 'halfcabking', 'gmcasto', 'snowboardjesus', 'keikatoo', 'usernamethatmf', 'zakmauser', 'jerrysofbearmtn', 'kingofthetake', 'brandonisonn', 'mammothmountain', 'anayaford', 'nbenitezmej6', 'poudi', 'stfuman565', 'minapinaaa', 'jidion', 'name_is_brad', 'kalyssauntalan', 'marcosplayhousee', '.glowen', 'rbelkman', 'josh_govett11', 'viviangach', 'landen.gricee', 'sheluvscgee', 'fishcabo', 'chase.barry', 'jaguarhoppen', 'forrestsautoreviews', 'lovem4rcxs', 'tnrmqn', 'mistah.c', '.henrycarey', 'monkeybalsack', 'mark_brooks__', 'sayde.lara', 'ballz.ballz.ballz.b', 'N/A', 'jakecarey_1'], 'Sec2Gr1_82571.json': ['taycakes23', 'barbie', 'rafamexicoreano', 'enhypen', 'shoelover99', 'grandma_droniak', 'vantoan___', 'per50n', 'moontellthat', 'rachelchiu1', 'milksandmatcha', 'fecpodcast', 'dearpeachie', 'l_yuhann', 'skykatz', 'oppascoreanos', 'chrishanxoxo', 'humphreytalks', 'itsaugustco', 'nadyaokamoto', 'paigetaylor.s', 'sallyy18888', 'starabelar', 'chris', 'chinamcclain', 'joeyking', 'terrycrews', 'simuliu', 'steven_he', 'cherry_keem', 'theresa.ngyn778', 'kelseydangerous', 'dylanmulvaney', 'hehuangcomedy', 'belatown', 'the_josemonkey', 'kelseymerritt', 'lydiawu_', 'adelhadis', 'lisaguo0819', 'emibemol', 'seventeen17_official', 'mikaylanogueira', 'jackyzhan0213', 'mssherry6', 'soybans', 'spencewuah', 'mariahandbill', 'itsari.aleise', 'elpanaarabe', 'worldstar', 'rominagafur', 'lelepons', 'mikailadancer', 'zoelaverne', 'joealbanese', 'soyjuanjoselv', 'donaldducc', 'brotherofcolor', 'watchmyhaircut_yt', 'juandemontrealoficial', 'lyrics', 'vasilvana1', 'taylorred', 'annaxsitar', 'crissa_ace', 'daniellecohn', 'jayprehistoricpets', 'daviddobrik', 'lgndfrvr', 'dobretwins', 'brycehall', 'kingkidjoshua', 'willywonkatiktok', 'dylanlemay', 'brentrivera', 'centro.especializado.dc', 'itsnastynaz', 'wren.eleanor', 'dontstopmeowing', 'jaykindafunny8', 'zacklugo', 'billyvsco', 'dermdoctor', 'overtime', 'peetmontzingo', 'adamw', 'joe.bartolozzi', 'barstoolsports', 'vhackerr', 'tooturnttony', 'spicyycam_', 'malutrevejo', 'jack.wright', 'sweetyhigh', 'megnutt02', 'beasteater', 'charlidamelio', 'mckenzibrooke', 'lala_sadii', 'suavexavier', 'nathandavisjrndj', 'lance210', 'bentellect', 'mmmjoemele', 'robbyandpenny', 'sophiat24', 'wewearcute', 'manu', 'splashtwinz', 'swagboyq', 'jarrettstod', 'itsavage', 'otakoyakisoba', 'marrkadams', 'anxietycouple', 'jostasy', 'iheartmemphis', 'candyken', 'topperguild', 'thatlittlepuff', 'baderalsafar', 'espn', 'houseofhighlights', 'tabithaswatosh', 'nba', 'the_mannii', 'abbieherbert', 'keemokazi', 'ashleynocera', 'jakeandrich', 'kingbach', 'aiki_kr', 'xoteam', 'keellyluu', 'gurrms0630', 'd.awning', 'tyshonlawrence', 'onlyjayus', 'meredithduxbury', 'egukin0', 'plastique_tiara', 'fujiiian', 'christinacpark', 'asianchipskylark', 'natalie.leee', 'hankgreen1', 'ongsquad', 'vlad.hoshin', 'lexibrookerivera', 'mirandasings', 'hellokitty', 'iam.joshuagarcia', 'taylorswift', 'benjikrol', 'addisonre', 'jasminechiswell', '_vector_', 'itskingchris', 'nianaguerrero', 'angryreactions', 'peytoncoffee', 'noahbeck', 'dixiedamelio', 'siennamae', 'michelle..wang', 'nikokatsuyoshi', 'jena', 'elliezeiler', 'blakegray', 'jackblack', 'drewbarrymore', 'gordonramsayofficial', 'meghantrainor', 'charlieputh', 'marshmello', 'tyga', 'snoopdogg', 'imkevinhart', 'therock', 'willsmith', 'vancityreynolds', 'justinbieber', 'nickiminaj', 'johnnyorlando', 'billieeilish', 'jlo', 'nattinatasha', 'karolg', 'iambeckyg', 'kyliejenner', 'jasonderulo', 'glowwithava', 'mikiraiofficial', 'bretmanrock', 'camilacabello', 'munchie.michelle', 'nickelodeon', 'lilnasx', 'mitchell', 'shingo_kad', 'blondebrunetteredhead', 'tedtoks', 'ninaawang4', 'bhumis488', 'catchagypsea', 'ash.reeeee', 'iqiyiofficial', 'hhuang821', 'juliagal_', 'allisonliang', 'kaelimaee', 'roses_are_rosie', 'bp_tiktok', 'kikakiim', 'poki', 'nychighlife', 'hyunaofficial', 'daniel.labelle', 'he1enfeng', 'yoleendadong', 'jeenie.weenie', 'bellapoarch', '_.gracechen._', 'kaz.mitchell', 'caelanisbaka', 'itsmerikimaru_', 'iqiyi_tw', 'moonbyul_2da', 'chaelincl', 'aespa_official', 'official_sunmi', 'itsjessibaby', 'official_wayv', 'mrnigelng', 'disneychannel', 'livbedumb', '_lana_2311', 'somi_official_', 'official_chungha', 'konnect_kangdaniel', 'jayparkisoverparty', 'rain.xix', 'iamhenry', 'viccc0912', 'miakhalifa', 'ingatylam', 'foodies', 'hooodjabi', 'aaronheyaaron', 'kavyaborra', 'ur_moon_girl', 'jiffpom', 'bts_official_bighit', 'bestdressed', 'txt.bighitent', 'N/A', 'friendstvofficial', 'qpark', 'arianagrande', 'mackenzieziegler', 'theestallion', 'itzyofficial', 'official_mamamoo', 'twice_tiktok_official', 'jacksonwang', 'ericnam', 'amberliu', 'noahschnapp', 'tiktok', 'girls', 'itsjojosiwa', 'N/A', 'shakira', 'lizzo', 'zachking', 'zhcyt', 'nickandsienna', 'rclbeauty101', 'sabrinacarpenter', 'tryguys', 'netflix', 'selenagomez', 'dojacat', 'sommerray', 'laurdiy', 'mileycyrus', 'lizzza', 'sofiedossi']}\n"
     ]
    }
   ],
   "source": [
    "#read in followers files\n",
    "import os\n",
    "import json\n",
    "\n",
    "folder_path = r\"C:\\Users\\ashle\\OneDrive\\School\\CS315_Project2\\CS315Project2-main\\raw_tiktokData\\following\"\n",
    "\n",
    "all_lists = []\n",
    "file_names = []\n",
    "\n",
    "for filename in os.listdir(folder_path):\n",
    "    if filename.endswith(\".json\"):\n",
    "        file_path = os.path.join(folder_path, filename)\n",
    "        \n",
    "        with open(file_path, 'r') as file:\n",
    "            try:\n",
    "                data = json.load(file)\n",
    "                all_lists.append(data)\n",
    "                file_names.append(filename)\n",
    "            except json.JSONDecodeError as e:\n",
    "                print(f\"Error loading JSON from {file_path}: {e}\")\n",
    "all_usernames = {}\n",
    "for index, (name, lst) in enumerate(zip(file_names, all_lists), start=1):\n",
    "    # print(f\"List {index} from file '{name}':\")\n",
    "    # print(lst)\n",
    "    # print(\"\\n\")\n",
    "    list_indv = []\n",
    "    for userlist in lst:\n",
    "        list_indv.append(userlist['UserName'])\n",
    "    all_usernames[name] =list_indv\n",
    "print(all_usernames)\n"
   ]
  },
  {
   "cell_type": "code",
   "execution_count": 8,
   "metadata": {},
   "outputs": [
    {
     "name": "stdout",
     "output_type": "stream",
     "text": [
      "There are 427 unique news accounts\n"
     ]
    }
   ],
   "source": [
    "# read in news account file\n",
    "import csv\n",
    "\n",
    "file_path = 'List of News Accounts (both sections) - news accounts.csv'  \n",
    "\n",
    "names = set()\n",
    "\n",
    "with open(file_path, 'r', newline='', encoding='utf-8') as csvfile:\n",
    "    reader = csv.DictReader(csvfile)\n",
    "    \n",
    "    for row in reader:\n",
    "        name = row['Username']\n",
    "        names.add(name.lower())\n",
    "\n",
    "print(f'There are {len(names)} unique news accounts')"
   ]
  },
  {
   "cell_type": "code",
   "execution_count": 27,
   "metadata": {},
   "outputs": [
    {
     "name": "stdout",
     "output_type": "stream",
     "text": [
      "Total number of Accounts in Sec02Gr1_90282.json: 265\n",
      "Total number of News Accounts: 0\n",
      " \n",
      "Total number of Accounts in Sec2Gr1_13395.json: 114\n",
      "Total number of News Accounts: 0\n",
      " \n",
      "Total number of Accounts in Sec2Gr1_20323.json: 120\n",
      "Total number of News Accounts: 1\n",
      " \n",
      "Total number of Accounts in Sec2Gr1_24149.json: 35\n",
      "Total number of News Accounts: 0\n",
      " \n",
      "Total number of Accounts in Sec2Gr1_33552.json: 107\n",
      "Total number of News Accounts: 0\n",
      " \n",
      "Total number of Accounts in Sec2Gr1_66169.json: 58\n",
      "Total number of News Accounts: 1\n",
      " \n",
      "Total number of Accounts in Sec2Gr1_82571.json: 289\n",
      "Total number of News Accounts: 1\n",
      " \n",
      "++++++++++ Total number of Accounts: 988 \n",
      "++++++++++ Total number of News Accounts: 3 \n"
     ]
    }
   ],
   "source": [
    "#compare lists\n",
    "total_person = {} # splits up how many of the news accounts is associated with which person \n",
    "total_news = 0\n",
    "total_accounts = 0\n",
    "for key, value in all_usernames.items():\n",
    "    count = 0\n",
    "    total_accounts += len(value)\n",
    "    for account in value:\n",
    "        if account in names:\n",
    "            count += 1\n",
    "    print(f'Total number of Accounts in {key}: {len(value)}')\n",
    "    print(f'Total number of News Accounts: {count}')\n",
    "    print(\" \")\n",
    "    total_news += count\n",
    "    total_person[key] = count\n",
    "\n",
    "print(f'++++++++++ Total number of Accounts: {total_accounts} ')\n",
    "print(f'++++++++++ Total number of News Accounts: {total_news} ')\n"
   ]
  },
  {
   "cell_type": "code",
   "execution_count": null,
   "metadata": {},
   "outputs": [],
   "source": []
  }
 ],
 "metadata": {
  "kernelspec": {
   "display_name": "base",
   "language": "python",
   "name": "python3"
  },
  "language_info": {
   "codemirror_mode": {
    "name": "ipython",
    "version": 3
   },
   "file_extension": ".py",
   "mimetype": "text/x-python",
   "name": "python",
   "nbconvert_exporter": "python",
   "pygments_lexer": "ipython3",
   "version": "3.9.13"
  }
 },
 "nbformat": 4,
 "nbformat_minor": 2
}
