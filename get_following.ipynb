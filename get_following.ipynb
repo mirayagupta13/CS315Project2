{
 "cells": [
  {
   "cell_type": "code",
   "execution_count": 2,
   "id": "d2c8883c",
   "metadata": {},
   "outputs": [],
   "source": [
    "import json\n",
    "import random\n"
   ]
  },
  {
   "cell_type": "code",
   "execution_count": 3,
   "id": "dc3ceea1",
   "metadata": {},
   "outputs": [],
   "source": [
    "def open_file(file, sec, gr):\n",
    "    \"\"\"\n",
    "    file: path name to TikTok user data, sec: CS 315 class section, gr: group number\n",
    "    \"\"\"\n",
    "    with open(file, 'r', encoding='utf-8') as inF:\n",
    "        data = json.load(inF)\n",
    "    browsed = data['Activity']['Following List']['Following']\n",
    "    print(\"Number of videos browsed:\", len(browsed))\n",
    "    #generate output file name with anonymous random number\n",
    "    out_name = f\"Sec{sec}Gr{gr}_{random.randrange(10000,100000)}.json\"\n",
    "    with open(out_name, 'w') as outF:\n",
    "        json.dump(browsed, outF)   "
   ]
  },
  {
   "cell_type": "code",
   "execution_count": 4,
   "id": "5fb8a040",
   "metadata": {},
   "outputs": [
    {
     "name": "stdout",
     "output_type": "stream",
     "text": [
      "Number of videos browsed: 35\n"
     ]
    }
   ],
   "source": [
    "#open_file('/Users/catherinefoster/Downloads/user_data.json', 2, 1)\n",
    "#open_file('/Users/audreyliang/Downloads/user_data.json', 2, 1)\n",
    "#open_file('/Users/mmezaki/Downloads/user_data.json', 2, 1)\n",
    "#open_file('/Users/jas/Downloads/user_data.json', 2, 1)"
   ]
  },
  {
   "cell_type": "code",
   "execution_count": null,
   "id": "ae9618e8",
   "metadata": {},
   "outputs": [],
   "source": []
  }
 ],
 "metadata": {
  "kernelspec": {
   "display_name": "Python 3 (ipykernel)",
   "language": "python",
   "name": "python3"
  },
  "language_info": {
   "codemirror_mode": {
    "name": "ipython",
    "version": 3
   },
   "file_extension": ".py",
   "mimetype": "text/x-python",
   "name": "python",
   "nbconvert_exporter": "python",
   "pygments_lexer": "ipython3",
   "version": "3.12.1"
  }
 },
 "nbformat": 4,
 "nbformat_minor": 5
}
