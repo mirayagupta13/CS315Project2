{
 "cells": [
  {
   "cell_type": "code",
   "execution_count": 1,
   "id": "2b598aa2-6f7b-4bda-a206-92738cb72868",
   "metadata": {},
   "outputs": [
    {
     "name": "stdout",
     "output_type": "stream",
     "text": [
      "/Users/audreyliang/cs315/CS315Project2/cs315project2datacollection/.project2/bin/python\n"
     ]
    }
   ],
   "source": [
    "import sys\n",
    "print(sys.executable)"
   ]
  },
  {
   "cell_type": "code",
   "execution_count": 2,
   "id": "dd5f3054-6cc6-4f72-94d6-6b83014b1069",
   "metadata": {},
   "outputs": [
    {
     "name": "stdout",
     "output_type": "stream",
     "text": [
      "Requirement already satisfied: tensorflow in /Users/audreyliang/cs315/CS315Project2/cs315project2datacollection/.project2/lib/python3.11/site-packages (2.16.1)\n",
      "Requirement already satisfied: tensorflow_hub in /Users/audreyliang/cs315/CS315Project2/cs315project2datacollection/.project2/lib/python3.11/site-packages (0.16.1)\n",
      "Requirement already satisfied: scikit-learn in /Users/audreyliang/cs315/CS315Project2/cs315project2datacollection/.project2/lib/python3.11/site-packages (1.4.1.post1)\n",
      "Requirement already satisfied: seaborn in /Users/audreyliang/cs315/CS315Project2/cs315project2datacollection/.project2/lib/python3.11/site-packages (0.13.2)\n",
      "Requirement already satisfied: plotly in /Users/audreyliang/cs315/CS315Project2/cs315project2datacollection/.project2/lib/python3.11/site-packages (5.20.0)\n",
      "Requirement already satisfied: nbformat in /Users/audreyliang/cs315/CS315Project2/cs315project2datacollection/.project2/lib/python3.11/site-packages (5.10.2)\n",
      "Requirement already satisfied: absl-py>=1.0.0 in /Users/audreyliang/cs315/CS315Project2/cs315project2datacollection/.project2/lib/python3.11/site-packages (from tensorflow) (2.1.0)\n",
      "Requirement already satisfied: astunparse>=1.6.0 in /Users/audreyliang/cs315/CS315Project2/cs315project2datacollection/.project2/lib/python3.11/site-packages (from tensorflow) (1.6.3)\n",
      "Requirement already satisfied: flatbuffers>=23.5.26 in /Users/audreyliang/cs315/CS315Project2/cs315project2datacollection/.project2/lib/python3.11/site-packages (from tensorflow) (24.3.7)\n",
      "Requirement already satisfied: gast!=0.5.0,!=0.5.1,!=0.5.2,>=0.2.1 in /Users/audreyliang/cs315/CS315Project2/cs315project2datacollection/.project2/lib/python3.11/site-packages (from tensorflow) (0.5.4)\n",
      "Requirement already satisfied: google-pasta>=0.1.1 in /Users/audreyliang/cs315/CS315Project2/cs315project2datacollection/.project2/lib/python3.11/site-packages (from tensorflow) (0.2.0)\n",
      "Requirement already satisfied: h5py>=3.10.0 in /Users/audreyliang/cs315/CS315Project2/cs315project2datacollection/.project2/lib/python3.11/site-packages (from tensorflow) (3.10.0)\n",
      "Requirement already satisfied: libclang>=13.0.0 in /Users/audreyliang/cs315/CS315Project2/cs315project2datacollection/.project2/lib/python3.11/site-packages (from tensorflow) (16.0.6)\n",
      "Requirement already satisfied: ml-dtypes~=0.3.1 in /Users/audreyliang/cs315/CS315Project2/cs315project2datacollection/.project2/lib/python3.11/site-packages (from tensorflow) (0.3.2)\n",
      "Requirement already satisfied: opt-einsum>=2.3.2 in /Users/audreyliang/cs315/CS315Project2/cs315project2datacollection/.project2/lib/python3.11/site-packages (from tensorflow) (3.3.0)\n",
      "Requirement already satisfied: packaging in /Users/audreyliang/cs315/CS315Project2/cs315project2datacollection/.project2/lib/python3.11/site-packages (from tensorflow) (24.0)\n",
      "Requirement already satisfied: protobuf!=4.21.0,!=4.21.1,!=4.21.2,!=4.21.3,!=4.21.4,!=4.21.5,<5.0.0dev,>=3.20.3 in /Users/audreyliang/cs315/CS315Project2/cs315project2datacollection/.project2/lib/python3.11/site-packages (from tensorflow) (4.25.3)\n",
      "Requirement already satisfied: requests<3,>=2.21.0 in /Users/audreyliang/cs315/CS315Project2/cs315project2datacollection/.project2/lib/python3.11/site-packages (from tensorflow) (2.31.0)\n",
      "Requirement already satisfied: setuptools in /Users/audreyliang/cs315/CS315Project2/cs315project2datacollection/.project2/lib/python3.11/site-packages (from tensorflow) (65.5.0)\n",
      "Requirement already satisfied: six>=1.12.0 in /Users/audreyliang/cs315/CS315Project2/cs315project2datacollection/.project2/lib/python3.11/site-packages (from tensorflow) (1.16.0)\n",
      "Requirement already satisfied: termcolor>=1.1.0 in /Users/audreyliang/cs315/CS315Project2/cs315project2datacollection/.project2/lib/python3.11/site-packages (from tensorflow) (2.4.0)\n",
      "Requirement already satisfied: typing-extensions>=3.6.6 in /Users/audreyliang/cs315/CS315Project2/cs315project2datacollection/.project2/lib/python3.11/site-packages (from tensorflow) (4.10.0)\n",
      "Requirement already satisfied: wrapt>=1.11.0 in /Users/audreyliang/cs315/CS315Project2/cs315project2datacollection/.project2/lib/python3.11/site-packages (from tensorflow) (1.16.0)\n",
      "Requirement already satisfied: grpcio<2.0,>=1.24.3 in /Users/audreyliang/cs315/CS315Project2/cs315project2datacollection/.project2/lib/python3.11/site-packages (from tensorflow) (1.62.1)\n",
      "Requirement already satisfied: tensorboard<2.17,>=2.16 in /Users/audreyliang/cs315/CS315Project2/cs315project2datacollection/.project2/lib/python3.11/site-packages (from tensorflow) (2.16.2)\n",
      "Requirement already satisfied: keras>=3.0.0 in /Users/audreyliang/cs315/CS315Project2/cs315project2datacollection/.project2/lib/python3.11/site-packages (from tensorflow) (3.0.5)\n",
      "Requirement already satisfied: tensorflow-io-gcs-filesystem>=0.23.1 in /Users/audreyliang/cs315/CS315Project2/cs315project2datacollection/.project2/lib/python3.11/site-packages (from tensorflow) (0.36.0)\n",
      "Requirement already satisfied: numpy<2.0.0,>=1.23.5 in /Users/audreyliang/cs315/CS315Project2/cs315project2datacollection/.project2/lib/python3.11/site-packages (from tensorflow) (1.26.4)\n",
      "Requirement already satisfied: tf-keras>=2.14.1 in /Users/audreyliang/cs315/CS315Project2/cs315project2datacollection/.project2/lib/python3.11/site-packages (from tensorflow_hub) (2.16.0)\n",
      "Requirement already satisfied: scipy>=1.6.0 in /Users/audreyliang/cs315/CS315Project2/cs315project2datacollection/.project2/lib/python3.11/site-packages (from scikit-learn) (1.12.0)\n",
      "Requirement already satisfied: joblib>=1.2.0 in /Users/audreyliang/cs315/CS315Project2/cs315project2datacollection/.project2/lib/python3.11/site-packages (from scikit-learn) (1.3.2)\n",
      "Requirement already satisfied: threadpoolctl>=2.0.0 in /Users/audreyliang/cs315/CS315Project2/cs315project2datacollection/.project2/lib/python3.11/site-packages (from scikit-learn) (3.3.0)\n",
      "Requirement already satisfied: pandas>=1.2 in /Users/audreyliang/cs315/CS315Project2/cs315project2datacollection/.project2/lib/python3.11/site-packages (from seaborn) (2.2.1)\n",
      "Requirement already satisfied: matplotlib!=3.6.1,>=3.4 in /Users/audreyliang/cs315/CS315Project2/cs315project2datacollection/.project2/lib/python3.11/site-packages (from seaborn) (3.8.3)\n",
      "Requirement already satisfied: tenacity>=6.2.0 in /Users/audreyliang/cs315/CS315Project2/cs315project2datacollection/.project2/lib/python3.11/site-packages (from plotly) (8.2.3)\n",
      "Requirement already satisfied: fastjsonschema in /Users/audreyliang/cs315/CS315Project2/cs315project2datacollection/.project2/lib/python3.11/site-packages (from nbformat) (2.19.1)\n",
      "Requirement already satisfied: jsonschema>=2.6 in /Users/audreyliang/cs315/CS315Project2/cs315project2datacollection/.project2/lib/python3.11/site-packages (from nbformat) (4.21.1)\n",
      "Requirement already satisfied: jupyter-core in /Users/audreyliang/cs315/CS315Project2/cs315project2datacollection/.project2/lib/python3.11/site-packages (from nbformat) (5.7.2)\n",
      "Requirement already satisfied: traitlets>=5.1 in /Users/audreyliang/cs315/CS315Project2/cs315project2datacollection/.project2/lib/python3.11/site-packages (from nbformat) (5.14.2)\n",
      "Requirement already satisfied: wheel<1.0,>=0.23.0 in /Users/audreyliang/cs315/CS315Project2/cs315project2datacollection/.project2/lib/python3.11/site-packages (from astunparse>=1.6.0->tensorflow) (0.43.0)\n",
      "Requirement already satisfied: attrs>=22.2.0 in /Users/audreyliang/cs315/CS315Project2/cs315project2datacollection/.project2/lib/python3.11/site-packages (from jsonschema>=2.6->nbformat) (23.2.0)\n",
      "Requirement already satisfied: jsonschema-specifications>=2023.03.6 in /Users/audreyliang/cs315/CS315Project2/cs315project2datacollection/.project2/lib/python3.11/site-packages (from jsonschema>=2.6->nbformat) (2023.12.1)\n",
      "Requirement already satisfied: referencing>=0.28.4 in /Users/audreyliang/cs315/CS315Project2/cs315project2datacollection/.project2/lib/python3.11/site-packages (from jsonschema>=2.6->nbformat) (0.33.0)\n",
      "Requirement already satisfied: rpds-py>=0.7.1 in /Users/audreyliang/cs315/CS315Project2/cs315project2datacollection/.project2/lib/python3.11/site-packages (from jsonschema>=2.6->nbformat) (0.18.0)\n",
      "Requirement already satisfied: rich in /Users/audreyliang/cs315/CS315Project2/cs315project2datacollection/.project2/lib/python3.11/site-packages (from keras>=3.0.0->tensorflow) (13.7.1)\n",
      "Requirement already satisfied: namex in /Users/audreyliang/cs315/CS315Project2/cs315project2datacollection/.project2/lib/python3.11/site-packages (from keras>=3.0.0->tensorflow) (0.0.7)\n",
      "Requirement already satisfied: dm-tree in /Users/audreyliang/cs315/CS315Project2/cs315project2datacollection/.project2/lib/python3.11/site-packages (from keras>=3.0.0->tensorflow) (0.1.8)\n",
      "Requirement already satisfied: contourpy>=1.0.1 in /Users/audreyliang/cs315/CS315Project2/cs315project2datacollection/.project2/lib/python3.11/site-packages (from matplotlib!=3.6.1,>=3.4->seaborn) (1.2.0)\n",
      "Requirement already satisfied: cycler>=0.10 in /Users/audreyliang/cs315/CS315Project2/cs315project2datacollection/.project2/lib/python3.11/site-packages (from matplotlib!=3.6.1,>=3.4->seaborn) (0.12.1)\n",
      "Requirement already satisfied: fonttools>=4.22.0 in /Users/audreyliang/cs315/CS315Project2/cs315project2datacollection/.project2/lib/python3.11/site-packages (from matplotlib!=3.6.1,>=3.4->seaborn) (4.50.0)\n",
      "Requirement already satisfied: kiwisolver>=1.3.1 in /Users/audreyliang/cs315/CS315Project2/cs315project2datacollection/.project2/lib/python3.11/site-packages (from matplotlib!=3.6.1,>=3.4->seaborn) (1.4.5)\n",
      "Requirement already satisfied: pillow>=8 in /Users/audreyliang/cs315/CS315Project2/cs315project2datacollection/.project2/lib/python3.11/site-packages (from matplotlib!=3.6.1,>=3.4->seaborn) (10.2.0)\n",
      "Requirement already satisfied: pyparsing>=2.3.1 in /Users/audreyliang/cs315/CS315Project2/cs315project2datacollection/.project2/lib/python3.11/site-packages (from matplotlib!=3.6.1,>=3.4->seaborn) (3.1.2)\n",
      "Requirement already satisfied: python-dateutil>=2.7 in /Users/audreyliang/cs315/CS315Project2/cs315project2datacollection/.project2/lib/python3.11/site-packages (from matplotlib!=3.6.1,>=3.4->seaborn) (2.9.0.post0)\n"
     ]
    },
    {
     "name": "stdout",
     "output_type": "stream",
     "text": [
      "Requirement already satisfied: pytz>=2020.1 in /Users/audreyliang/cs315/CS315Project2/cs315project2datacollection/.project2/lib/python3.11/site-packages (from pandas>=1.2->seaborn) (2024.1)\n",
      "Requirement already satisfied: tzdata>=2022.7 in /Users/audreyliang/cs315/CS315Project2/cs315project2datacollection/.project2/lib/python3.11/site-packages (from pandas>=1.2->seaborn) (2024.1)\n",
      "Requirement already satisfied: charset-normalizer<4,>=2 in /Users/audreyliang/cs315/CS315Project2/cs315project2datacollection/.project2/lib/python3.11/site-packages (from requests<3,>=2.21.0->tensorflow) (3.3.2)\n",
      "Requirement already satisfied: idna<4,>=2.5 in /Users/audreyliang/cs315/CS315Project2/cs315project2datacollection/.project2/lib/python3.11/site-packages (from requests<3,>=2.21.0->tensorflow) (3.6)\n",
      "Requirement already satisfied: urllib3<3,>=1.21.1 in /Users/audreyliang/cs315/CS315Project2/cs315project2datacollection/.project2/lib/python3.11/site-packages (from requests<3,>=2.21.0->tensorflow) (2.2.1)\n",
      "Requirement already satisfied: certifi>=2017.4.17 in /Users/audreyliang/cs315/CS315Project2/cs315project2datacollection/.project2/lib/python3.11/site-packages (from requests<3,>=2.21.0->tensorflow) (2024.2.2)\n",
      "Requirement already satisfied: markdown>=2.6.8 in /Users/audreyliang/cs315/CS315Project2/cs315project2datacollection/.project2/lib/python3.11/site-packages (from tensorboard<2.17,>=2.16->tensorflow) (3.6)\n",
      "Requirement already satisfied: tensorboard-data-server<0.8.0,>=0.7.0 in /Users/audreyliang/cs315/CS315Project2/cs315project2datacollection/.project2/lib/python3.11/site-packages (from tensorboard<2.17,>=2.16->tensorflow) (0.7.2)\n",
      "Requirement already satisfied: werkzeug>=1.0.1 in /Users/audreyliang/cs315/CS315Project2/cs315project2datacollection/.project2/lib/python3.11/site-packages (from tensorboard<2.17,>=2.16->tensorflow) (3.0.1)\n",
      "Requirement already satisfied: platformdirs>=2.5 in /Users/audreyliang/cs315/CS315Project2/cs315project2datacollection/.project2/lib/python3.11/site-packages (from jupyter-core->nbformat) (4.2.0)\n",
      "Requirement already satisfied: MarkupSafe>=2.1.1 in /Users/audreyliang/cs315/CS315Project2/cs315project2datacollection/.project2/lib/python3.11/site-packages (from werkzeug>=1.0.1->tensorboard<2.17,>=2.16->tensorflow) (2.1.5)\n",
      "Requirement already satisfied: markdown-it-py>=2.2.0 in /Users/audreyliang/cs315/CS315Project2/cs315project2datacollection/.project2/lib/python3.11/site-packages (from rich->keras>=3.0.0->tensorflow) (3.0.0)\n",
      "Requirement already satisfied: pygments<3.0.0,>=2.13.0 in /Users/audreyliang/cs315/CS315Project2/cs315project2datacollection/.project2/lib/python3.11/site-packages (from rich->keras>=3.0.0->tensorflow) (2.17.2)\n",
      "Requirement already satisfied: mdurl~=0.1 in /Users/audreyliang/cs315/CS315Project2/cs315project2datacollection/.project2/lib/python3.11/site-packages (from markdown-it-py>=2.2.0->rich->keras>=3.0.0->tensorflow) (0.1.2)\n",
      "\n",
      "\u001b[1m[\u001b[0m\u001b[34;49mnotice\u001b[0m\u001b[1;39;49m]\u001b[0m\u001b[39;49m A new release of pip is available: \u001b[0m\u001b[31;49m23.2.1\u001b[0m\u001b[39;49m -> \u001b[0m\u001b[32;49m24.0\u001b[0m\n",
      "\u001b[1m[\u001b[0m\u001b[34;49mnotice\u001b[0m\u001b[1;39;49m]\u001b[0m\u001b[39;49m To update, run: \u001b[0m\u001b[32;49mpython -m pip install --upgrade pip\u001b[0m\n",
      "Note: you may need to restart the kernel to use updated packages.\n"
     ]
    }
   ],
   "source": [
    "pip install tensorflow tensorflow_hub scikit-learn seaborn plotly nbformat"
   ]
  },
  {
   "cell_type": "code",
   "execution_count": 3,
   "id": "13c1b7aa-73e2-4b3c-b9a8-b04f75c89489",
   "metadata": {},
   "outputs": [],
   "source": [
    "import tensorflow as tf\n",
    "import tensorflow_hub as hub\n",
    "import numpy as np\n",
    "import pandas as pd"
   ]
  },
  {
   "cell_type": "code",
   "execution_count": 4,
   "id": "abd02bf8-f384-40e8-83dc-a0ed68975ba8",
   "metadata": {},
   "outputs": [],
   "source": [
    "\n",
    "import shutil\n",
    "import os\n",
    "\n",
    "# Load the Universal Sentence Encoder from TensorFlow Hub\n",
    "embed = hub.load(\"archive\")\n"
   ]
  },
  {
   "cell_type": "markdown",
   "id": "2aab7697-d611-4795-88eb-eeadd4f0294f",
   "metadata": {},
   "source": [
    "<a id=\"sec3\"></a>\n",
    "## 3. K-means clustering with word embeddings\n",
    "\n",
    "In lecture we showed the clustering for the TikTok hashtags collected from posts, but for connecting this section to the t-SNE visualization section below, we will show here the clustering for our own list of news hashtags."
   ]
  },
  {
   "cell_type": "code",
   "execution_count": 5,
   "id": "cea7e1c7",
   "metadata": {},
   "outputs": [
    {
     "name": "stdout",
     "output_type": "stream",
     "text": [
      "5547\n",
      "6474\n",
      "330\n",
      "12351\n"
     ]
    }
   ],
   "source": [
    "data_1 = pd.read_csv('overall_cosine_similarities.csv')\n",
    "print(len(data_1))\n",
    "data_2 = pd.read_csv('Sec2Gr3_74721_Scores.csv')\n",
    "print(len(data_2))\n",
    "data_3 = pd.read_csv('Sec2Gr3_77777_Scores.csv')\n",
    "print(len(data_3))\n",
    "all_data = pd.concat([data_1, data_2, data_3], ignore_index=True)\n",
    "all_data = all_data.drop(['Unnamed: 0.1', 'Unnamed: 0'], axis=1)\n",
    "all_data.to_csv('all_scores.csv', index = False)\n",
    "\n",
    "#descriptions = tiktok['suggested_words'].dropna().tolist()\n",
    "#descriptions\n",
    "#print(len(descriptions))\n",
    "\n",
    "print(len(all_data))\n",
    "\n",
    "\n",
    "\n"
   ]
  },
  {
   "cell_type": "code",
   "execution_count": 6,
   "id": "bc48ff14",
   "metadata": {},
   "outputs": [
    {
     "name": "stdout",
     "output_type": "stream",
     "text": [
      "                  video_id  video_date  \\\n",
      "9      7293175043465497889  2023-10-23   \n",
      "25     7311666439058902302  2023-12-12   \n",
      "119    7312359756113464583  2023-12-14   \n",
      "178    7314025496369483051  2023-12-18   \n",
      "196    7314046288532688160  2023-12-18   \n",
      "...                    ...         ...   \n",
      "12210  7308378375125585198  2023-12-03   \n",
      "12263  7302220369732259118  2023-11-16   \n",
      "12316  7308223637524319530  2023-12-02   \n",
      "12344  7304755085349784875  2023-11-23   \n",
      "12345  7304042883231796522  2023-11-21   \n",
      "\n",
      "                                       video_description  \\\n",
      "9      things ex staff said about kpop idols pt k pop...   \n",
      "25     part hand over all your movie film series show...   \n",
      "119                               have an urmo christmas   \n",
      "178                                         nwrd chicken   \n",
      "196    the thailand tsunami resulted from a magnitude...   \n",
      "...                                                  ...   \n",
      "12210     spanish king the boyz tbz kpop k pop fy p eric   \n",
      "12263  these olaplex holiday kits are my favorite gif...   \n",
      "12316  just taemin casually taking foot long steps ta...   \n",
      "12344  best mexican thanksgiving turkey thanksgiving ...   \n",
      "12345  pumpkin pie pumpkin pie thanksgiving plates fr...   \n",
      "\n",
      "                                         suggested_words  cos_score  \\\n",
      "9                                                    NaN   0.553455   \n",
      "25                                                   NaN   0.604250   \n",
      "119                                                  NaN   0.600661   \n",
      "178    n chicken chicken meals without permission chi...   0.565047   \n",
      "196    sea retreating before tsunami boxing day tsuna...   0.601743   \n",
      "...                                                  ...        ...   \n",
      "12210                                                NaN   0.570069   \n",
      "12263                                                NaN   0.644740   \n",
      "12316  sherlock shinee oh im curious yeah shinee mma ...   0.581785   \n",
      "12344                                                NaN   0.645523   \n",
      "12345                                                NaN   0.685900   \n",
      "\n",
      "                                                headline headline_type  \\\n",
      "9            blackpink and the limits of kpop maximalism           NaN   \n",
      "25     the best movies and tv shows coming to netflix...       Culture   \n",
      "119                                  go ham on christmas        Dining   \n",
      "178    chicken run dawn of the nugget review chickens...       Weekend   \n",
      "196    powerful earthquake strikes eastern philippine...       Express   \n",
      "...                                                  ...           ...   \n",
      "12210            jung kook bts and english language kpop       Culture   \n",
      "12263       for the holidays these may be the best gifts          OpEd   \n",
      "12316            jung kook bts and english language kpop       Culture   \n",
      "12344  get ahead on thanksgiving with this makeahead ...        Dining   \n",
      "12345  the best storebought thanksgiving pie crust st...        Dining   \n",
      "\n",
      "       headline_genre  \n",
      "9                 NaN  \n",
      "25                NaN  \n",
      "119               NaN  \n",
      "178               NaN  \n",
      "196               NaN  \n",
      "...               ...  \n",
      "12210             NaN  \n",
      "12263             NaN  \n",
      "12316             NaN  \n",
      "12344             NaN  \n",
      "12345             NaN  \n",
      "\n",
      "[732 rows x 8 columns]\n"
     ]
    },
    {
     "data": {
      "text/plain": [
       "732"
      ]
     },
     "execution_count": 6,
     "metadata": {},
     "output_type": "execute_result"
    }
   ],
   "source": [
    "def generate_video_list():\n",
    "    # Read the CSV file containing cosine similarities\n",
    "    df = pd.read_csv(\"all_scores.csv\")\n",
    "    df = df[df['cos_score'].notnull()]\n",
    "    # Pandas DF Cols: video id, description, similarities\n",
    "    df = df.sort_values(by=['cos_score'], ascending=False)\n",
    "    return df\n",
    "data = generate_video_list()\n",
    "df = all_data[all_data['cos_score'] > 0.55]\n",
    "df = df.dropna(subset=['video_description'])\n",
    "print(df)\n",
    "len(df)"
   ]
  },
  {
   "cell_type": "code",
   "execution_count": 7,
   "id": "2c67f4f5",
   "metadata": {},
   "outputs": [],
   "source": [
    "\n",
    "Embed = embed(df['video_description'])\n"
   ]
  },
  {
   "cell_type": "code",
   "execution_count": 8,
   "id": "9f7e284f",
   "metadata": {},
   "outputs": [],
   "source": [
    "import matplotlib.pyplot as plt\n",
    "def elbowMethod(embeddings, maxK):\n",
    "    \"\"\"\n",
    "    Implements the Elbow method for finding most optimal k.\n",
    "    It keeps track of a measure named \"inertia\" for each cluster.\n",
    "    \"\"\"\n",
    "    sumSquaredDistances = []\n",
    "    kValues = list(range(1, maxK))\n",
    "    for k in kValues:\n",
    "        km = KMeans(n_clusters=k, random_state=42)\n",
    "        km = km.fit(embeddings)\n",
    "        sumSquaredDistances.append(km.inertia_)\n",
    "    \n",
    "    # plot the line to identify the elbow\n",
    "    plt.plot(kValues, sumSquaredDistances, 'ro-')\n",
    "    plt.xlabel('k')\n",
    "    plt.xticks(kValues)\n",
    "    plt.ylabel('Sum of squared distances')\n",
    "    plt.title('Elbow Method For Optimal k')\n",
    "    plt.show()"
   ]
  },
  {
   "cell_type": "code",
   "execution_count": 67,
   "id": "6dc551e0",
   "metadata": {},
   "outputs": [
    {
     "data": {
      "image/png": "[encoded data removed]",
      "text/plain": [
       "<Figure size 640x480 with 1 Axes>"
      ]
     },
     "metadata": {},
     "output_type": "display_data"
    }
   ],
   "source": [
    "elbowMethod(Embed, 15)"
   ]
  },
  {
   "cell_type": "code",
   "execution_count": 68,
   "id": "361adbd4",
   "metadata": {},
   "outputs": [
    {
     "name": "stdout",
     "output_type": "stream",
     "text": [
      "For n_clusters = 2, the silhouette score is 0.09508725255727768\n",
      "For n_clusters = 3, the silhouette score is 0.12282650172710419\n",
      "For n_clusters = 4, the silhouette score is 0.1334332674741745\n",
      "For n_clusters = 5, the silhouette score is 0.1076638400554657\n",
      "For n_clusters = 6, the silhouette score is 0.10829073190689087\n",
      "For n_clusters = 7, the silhouette score is 0.1085471585392952\n",
      "For n_clusters = 8, the silhouette score is 0.09768131375312805\n",
      "For n_clusters = 9, the silhouette score is 0.10691464692354202\n",
      "For n_clusters = 10, the silhouette score is 0.10878027975559235\n",
      "For n_clusters = 11, the silhouette score is 0.09446075558662415\n",
      "For n_clusters = 12, the silhouette score is 0.09754897654056549\n",
      "The optimal number of clusters based on silhouette score is: 4\n"
     ]
    }
   ],
   "source": [
    "from sklearn.metrics import silhouette_score\n",
    "from sklearn.cluster import KMeans\n",
    "\n",
    "# Assuming 'X' is your data matrix\n",
    "# Decide the range of k values you want to evaluate\n",
    "range_n_clusters = [2, 3, 4, 5, 6, 7, 8, 9, 10, 11, 12]\n",
    "\n",
    "# Initialize an empty list to store the silhouette scores\n",
    "silhouette_avg_scores = []\n",
    "\n",
    "# Calculate silhouette scores for different cluster counts\n",
    "for n_clusters in range_n_clusters:\n",
    "    # Initialize the KMeans object with n_clusters value and a random state for reproducibility\n",
    "    clusterer = KMeans(n_clusters=n_clusters, random_state=42)\n",
    "    cluster_labels = clusterer.fit_predict(Embed)\n",
    "    \n",
    "    # The silhouette_score gives the average value for all the samples\n",
    "    silhouette_avg = silhouette_score(Embed, cluster_labels)\n",
    "    silhouette_avg_scores.append(silhouette_avg)\n",
    "    print(f\"For n_clusters = {n_clusters}, the silhouette score is {silhouette_avg}\")\n",
    "\n",
    "# Find the number of clusters that has the maximum silhouette score\n",
    "optimal_n_clusters = range_n_clusters[silhouette_avg_scores.index(max(silhouette_avg_scores))]\n",
    "print(f\"The optimal number of clusters based on silhouette score is: {optimal_n_clusters}\")\n"
   ]
  },
  {
   "cell_type": "markdown",
   "id": "9da04f34-32e6-4cb6-9861-f5deec14d99b",
   "metadata": {},
   "source": [
    "**Step 2: Perform clustering with a fixed k value**\n",
    "\n",
    "For this time, we will perform clustering with k=15. The code will take a few seconds (or more) to run:"
   ]
  },
  {
   "cell_type": "code",
   "execution_count": 9,
   "id": "e00d57f6-be4d-49f1-a224-e15de04cc4b4",
   "metadata": {},
   "outputs": [],
   "source": [
    "from sklearn.cluster import KMeans\n",
    "\n",
    "# Assuming Embed is your embedding matrix and df is your DataFrame\n",
    "k = 9  # number of clusters\n",
    "kmeans = KMeans(n_clusters=k, random_state=42)\n",
    "clusters = kmeans.fit_predict(Embed)\n",
    "\n",
    "# Before splitting and assigning, ensure df is a standalone DataFrame\n",
    "\n"
   ]
  },
  {
   "cell_type": "markdown",
   "id": "0b9a5c21-8759-4fc9-8072-b2634209abfa",
   "metadata": {},
   "source": [
    "**Step 1: Run the TSNE algorithm**"
   ]
  },
  {
   "cell_type": "code",
   "execution_count": 17,
   "id": "3bab1c9d-abcb-4a25-9eef-7d07f28fbcae",
   "metadata": {},
   "outputs": [
    {
     "name": "stdout",
     "output_type": "stream",
     "text": [
      "115\n",
      "149\n",
      "81\n",
      "109\n",
      "67\n",
      "108\n",
      "33\n",
      "33\n",
      "37\n"
     ]
    }
   ],
   "source": [
    "\n",
    "import pandas as pd\n",
    "from sklearn.manifold import TSNE\n",
    "\n",
    "# Run t-SNE for dimensionality reduction on the combined embeddings\n",
    "tsne = TSNE(n_components=2, random_state=42)\n",
    "tsne_results = tsne.fit_transform(Embed)\n",
    "\n",
    "# Initialize the t-SNE DataFrame\n",
    "tsne_df = pd.DataFrame(tsne_results, columns=['tsne_1', 'tsne_2'])\n",
    "df = df.reset_index(drop=True)\n",
    "df2 = pd.DataFrame(tsne_results, columns=['tsne_1', 'tsne_2'])\n",
    "df2['description'] = df['video_description']\n",
    "df2['cluster'] = clusters # the cluster indices where each news hashtags belong\n",
    "df2\n",
    "print(len(df2[df2['cluster']==0]))\n",
    "print(len(df2[df2['cluster']==1]))\n",
    "print(len(df2[df2['cluster']==2]))\n",
    "print(len(df2[df2['cluster']==3]))\n",
    "print(len(df2[df2['cluster']==4]))\n",
    "print(len(df2[df2['cluster']==5]))\n",
    "print(len(df2[df2['cluster']==6]))\n",
    "print(len(df2[df2['cluster']==7]))\n",
    "print(len(df2[df2['cluster']==8]))"
   ]
  },
  {
   "cell_type": "code",
   "execution_count": 21,
   "id": "649ac272",
   "metadata": {},
   "outputs": [
    {
     "data": {
      "application/vnd.plotly.v1+json": {
       "config": {
        "plotlyServerURL": "https://plot.ly"
       },
       "data": [
        {
         "customdata": [
          [
           "things ex staff said about kpop idols pt k pop k pop fy p k pop viral viral k pop facts w nc ts lesser a fim black pink bts ive it zy un flop me"
          ],
          [
           "part hand over all your movie film series show movies netflix u"
          ],
          [
           "have an urmo christmas"
          ],
          [
           "nwrd chicken"
          ],
          [
           "the thailand tsunami resulted from a magnitude undersea earthquake near sumatra indonesia with a staggering toll of over across countries it ranks among the deadliest natural disasters the colossal waves reaching heights of up to feet devastated coastal areas emphasizing the need for improved early warning systems tsunamis are whispers of the sea turning into roars that rewrite the shoreline of existence patricia robin woodruff ocean thailand explore nature"
          ],
          [
           "hahhaa thinking of the duck song"
          ],
          [
           "comedy family crowd work comedian"
          ],
          [
           "viral funny"
          ],
          [
           "podcast pov"
          ],
          [
           "one of the funniest iconic laughs ive ever heard j in seok j in bts bts official big hit bts army k pop fy p k pop"
          ],
          [
           "princess cruises trip disaster princess cruises"
          ],
          [
           "just drop the album please kanye west vulture northwest ye"
          ],
          [
           "christmas"
          ],
          [
           "god made men then gave taemin as an apology taemin concert taemin meta morph shinee taemin taemin mak nae taemin the cutest boy taemin t tae m tae minnie dancing machine taemin baby cheese taemin fairy prince taemin pi we rful taemin we are shining shinee everyday is shinee day piece of shine the princes of k pop shinee is back shinee shaw ol shinee x shaw ol shaw ol forever shinee forever hi nee shinee ot bling bling shinee shinee ot nd generation k pop lee taemin"
          ],
          [
           "comedy corm dian stand up funny"
          ],
          [
           "comedy racism funny comedian"
          ],
          [
           "andre braugher star of brooklyn ninenine and homicide life on the street died at age cnn brooklyn"
          ],
          [
           "comedy funny moments funny videos"
          ],
          [
           "get em while they last black friday sale black friday gift ideas gift"
          ],
          [
           "part reddit stories story time viral food"
          ],
          [
           "i found more phd student grad school academia college stem tok"
          ],
          [
           "during opening statements at young thugs ysl rico trial in atlanta his lawyer explained that thug was a faithbased acronym with personal meaning to his client truly humble under god"
          ],
          [
           "replying to mackenziebuote blanket blank ie tik tok black friday sale black friday haul tic tok shopping"
          ],
          [
           "am i not loved thanksgiving"
          ],
          [
           "comedy nfl comedian crowd work"
          ],
          [
           "thanksgiving happy thanksgiving low quality memes funny"
          ],
          [
           "happy thanksgiving yall thanksgiving family old row"
          ],
          [
           "funny snl"
          ],
          [
           "stitch with danicarose ugc creator la barbcao taste test would you try it food critic"
          ],
          [
           "me and ken"
          ],
          [
           "digesting our thanksgiving dinner"
          ],
          [
           "deer so who we hiding from deer hiding scared jump"
          ],
          [
           "dancing turkey happy thanksgiving thanksgiving dancing turkey fy p"
          ],
          [
           "fall guys fall guys"
          ],
          [
           "hmm"
          ],
          [
           "lmaooo thanksgiving on the train nyc is really a stimulation thanksgiving cooking"
          ],
          [
           "brooklyn brooklyn nine nine tv show tv series film movie"
          ],
          [
           "this is who i am turkey thanksgiving cake baking thursdays"
          ],
          [
           "brooklyn brooklyn nine nine tv show tv series film movie"
          ],
          [
           "thank you for the all the laughs you gave us truly are a comic genius always my favourite you are always in our hearts matthew perry chandler bing you will be missed funny moments friends tv show"
          ],
          [
           "watch out witch belicia"
          ],
          [
           "save this for the best black friday sales black friday black friday sale holiday shopping black friday deals skims abercrombie zara fall fashion trends thanksgiving saving money"
          ],
          [
           "wild supermodel sighting com dey comedian humor stand up stand up comedy stand up comedian tom segura tom segura comedy"
          ],
          [
           "colin jost and michael che swap jokes part snl weekend update comedy funny"
          ],
          [
           "your telling me a shrimp de aaron fox is my goat dope shrimp"
          ],
          [
           "dont cross lois this halloween youll regret it family guy candy trick or treat"
          ],
          [
           "snl saturday night live weekend update colin jost michael che"
          ],
          [
           "friends tv show friends reunion matthew perry rip matthew perry matt leblanc david schwimmer lisa kudrow courteney cox jennifer aniston"
          ],
          [
           "brooklyn brooklyn nine nine tv show tv series film movie"
          ],
          [
           "rest in piece matthew friends chandler chandler friends matthew perry"
          ],
          [
           "snl saturday night live weekend update colin jost michael che"
          ],
          [
           "get the pumpkin in the middle"
          ],
          [
           "brooklyn brooklyn nine nine tv show tv series film movie"
          ],
          [
           "snl saturday night live weekend update colin jost michael che"
          ],
          [
           "haunted house"
          ],
          [
           "make it a habit to ask each other introspective questions conversation starters love of my life romance"
          ],
          [
           "part story time longer videos reddit stories love you so re tik"
          ],
          [
           "space"
          ],
          [
           "brooklyn brooklyn nine nine tv show tv series film movie"
          ],
          [
           "part story time story"
          ],
          [
           "i love mac and cheese cooking"
          ],
          [
           "pumpkin"
          ],
          [
           "zombie zombie love halloween halloween mischief never too late why not dont be so serious"
          ],
          [
           "halloween spooky season"
          ],
          [
           "with potatoes and some meat i can make a delicious dinner cooking recipe easy recipe quick recipes meat potato dinner"
          ],
          [
           "day in nyc and im already full nyc nyc food review tik tok food"
          ],
          [
           "the grumpiest snake ever"
          ],
          [
           "dumpling fried rice easy recipe dumpling fried rice recipe korean food"
          ],
          [
           "lmaoo idk whats going on here but im all for it ht boxingworldfansig boxing boxing tok boxing"
          ],
          [
           "first date pt"
          ],
          [
           "another dating nightmare dating arranged marriage story time"
          ],
          [
           "good vs bad first date vibe mens dating dating coach"
          ],
          [
           "i am speechless after tonight omg taylor swift swift tok eras tour taylor nation swift ie the eras tour taylors version taylors version taylors version vault buenos a i rests the eras tour travis kel ce chiefs travis kel ce taylor swift"
          ],
          [
           "taylor loves argentinaaa taylor swift taylor swift argentina"
          ],
          [
           "happy halloweekend from my friends to yours tik tok halloween halloween"
          ],
          [
           "grwm for heidi klum halloween party"
          ],
          [
           "new month new look halloween halloween spirit halloween decor"
          ],
          [
           "keith lee you did something with this my sister doesnt even like chipotle chi pot le"
          ],
          [
           "he is not a jackolantern lewis not a jack o lantern my name is lewis target halloween lewis target"
          ],
          [
           "lasagna recipe best lasagna so good so yum lasagna baked lasagna"
          ],
          [
           "lasagnaaaa food tok lasagna rao s dinner pasta"
          ],
          [
           "my lasagna recipe cooking recipes"
          ],
          [
           "friends mathew perry friends mathew perry sad c his me time news"
          ],
          [
           "uhhhhh halloween scream"
          ],
          [
           "immediate yes send this to your bestie to let them know its time for a coffee date honeydew donuts pumpkin spice pumpkin season pumpkin latte pumpkin coffee coffee shop coffee new ne gland coffee tik tok new england food new england fall ps l pumpkin spice latte friendship goals best ie"
          ],
          [
           "wallet empty stomach full nyc nyc eats nyc food"
          ],
          [
           "smashing pumpkins vlog pt october fall halloween pumpkin v log"
          ],
          [
           "i am not a jackolantern my name is lewis move over jack skellington theres a new pumpkin king in town this halloween season and hes feet tall halloween lewis pumpkin viral"
          ],
          [
           "im just lewis lewis im just ken song spooky halloween im just lewis not a jack o lantern sad story"
          ],
          [
           "lets take some pictures for mcqueen"
          ],
          [
           "hi my dear children willy wonka"
          ],
          [
           "lewis the pumpkin"
          ],
          [
           "after the recent article about the toxic environment that goes on behindthescenes at the tonight show with jimmy fallon this time that martin short called jimmy a phony makes more sense now tonight show jimmy fallon martin short steve martin the tonight show the tonight show starring jimmy fallon the tonight show with jimmy fallon interview phony phony ppl funny news comedy video entertainment allegations"
          ],
          [
           "the best part was the end the little mermaid aw kwa fina she can tsing ariel halle bailey fy p"
          ],
          [
           "asking harvard students about their dream schools student college harvard harvard university manon the street street interview"
          ],
          [
           "soooo good dc anna olivia rodrigo guts guts tour love is em baras sing l ivies l ivies hq olivia rodrigo guts"
          ],
          [
           "my low patience gets the best of me rel a table barbie s preminger barbie preminger preminger tok memes funny real edit viral reality barbie movies barbie preminger barbie memes"
          ],
          [
           "my favorite barbie princess fr preminger preminger edit barbie barbie out of context barbie movies princess and the pauper"
          ],
          [
           "asking mit students about their dream schools student college mit massachusetts institute of technology manon the street street interview"
          ],
          [
           "mrs dukakis confronts mrs josiah about the volume of her class to which unsavory personal attacks escalate barbie bela town drama real housewives full episode"
          ],
          [
           "pumpkin spice makeup pumpkin spice fall makeup makeup beauty"
          ],
          [
           "everyone knows about arabica vs robusta right get a coffee on peets on peets coffee sponsored peet s coffee disloyalty program corporate w fh coworker coffee addict"
          ],
          [
           "students at wellesley college voted in favor of opening admission to all nonbinary and transgender applicants including trans men news politics lgbt qi a"
          ],
          [
           "replying to alois sasha turns out i was wrong you can have both narcolepsy chronic sleep disorder sleep apnea rant story time"
          ],
          [
           "this is my white whale wbc pr vs dr puerto rico boricua"
          ],
          [
           "september th"
          ],
          [
           "guts out now"
          ],
          [
           "margot robbie punched an actor on the barbie set barbie barbie doll barbie style barbie movie margot robbie"
          ],
          [
           "the eras tour has been the most meaningful electric experience of my life so far and im overjoyed to tell you that itll be coming to the big screen soon starting oct th youll be able to experience the concert film in theaters in north america tickets are on sale now at amctheatrescom eras attire friendship bracelets singing and dancing encouraged lgb iykyk"
          ],
          [
           "part another shocking revelation is uncovered and this time brandon is the culprit bela town drama barbie"
          ],
          [
           "part dreyas wedding is disrupted by a shocking revelation about sarah bela town drama barbie real housewives"
          ],
          [
           "digging into bela town lore part two so that you can understand the picture a little more drama barbie elsa"
          ],
          [
           "digging into the lore of bela town so you can have a better picture of the portrait barbie drama"
          ],
          [
           "the dress is ready matka slayed im shook see u soon"
          ],
          [
           "will gordon approve my cooking gordon ramsay"
          ],
          [
           "give jah all the thanks and praises for this video of yg marley with his dad rohan marley at the bob marley one love miami premiere after party bob marley movie one love movie"
          ],
          [
           "an artist and his muse memphis bbq chicken"
          ],
          [
           "told him we were doing a reg fit check he played it off nicely tho han golden bachelor bachelorette regular behavior golden bachelor wedding"
          ],
          [
           "a season of the bachelor like youve never seen before starts monday at c on abc are you ready"
          ],
          [
           "where did we land on this green screen the bachelor joey g razia dei maria georg as"
          ],
          [
           "never been a big fan of the bachelor but im freaking out why is he so hot"
          ],
          [
           "replying to megannmackk this season has me so ready for more monday nights scene r the bachelor bachelor nation relationship long distance"
          ],
          [
           "we are not mean girls but"
          ],
          [
           "this was so encouraging the hate is completely worth it has been fully silenced in my mind i hope thid encourages yall as well to stay focused super bowl nfl chiefs ers sunday night football travis kel ce taylor swift"
          ],
          [
           "kim kardashian just dropped skk n kim kardashian makeup beauty"
          ],
          [
           "a dream lip combo right here omg skk n kim kardashian makeup beauty"
          ],
          [
           "i miss my mutual guys free bela town nicki minaj bela town megan the e stallion"
          ],
          [
           "nicki minaj black tik tok viral megan the e stallion"
          ],
          [
           "bruh dont mess w the barbs nicki minaj megan the e stallion bela delgado m elly mike"
          ],
          [
           "nicki minaj megan the e stallion pink friday explore page explore bela town his s nicki minaj edit megan the e stallion"
          ],
          [
           "my love"
          ],
          [
           "if he wanted to he would lets stop making excuses for men chemical x podcast relationship advice"
          ],
          [
           "i meannnn at least ill have plenty of leftovers"
          ],
          [
           "i love you more than the chocolate tip of a drumstick drumstick po oki e valentines day valentine"
          ],
          [
           "bigfoot nicki minaj kelsey s revenge"
          ],
          [
           "duet with bela delgado megan the e stallion yall already know the truth is the truth no matter who tells it nicki minaj drop barz not posts i dc speak your truth his s"
          ],
          [
           "duet with bela delgado megan the e stallion green screen nicki minaj"
          ],
          [
           "my thoughts on the grammys"
          ],
          [
           "i dont get why people are so upset ive heard this said more than one time yall just choose who to be mad at more bellatown nicki minaj bela town bella town fy pppppppp pppppppp pppp ppp"
          ],
          [
           "billie e il ish and finn e as sing what was i made for from barbie at the grammys grammys barbie movie"
          ],
          [
           "really tho viral"
          ],
          [
           "merry christmass guyss dance christmas santa"
          ],
          [
           "she is nooot happy with whatever is going on in this convo swift tok taylor swift swift ie"
          ],
          [
           "i could dance through a wall when mariah carey hits that high note christmas its time tis the season christmas tok"
          ],
          [
           "i heard were bringjng back nonnas christmas village christmas christmas tik tok christmas village"
          ],
          [
           "miss princess princess diana princess niki minaj ice spice"
          ],
          [
           "netanyahu screaming into his pillow rn free palestine free gaza"
          ],
          [
           "there is no such thing as diva down george santos cameo santos diva down"
          ],
          [
           "the iof and israeli government have grown so desperate that they are arresting palestinian civilians and pretending like they captured h what theyre doing is inhumane and disgusting we need to continue calling our reps and demanding a ceasefire gaza palestine free palestine"
          ],
          [
           "thats all palestine watermelon"
          ],
          [
           "this is is just my experience right now love you jewish american free palestine"
          ],
          [
           "comin like a storm into ur town"
          ],
          [
           "youll see her face in every place including in the cant catch me now music video out now on olivias youtube olivia rodrigo new music the hunger games"
          ],
          [
           "ion kno nun about thattt thanksgiving"
          ],
          [
           "sorry i got a bit heated but im tired of this narrative being pushed h highschool musical"
          ],
          [
           "jerusalem palestinians free palestine fa last in eyes"
          ],
          [
           "happy thanksgiving i love you"
          ],
          [
           "asking mit students how they got into mit mit ivy league college"
          ],
          [
           "asking mit students about their dream schools student college mit massachusetts institute of technology manon the street street interview"
          ],
          [
           "taylor swift swift tok taylor nation swift ie tik tok swift to ker swift to ks swift like taylor taylor swift lover time magazine cover time magazine person of the year time maga zone taylor swift kelly clarkson and taylor swift paul mccartney and taylor swift taylor swift and stevie nicks"
          ],
          [
           "taylor swift is a super human run tok running tik tok half marathon training runner girl taylor swift taylor swifter as tour times person of the year"
          ],
          [
           "prove me right swifties what is it piano taylor swift swift ies"
          ],
          [
           "taylor swift calls out kim kardashian in her interciew for times person of the year"
          ],
          [
           "taylor swift swift tok swift ie spot if y spot if y wrapped"
          ],
          [
           "now hes telling the truth here george santos george santos cameo slay"
          ],
          [
           "the three things im most thankful for eduwoes"
          ],
          [
           "thanksgiving black thanksgiving"
          ],
          [
           "hes a bad man hes a bad man hes a bad man but hes a hot man the ballad of songbirds and snakes president snow corio la nuss now"
          ],
          [
           "im not"
          ],
          [
           "she was feeling herself beyonce award show performance viral"
          ],
          [
           "christmas decorations arent supposed to be classy"
          ],
          [
           "ballad of songbirds and snakes is out now this was a dream to work on hunger games hunter schafer rachel ze g ler lionsgate partner"
          ],
          [
           "finished by during the previews didnt quite make it to the epilogue hunger games ballad of songbirds and snakes amc corio la nuss now"
          ],
          [
           "the coastline of gaza has been absolutely decimated in such a short amount of time this is horrific to watch"
          ],
          [
           "replying to amryn_d youre losing me from the other perspective this was a tricky one taylor swift taylor nation swift ies you re losing me you re losing me taylor swift"
          ],
          [
           "apparently anesthesia turns me into katniss hunger games mocking jay kat n is s kat n is sever de en ballad of songbirds and snakes the ballad of songbirds and snakes president snow surgery anesthesia funny weird jennifer lawrence movie quotes acting catching fire"
          ],
          [
           "taylor swift t swift taylors version ranking taylor swift songs trend tolerate it illicit affairs the eras tour taylor swift bracket"
          ],
          [
           "sue me for having a life heres a look back at george santos greatest hits during his time in congress santos was expelled from the house on friday george santos republicans congress politics"
          ],
          [
           "fox news jesse watters criticized president joe biden for using a straw"
          ],
          [
           "and they were all filmed in the cleaning cart swift ie swift ies swift ok swift tok taylors vault taylor swift spot if y wrapped spot if y wrapped b bmas speak now taylors version taylor swift taylor nation ts the eras tour spotify"
          ],
          [
           "thanksgiving dinner with grandmaand aunts uncles and cousins fam bam we hungry family dinner southern cooking grandma thanksgiving"
          ],
          [
           "nah f this im off the hunger games corio la nuss now th g"
          ],
          [
           "claritys in death but im still at the restaurant sitting in a corner i haunt taylor nation taylor swift swift ie"
          ],
          [
           "peep the bandana lmfaoooo anyway free palestine us representatives palestine"
          ],
          [
           "i hope they play this at his funeral clip mash henry kissinger"
          ],
          [
           "taylor even controls the tiktok filters help taylor swift the eras tour surprise songs"
          ],
          [
           "black friday deals"
          ],
          [
           "and hed still ask what are we the hunger games the ballad of songbirds and snakes"
          ],
          [
           "not my usual style of singing but i cannot stop listening to the the hunger games tboss album right now and this song captures the book so well the hunger games olivia rodrigo the hunger games the balled of songbirds lucy gray baird corio la nuss now kat n is sever de en the ballad of songbirds and snakes"
          ],
          [
           "this is what i need from everyone who had taylor on their spotify wrapped this year green screen spot if y wrapped taylor swift"
          ],
          [
           "and i will not be taking criticism because i know true joy and the haters do not swift ie taylor swift is it over now"
          ],
          [
           "jack antonoff just dropped a taylor swift swift tok eras tour taylor nation swift ie the eras tour taylors version taylors version taylors version vault travis kel ce chiefs travis kel ce taylor swift folklore tolerate it"
          ],
          [
           "hunger games you"
          ],
          [
           "all my favs taylor swift noah kahan maisie peters hozier olivia rodrigo taylor swift swift tok spot if y wrapped wrapped spotify"
          ],
          [
           "stitch with deeedub th g the hunger games"
          ],
          [
           "the hunger games edit"
          ],
          [
           "today student organizers disrupted osus board of trustees meeting to demand divestment from companies complicit in the genocide of palestinians free palestine"
          ],
          [
           "katniss hotness integral to the plot hunger games kat n is s book tok sketch comedy"
          ],
          [
           "brown university students interrupt comments from the schools president christine paxson on monday night with calls for the school to divest from weapons manufacturers during a vigil for students shot in vermont israel israel hamas war gaza palestinians palestine israel palestine brown university"
          ],
          [
           "really haymitch the hunger games mocking jay part"
          ],
          [
           "lucy slay baird the hunger games the ballad of songbirds and snakes"
          ],
          [
           "highly recommend hunger games the ballad of songbirds and snakes"
          ],
          [
           "i just know everybody was tryna be a songbird next year thinking they gone get donations like her the hunger games hunger games the ballad of songbirds and snakes ballad of songbirds and snakes"
          ],
          [
           "wild this is what black friday looked like in crazy to experience this and make it out alive black friday victorias secret chaos"
          ],
          [
           "ready for ballad of songbirds and snakes as you can tell hunger games ballad of songbirds and snakes hunger games edit josh hutcherson president snow"
          ],
          [
           "a release of palestnians to isralis is actually wildly disproportionately in favor of zionists since the hostge ratio as of november was almost meanwhile weve all witnessed the iof continue to bduct palestnians in the wb even during this truce free pala stine free gaza end the apartheid end the occupation anti zionist jew"
          ],
          [
           "tom blyth and hunter schafer thats it thats the tweet hunger games hunger games ballad of songbirds and snakes"
          ],
          [
           "ballad of songbirds and snakes hunger games"
          ],
          [
           "tom blyth needs to send us his playlist asap rachel ze g ler the hunger games ballad of songbirds and snakes hunger games"
          ],
          [
           "i need to keep reminding myself president snow the ballad of songbirds and snakes hunger games book tok"
          ],
          [
           "live laugh love hunger games the hunger games the ballad of songbirds and snakes"
          ],
          [
           "replying to tori yeager why do you guys think lucy gray said this at the end of the ballad of songbirds snakes the hunger games the ballad of songbirds and snakes hunger games ballad of songbirds and snakes movies"
          ],
          [
           "my uber driver didnt even know there was a hunger games prequel idk what its like to not be consumed by this moment the hunger games ballad of songbirds and snakes th g the ballad of songbirds and snakes corio la nuss now book tok"
          ],
          [
           "travel tuesday is so underrated and a lot of people dont know about it this is the best time of year to get amazing travel discounts so save this to remember travel discounts budget travel tips cheap travel travel tuesday black friday cyber monday travel sale coupon ing discounts"
          ],
          [
           "the exit for wrentham outlets on black friday black friday mass hole wren tham outlets"
          ],
          [
           "bout to head black friday shopping college thanksgiving black friday dads daughters family nailed it"
          ],
          [
           "when my husband doesnt trust me to cook the turkey"
          ],
          [
           "im still in shock honestly thanksgiving comedy"
          ],
          [
           "these two are too cute whos seeing the new movie this weekend the hunger games the hunger games the balled of songbirds tom blyth rachel ze g ler"
          ],
          [
           "tomorrow is my national holiday the ballad of songbirds and snakes t bos as rachel ze g ler hanging tree snow white hunger games the hunger games"
          ],
          [
           "stitch with entertainment tonight i love the hunger games wooo rachel ze g ler hunger games"
          ],
          [
           "we dont give only children enough creditthey are our bravest soliders thanksgiving only child"
          ],
          [
           "how does she know taylor nation taylor swift taylor swift taylor swift edits now that we dont talk vault tracks taylors version now that we dont talk from the vault now that we dont talk taylors version swift ies swift ies unite swift ies forever swift ies of tik tok swift ie school viral videos gir lies"
          ],
          [
           "spoiler alert i accidentally ate the apple for the stuffing pumpkin pie thanksgiving vibes"
          ],
          [
           "battle of the boyfriends thanksgiving boyfriend the owner of this house"
          ],
          [
           "happy thanksgiving"
          ],
          [
           "free palestine free palestine free gaza free west bank no apartheid government de fund israel help congo free congo free sudan help sudan using makeup to raise awareness using makeup solo protest"
          ],
          [
           "were obviously gujjus california gu j ju thanksgiving gu j ju"
          ],
          [
           "inspo credit to amiiillustrates happy thanksgiving thanksgiving"
          ],
          [
           "happy thanksgiving"
          ],
          [
           "visiting my southern brown in laws thanksgiving"
          ],
          [
           "our black friday sale has officially arrived dont miss out on those mostwanted styles with off all regular priced items online only"
          ],
          [
           "happy thanksgiving"
          ],
          [
           "happy thanksgiving everyone"
          ],
          [
           "am i not loved thanksgiving"
          ],
          [
           "yes my fam decided to do a very a cracker barrel thanksgiving this year thanksgiving cracker barrel family"
          ],
          [
           "cousins slay thanksgiving vibes kids table thanksgiving"
          ],
          [
           "its that time of year again thanksgiving"
          ],
          [
           "best transition taylor swift eras tour"
          ],
          [
           "thanks"
          ],
          [
           "halloween"
          ],
          [
           "another single holiday year"
          ],
          [
           "happy thanksgiving"
          ],
          [
           "breaking several propalestine activists were arrested for staging a sitin on the march route of the macys thanksgiving day parade in new york city palestine"
          ],
          [
           "did it for the turkey"
          ],
          [
           "happy thanksgiving"
          ],
          [
           "nyc thanksgiving free palestine"
          ],
          [
           "low key some good ass pies cost co viral video fall thanksgiving pumpkin pie"
          ],
          [
           "i find this rebutal genuinely insane free palestine free fa last in palestine israel leftism viral"
          ],
          [
           "the peoples princess snoopy macy s parade macy s thanksgiving day parade"
          ],
          [
           "water we dont need to chant its totally fine"
          ],
          [
           "macys thanksgiving day parade thanksgiving"
          ],
          [
           "happy thanksgiving make sure to remind your horrible relatives about this good news and then tell me all your best stories"
          ],
          [
           "green screen jordyn religious experience snow lands on top the ballad of songbirds and snakes the hunger games"
          ],
          [
           "thanksgiving day parade thanksgiving"
          ],
          [
           "lmaooo thanksgiving on the train nyc is really a stimulation thanksgiving cooking"
          ],
          [
           "free palestine ceasefire now"
          ],
          [
           "should i tell her w lw lgbt"
          ],
          [
           "i will stick with my parents thx very much thanksgiving eve thank gsi ving hometown bar"
          ],
          [
           "nothing like home for holidays thanksgiving family"
          ],
          [
           "get off everything and we mean everythingggg hollister black friday holiday shopping gift guide sale current rotation capsule wardrobe offer valid in stores and online november to november in usca excludes clearance and gift cards discount applied at checkout"
          ],
          [
           "okay guys you can stop this trend i win taylor swift slut taylors version taylors verison"
          ],
          [
           "the ballad of songbirds and snakes was actually life changing"
          ],
          [
           "im shakinggggggg lets gooo taylor swift swift tok eras tour taylor nation swift ie the eras tour taylors version taylors version taylors version vault buenos a i rests the eras tour travis kel ce chiefs travis kel ce taylor swift riots the eras tour brazil rio rio de janeiro reputation taylors version"
          ],
          [
           "the lyrics the beat swift tok taylor swift swift ie tv taylors version"
          ],
          [
           "have a wonderful thanksgiving and school dayseveryone"
          ],
          [
           "this is all coming from the new wsj article that travis did taylor swift swift tok eras tour taylor nation swift ie the eras tour taylors version taylors version taylors version vault buenos a i rests the eras tour travis kel ce chiefs travis kel ce taylor swift riots the eras tour brazil rio rio de janeiro"
          ],
          [
           "absolute fire hunger games swift tok olivia rodrigo taylor swift taylors version"
          ],
          [
           "the truest meme i saw this week recipe from victoria tschopp thanksgiving mac and cheese party food side dish friends giving thanksgiving mac and cheese"
          ],
          [
           "we need the biggest turkey or thanksgiving is canceled costco wholesale thanksgiving grandmas of tik tok moms of tik tok holiday food turkey family reunion rel a table host hostess problems"
          ],
          [
           "yall need to chill out taylor swift eras tour"
          ],
          [
           "speaking my truth i love the cardigan taylors version swift tok swift ie"
          ],
          [
           "this was the quickest ive ever opened an advent calender such amazing products i cant wait to try them all loccitane l occitan e partner ad advent calender skin care sephora"
          ],
          [
           "i love you so much angel taylor swift taylor swift the eras tour taylor swift the eras tour swift tok taylor swift brasil bigger than the whole sky"
          ],
          [
           "i cant stop crying an a be nevi des taylor swift riots the eras tour brazil rio rio de janeiro"
          ],
          [
           "all pf my classes i am taking do nothing for me"
          ],
          [
           "firefighter bathroom"
          ],
          [
           "taylor swift and i are basically twins taylor swift is it over now taylors version is it over now dance trend taylors version swift ie tik tok i think about jumping off a very tall something s gay swift ie vault"
          ],
          [
           "happy its a rep song riots the eras tour rain show taylor swift surprise songs eras tour brazil night rio night swift ok swift ies be like dancing with our hands tied rio rain shower as rio de janeiro eras tour t f"
          ],
          [
           "free palestine free palestine palestine free palestine gaza palestinian tik tok"
          ],
          [
           "replying to maddysteck i need to know what we think of this which should we do next advent calendar advent series jew le ry advent calendar"
          ],
          [
           "snek the hunger games ballad of songbirds and snakes lucy gray baird josh hutcherson edit reputation tv"
          ],
          [
           "scott scanning the stage to make sure taylor is ok taylor swift eras tour brazil biggest fan"
          ],
          [
           "i couldnt help but cry to see taylor feel the love tonight she needed this rio de janeiro brazil n taylor taylor swift taylor nation swift ie swift ie tik tok taylors version taylor swift tok taylors version taylor swift tok taylor swift edit the ras tour the eras tour taylor swift taylor nation taylor swift"
          ],
          [
           "taylor if your seeing this just know all we have in mind is your best interest and all we want is for you to be happy taylor swift taylor swift the eras tour the eras tour eras tour eras tour brasil brazil rio de janeiro eras tour rio de janeiro"
          ],
          [
           "love taylor taylor swift folklore speak now taylors version reputation taylors version lover"
          ],
          [
           "i messed up"
          ],
          [
           "thanks queen olivia for this song olivia rodrigo hunger games ballad of songbirds and snakes"
          ],
          [
           "a true star i love her sm"
          ],
          [
           "he does this seven shows a week figure skating ice skating disney disney on ice coco i promise im not a disney adult"
          ],
          [
           "ive never had a song grow on me as much as this one taylor swift swift tok eras tour swift ie taylors version taylor swift"
          ],
          [
           "taylor swift im studying so hard i promise ts the eras tour film taylor swift swift tok"
          ],
          [
           "the tea will always be piping hot the hunger games the ballad of songbirds and snakes"
          ],
          [
           "the moment weve all been waiting for home for thanksgiving run it back"
          ],
          [
           "home for thanksgiving yallrogers emmabeim mamatwosix thanksgiving daughters"
          ],
          [
           "i could make of these i swear tv taylors version taylor swift now that we dont talk"
          ],
          [
           "i said what i said and ill say it again taylor swift swift ie"
          ],
          [
           "hey guys im back and i still cannot get over the fact that she played this on the piano it sounded so beautiful taylors version swift tok swift ie taylor swift houseofcb"
          ],
          [
           "i cant sleep no one judge me for being delulu i reside on clownnelia street taylors version debut taylors version reputation taylors version"
          ],
          [
           "please be safe tonight brazil brazil eras tour brazil eras tour taylor swift taylors version swift tok the eras tour"
          ],
          [
           "this is so wrong eras tour brazil night eras tour rio night eras tour t f eras tour brazil swift ies ever eras tour rio de janeiro riots the eras tour swift ok swift ies of tik tok"
          ],
          [
           "duet with mateus benac yall she cant control the weather the eras tour ts the era tour rio de janeiro rio de janeiro eras tour swift tok"
          ],
          [
           "replying to horror high why do people tear her down taylor swift taylor swift eras tour eras eras tour taylor swift swift ok swift ies ready for it ready for it taylor swift tay"
          ],
          [
           "this is going to be bad tik tok live horror scary horror games scary games"
          ],
          [
           "who hurt you girl ts the eras tour ts the eras tour film the eras tour taylor swift the eras tour taylor swift taylor swift taylor nation the eras tour"
          ],
          [
           "now you dont even need money to donate free palestine palestine gaza"
          ],
          [
           "they were so generous"
          ],
          [
           "just not home taylor swift swift tok swift ie my tears ricochet folklore taylor swift"
          ],
          [
           "something to think about i am so proud of you for doing it anyway"
          ],
          [
           "lessons you will learn along the way commencement speech parody satire weird humor"
          ],
          [
           "its gonna be half marathons for a hot minute running half marathon s"
          ],
          [
           "obsessed is an understatement tik tok shop black friday"
          ],
          [
           "could by a concert venue at this point"
          ],
          [
           "thinking about someone to taylor swift is a love language idc taylor swift swift ie swift tok call it what you want"
          ],
          [
           "are excited for starbucks red cup day tomrrow let me know in the comments if you like this years starbucks red cup design or last years red cup design starbucks starbucks red cup starbucks red cup day starbucks holiday drinks starbucks holiday cup"
          ],
          [
           "absolute bangers swift tok taylors version olivia rodrigo taylor swift hunger games"
          ],
          [
           "replying to strawberryshelf th g the hunger games abos as"
          ],
          [
           "from dreaming about a forever to living and creating our own little traditions happy diwali to you from us diwali first diwali thal a diwali mr and mrs diwali in america"
          ],
          [
           "dont call me kid dont you call me babbbyy taylor swift harry styles taylor nation ts the eras tour a i cover harry styles hsh q love on tour folklore folklore taylor swift"
          ],
          [
           "need a min version of this taylors version taylor swift now that we dont talk"
          ],
          [
           "thousands of egyptian fans of the alahly football club based out of cairo chant in solidarity with palestine palestine stand with palestine free palestine gaza egypt"
          ],
          [
           "works like a charm amtrak"
          ],
          [
           "i cant believe i caught this tbh has anyone else noticed hunger games the hunger games peet amell ark josh hutcherson josh hutcherson whistle josh hutcherson edit"
          ],
          [
           "table for plz friends giving viral para ti friends thanksgiving"
          ],
          [
           "the redness can be intimidating to some people but rest assured that will go away within hours week after the treatment and it is the skins normal reaction to needling stretch mark removal stretch mark camouflage paramedical tattoo brazilian camouflage tattoo stretch mark solution paramedical tattoo artist stretch marks remedy stretch mark stretch marks stretch marks begone brazilian camouflage en luv beauty lounge stretch mark tattoo"
          ],
          [
           "dont lie you know youve done this too"
          ],
          [
           "cried the entire time taylor swift eras tour eras movie tour eras tour taylor swift lover"
          ],
          [
           "wellbutrin xl effect babeyyy"
          ],
          [
           "i hope you get the emoji references taylor swift swift ie taylors version rep tv"
          ],
          [
           "stitch with taylee its free pal e stine today tomorrow and until they are free"
          ],
          [
           "my heart broke into million pieces youll always be loved and missed thank you for everything matthew perry chandler chandler bing friends"
          ],
          [
           "currently donating profits to palestine children relief fund free palestine"
          ],
          [
           "taylor swift swift ok"
          ],
          [
           "mother is mothering taylor swift eras tour rio de janeiro all too well taylors version swift tok swift ie karma trending blow this up viral video"
          ],
          [
           "replying to jessica dawn hunt ngl this one got better and better but what do we think let me know which we should do next advent calendar advent calendars un boxing advent calendars elf cosmetics"
          ],
          [
           "green screen i am so here for this swift tok eras tour taylor swift swift ies taylor tok taylors version eras tour eras tour brazil"
          ],
          [
           "palestine will be free free palestine free palestine palestine"
          ],
          [
           "i blacked out opening night taylor swift swift ie taylors version swift tok is it over now the eras tour taylor swift taylor nation"
          ],
          [
           "we love a fan project taylor swift eras tour taylors version"
          ],
          [
           "reputation stadium tour rep tour re per a endgame taylor swift eras tour"
          ],
          [
           "harvard"
          ],
          [
           "like come onnnn netflix not coool student athlete netflix college student netflix household"
          ],
          [
           "and my hindu friends obviously diwali happy diwali hindu non hindu friends"
          ],
          [
           "people today bood a ceasefire begging the question what are you marching for green screen march for israel"
          ],
          [
           "the red cup rebellion has begun sbworkersunited baristas staged surprise walkouts across the country today and tomorrow is expected to be the largest barista strike in our history the same day as red cup day a notoriusly busy and exploitative day at starbucks dont cross the picket line join one at the link in bio"
          ],
          [
           "cutting off water in a place that has million children what does that sound like to you israel israeli palestine israel palestine free palestine"
          ],
          [
           "know shes gonna be so annoyed lol inverted taylor swift travis kel ce eras tour london boy"
          ],
          [
           "go check them out color options fall bags fall vibes fall fashion purse fall looks trendy bags"
          ],
          [
           "shes so un serious taylor swift the eras tour ts the eras tour eras tour swift ie swift tok"
          ],
          [
           "kendallking we were troopers"
          ],
          [
           "my current mil sucks too but this one was almost worse now that we dont talk i dont have to pretend taylors version taylor swift taylors version tv"
          ],
          [
           "forgive my hair u just work up but taylor swift never lets me down taylors version"
          ],
          [
           "wait til the end"
          ],
          [
           "winter"
          ],
          [
           "night argentina lets gooo taylor swift taylor swift argentina"
          ],
          [
           "taylor swift travis kel ce taylor nation swift tok swift ies"
          ],
          [
           "she went down hard but she got right back up taylor swift swift tok swift ie t swift fall fail rep reputation stadium tour travis kel ce"
          ],
          [
           "on the daily"
          ],
          [
           "it was enchanting to see you taylor swift the eras tour eras tour eras tour tampa swift ok speak now speak now taylors version enchanted taylors version"
          ],
          [
           "sand for all swift ies falling in s and taylor swift s and art taylors version taylor swift taylor nation"
          ],
          [
           "zionism free palestine war crimes genocide armenian genocide world history"
          ],
          [
           "addressing zionist argument that hamas is a terrorist orginization hamas zionism"
          ],
          [
           "what arguments have you heard free palestine war crimes occupation"
          ],
          [
           "get educated talk about it demand a ceasefire free palestine free palestine"
          ],
          [
           "nyc subway vibes are unmatched"
          ],
          [
           "vigilante tay gets me every time kansas city mo night los angeles ca night the show travis kelce attended vs the last night of her us leg taylor swifter as tour eras tour taylor swift taylor nation swift travis kel ce reputation taylors version taylors version swift y swift ok s new romantics tv cruel summer taylor swift tok midnight s taylor swift taylor swift challenge swift ie tok reputation vigilantes hit taylor swift caddizac theknifepainter"
          ],
          [
           "argentina the eras tour eras tour argentina taylor swift bryanlicious travis kelce"
          ],
          [
           "i am an emotional wreck rn taylor swift swift tok eras tour taylor nation swift ie the eras tour taylors version taylors version taylors version vault buenos a i rests the eras tour travis kel ce chiefs travis kel ce taylor swift"
          ],
          [
           "keep calling babes free palestine is t and with palestine ceasefire now ceasefire israelis a joke free gaza free palestine"
          ],
          [
           "yes seasonal depression is an actual thing seasonal affective disorder so do not feel as if its only you and its completely your fault i know youve been sleeping late napping not doing your work masking and i wish nothing but for you to take care of yourself"
          ],
          [
           "is this landslide republican answer on the abortion issue nikki haley america first usa tik tok usa gop republican debate nikki haley nikki"
          ],
          [
           "their struggle friends tv show rachel green phoebe buffa y joey tribbiani monica geller ross geller chandler bing jennifer aniston lisa kudrow matt leblanc matthew perry courteney cox"
          ],
          [
           "you dont have to be a big creator to support them free palestine freepalestine free palestine palestine gaza free gaza abc xyz zy x cba b st filter"
          ],
          [
           "when and why did your unlearning start jewish muslim solidarity jews against zionism anti zionist jew free gaza free palestine ally up"
          ],
          [
           "stitch with katie never agaub for anyone free palestine ceasefire now"
          ],
          [
           "the cursing go crazy"
          ],
          [
           "will i ever stop making these edits probably not taylor swift swift tok travis kel ce swift ie swift to ker taylor swift travis kel ce tray lor"
          ],
          [
           "yeah eat it cooking monster"
          ],
          [
           "fjdjakskdj i cant make this up taylor swift swift tok eras tour taylor nation swift ie the eras tour taylors version taylors version taylors version vault buenos a i rests the eras tour travis kel ce chiefs travis kel ce taylor swift"
          ],
          [
           "omggggggggg tay vis travis kel ce karma swift ies of tik tok eras tour buenos aires eras tour argentina buenos aires eras tour swift ok tay vis travis kel ce taylor swift"
          ],
          [
           "i dropped my phone at the end sorry lol taylor swift taylor swift album ranking ts tv"
          ],
          [
           "but it changes all the time taylor swift taylor swift is the music industry swift ie taylor swift is my favorite person taylor swift taylor nation"
          ],
          [
           "fy pp roommate"
          ],
          [
           "green screen keith lee funny atlanta"
          ],
          [
           "parody"
          ],
          [
           "training starts today bb whos with me nyc marathon nyc marathon"
          ],
          [
           "replying to emma this is one of my favorites cuz what the actual hell taylor swift taylors version singing singing taylors version"
          ],
          [
           "its me swift tok taylors version swift ie taylor swift reputation taylors version"
          ],
          [
           "also signed up for a k lol lets see how long this dream lasts nyc nyc marathon"
          ],
          [
           "who decided to make this ga i feel like this will be madness every show ts the eras tour argentina ts the eras tour argentina night argentina night eras tour argentina eras tour argentina swift ies of tik tok taylor swift estadio river plate taylor swift buenos aires"
          ],
          [
           "returning to tiktok with this masterpiece of a song swift tok swift ie taylor swift taylors version tv viral trending"
          ],
          [
           "replying to cam taylors version"
          ],
          [
           "lights on nobody home sorry taylor swift taylors version is it over now vault tracks swift tok swift ie"
          ],
          [
           "this song feels like my friend taylor swift swift tok swift ie lover eras tour the archer"
          ],
          [
           "it gets dark now thomas lanese daylight savings seasonal depression"
          ],
          [
           "taylor never misses taylor swift grandad taylors version now that we dont talk swf it ie taylor swift"
          ],
          [
           "taylors version tv harry styles taylor swift taylors version"
          ],
          [
           "replying to olivia caruso how i got baked for the nyc marathon nyc marathon run high"
          ],
          [
           "daylight savings got me messed up daylight savings"
          ],
          [
           "what better way to arrive in buenos aires than recreating this incredible t swizzlers dance with my fav eras tour girlies i hope you dont mind we changed the ending argentina buenos aires taylor swift eras tour is it over now"
          ],
          [
           "my only real complaint was not enough jump scares and gore but very entertaining film f naf f naf security breach five nights at freddy s five nights at freddy f naf movie"
          ],
          [
           "give me a week and ill prob sign up for a third marathon nyc marathon nyc marathon nyc marathon finisher marathon runner run tok running tik tok nyc"
          ],
          [
           "fire when the strobe hits you type of iconic taylors version is it over now is it over now taylor swift ts the eras tour taylor swift taylor nation"
          ],
          [
           "green screen things i wish i knew before running the new york marathon new york marathon new york marathon nyc marathon nyc run tok"
          ],
          [
           "ok"
          ],
          [
           "i was pretty upset watching this happen and had to say something and congrats to all of the runners you are incredible new york marathon new york city marathon marathon signs nyc marathon new york marathon inspiration etiquette"
          ],
          [
           "im screaming taylor swift this is so cute swift tok taylor swift the eras tour"
          ],
          [
           "should we run the marathon nyc marathon runner girl nyc marathon training nyc marathon"
          ],
          [
           "my first marathon this was without a doubt a life changing experience everything about this event was extremly inspiring and humbling at the same time first marathon marathon runner nyc marathon run tok"
          ],
          [
           "how do we make that happen nyc marathon nyc marathon new york"
          ],
          [
           "it was not pleasant nyc marathon new york marathon nyc"
          ],
          [
           "officially an abbott world marathon majors finisher new york marathon new york marathon nyc abbott world marathon majors run tok ny marathon marathon tik tok marathon tok runner life runner tok new york new york city"
          ],
          [
           "green screen hollywood chamber of commerce why whyyyyy he clearly didnt want a star on the walk of fame let it gon this move isnt it hollywood walk of fame rabbit hole celebrity gossip matthew perry rip matthew perry matthew perry rip friends"
          ],
          [
           "pov you lead the new york city marathon for seconds i mean weve all thought about doing it run tok running nyc marathon new york marathon"
          ],
          [
           "silly me"
          ],
          [
           "no words can express the feelings at the finish line of the nyc marathon this was what i saw there between pm today congrats to everyone who took part ny rr nyc marathon"
          ],
          [
           "free palestine jews for palestine"
          ],
          [
           "mood every single time taylors version now that we dont talk taylors version vault taylor swift swift tok swift ies of tik tok swift ies"
          ],
          [
           "giggle swift ie swift ok taylor swift taylors version"
          ],
          [
           "this part is addictiveeevevevevevevevve taylor swift swift ie is it over now swift tok taylors version abby lee miller wendy williams taylor swift falling over"
          ],
          [
           "the aggressive lip syncing taylor swift tv swift tok dance"
          ],
          [
           "the sydney chant for blank space at the theater gone wrong taylor swift taylors version taylor nation swift ie swift tok taylor swift tok the eras tour ts the eras tour ts the eras tour film eras tour movie blank space taylors version tv taylor swift taylor nation ts the eras tour film"
          ],
          [
           "dads mile pep talk nyc marathon nyc marathon new york city nyc marathon"
          ],
          [
           "marathon sunday nyc marathon nyc marathon nyc marathon runners larry"
          ],
          [
           "free palestine"
          ],
          [
           "um i dont think i can listen to this taylor swift taylors version tv vinyl music fail swift y tok"
          ],
          [
           "friends dont let friends do this nyc nyc marathon marathon marathon runner race run nyc marathon friendship goals friends friendship"
          ],
          [
           "for legal reasons this is satire this trend is making me feel seen though thank you taylor swift now that we dont talk i dont have to pretend vault tracks trend now that we dont talk from the vault music dating satire swift tok taylor swift taylor nation"
          ],
          [
           "kate said yes nyc marathon"
          ],
          [
           "the last runners at the nyc marathon the marathon is officially over congratulations to all the runners see you next year nyc marathon marathon nyc new york running"
          ],
          [
           "did everyone realize this before me or the eras tour taylor swift mastermind the eras tour movie ts swift ies los angeles"
          ],
          [
           "this is the world we live in free palestine free palestine ceasefire now"
          ],
          [
           "listen up viral taylor swift"
          ],
          [
           "green screen we would be in shambles taylor swift taylors version"
          ],
          [
           "it takes less than a minute to call your congressperson and senator and tell them ceasefire now link in bio please use your voice even though its a weekend you can leave a message do not be silent use your voice to stand for humanity to stand against gencide free palestine palestine will be free ceasefire now"
          ],
          [
           "sorry sorry gotta get to the subway nyc marathon traffic nyc marathon"
          ],
          [
           "imagine being succesful taylor swift taylors version eras tour"
          ],
          [
           "idky i be nervous when its my page"
          ],
          [
           "what kind of boycott are you people doing the sugar plum danish and water down coffee can not be that good for you to stand with that company starbucks holiday drinks starbucks red cup starbucks boycott"
          ],
          [
           "can you hear us now free palestine"
          ],
          [
           "you have to be serious rn taylor swift"
          ],
          [
           "bumble taylor swift tok taylors version now that we dont talk tv taylors version"
          ],
          [
           "free palestine stand with palestine boycott starbucks"
          ],
          [
           "now that we dont talk swift tok swift ie taylor swift taylors version now that we dont talk tv"
          ],
          [
           "hahha oops awkward awkward moments fail"
          ],
          [
           "specifically the oh lord part idk how but i swear taylor put crack in it taylor swift swift ie"
          ],
          [
           "ross finds out about chandler and monica cap cut matthew perry friends tv show friends funny reaction trending new fy rip matthew perry matthew perry chandler bing cry joey tribbiani joey tribbiani chandler and joey matt leblanc and matthew perry ross ph obe rachel friends forever"
          ],
          [
           "its just so good i am screaming taylor swift taylors version tv taylors version now that we dont talk swift tok swift ies"
          ],
          [
           "anatomy bonus"
          ],
          [
           "ahhhhhh so insane cant say im shocked taylor swift swift tok swift ie taylors version swift ies taylor nation ts the eras tour taylors version ts the eras tour film the week nd green screen"
          ],
          [
           "happy fnaf movie day or whatever f naf f naf movie five nights at freddy five nights at free dys roblox t td t td roblox fy pppp fy pppppppp pppppppp pppp ppp x zy cba x zy bca"
          ],
          [
           "taylor you mastermind taylor swift taylor nation taylors version is it over now is it over now taylor swift ts the eras tour taylor swift taylor nation"
          ],
          [
           "nyc marathon route nyc marathon nyc marathon nyc marathon expo marathon training marathon runner nyc run tok running tik tok"
          ],
          [
           "but like is it over now taylor swift swift ie swift tok taylors version is it over now taylor swift harry styles harry styles taylor swift taylors version green screen"
          ],
          [
           "halloween movie night popcorn bar complete with halloween themed treats happy halloween movie night movie night ideas date night ideas date night halloween halloween snacks lifestyle snack tray"
          ],
          [
           "shes sick of me book tok book recommendations bookish bookworm"
          ],
          [
           "thoughts im obsessed with now that we dont talk already taylor swift speak now album vs album taylors version tv ranking swift tok taylors version"
          ],
          [
           "in no universe was it the loml taylor swift taylors version swift ie tik tok swift tok"
          ],
          [
           "this is so cute dogs a i disney disney ammo s taffy"
          ],
          [
           "do you think shell be mad w lw"
          ],
          [
           "whats your biggest regret we all have a story"
          ],
          [
           "i also love how she has the privilege of staying off social media cause of all the violence meanwhile palestinians cannot just look away because its their everyday life selena gomez palestine free palestine free palestine"
          ],
          [
           "oh i am fuming at this taylor swift swift tok swift ie taylors version swift ies taylor nation ts the eras tour taylors version ts the eras tour film taylor swift re recording green screen"
          ],
          [
           "who needs all the boys and their expensive cars anyway taylor swift swift tok taylors version taylors version n tw dt"
          ],
          [
           "i could teach a class about fnaf about why some people prefer the earliee games to the recent ones why most theory crafting is harder nowadays so people are giving up easy and why the fnaf movie will become an instant classic once its released fy p five nights at freddy sf naf for you page five nights at freddy s movie film for you five nights crash course o of"
          ],
          [
           "at the end of the day theyre just very silly five nights at freddy s f naf f naf movie f naf movie freddy f naf f naf freddy bonnie f naf f naf bonnie chica f naf f naf chica foxy f naf f naf foxy"
          ],
          [
           "so i really love this song now that we dont talk taylors version taylors version"
          ],
          [
           "matthew and jennifer were family not just friends matthew perry jennifer aniston friends"
          ],
          [
           "is it over now is fighting say dont gos number one slot me thinks is it over now is it over now taylor swift is it over now taylors version taylors version taylor swift tv swift ie from the vault"
          ],
          [
           "lets collab taylor swift taylor swift swift tok tv tv vault tracks eras tour"
          ],
          [
           "duet with jakes acl my mentions were blowing up and this deserved a video response"
          ],
          [
           "the way he jumped up on cue"
          ],
          [
           "to real not to post viral taylor swift"
          ],
          [
           "green screen video rip to a great comedic actor matthew perry friends"
          ],
          [
           "love that i have one more semester to go and its when i find this out lol taylor swift taylors version taylor nation eras tour swift tok swift ie canvas canvas pages school college college life college hacks"
          ],
          [
           "duet with labyrinthaze taylor swift"
          ],
          [
           "hasbeyn could never taylor swift beyonce performance popular dancing swift ie viral ate"
          ],
          [
           "its giving freshman year is it over now taylors version tv swift tok"
          ],
          [
           "too real but it might get me cancelled swift tok taylor swift swift ie"
          ],
          [
           "im cackling hahha taylors version taylors version taylor swift swift tok swift ie swift ok taylor nation tv"
          ],
          [
           "taylor swift taylors version"
          ],
          [
           "like yes swift tok swift ie taylor swift"
          ],
          [
           "this felt personal taylor swift taylor nation you re losing me you re losing me taylor swift taylors version midnight s taylor swift taylors version"
          ],
          [
           "fall is almost over my favorite season"
          ],
          [
           "you will be missed joey tribbiani chandler bing friends friendship wishbone matthew perry"
          ],
          [
           "now that we dont talk taylor swift taylors version swift tok now that we dont talk viral"
          ],
          [
           "feeling v nostalgic right now sooo backstory time hehe i miss taylor sm right now been a while since i posted this so here ya go ts the eras tour film ts eras tour film eras tour taylor swift taylor swift swift tok swift ie the eras tour eras taylor ts the eras tour concert swift the eras eras tour rep tour reputation secret session"
          ],
          [
           "thoughts taylor swift taylor swift vault vaulter as tour taylor swift and travis kel ce blank space pop music taylor swift music eras tour outfits celebrities swift ies the vault"
          ],
          [
           "let me just tell you about this roman empire the one taylor swift"
          ],
          [
           "nfl taylors version travis kel ce"
          ],
          [
           "miss taylor swift knew what she was doing with this one now that we dont talk ex best friend tv taylors version book tok swift ies taylor swift"
          ],
          [
           "the scooby doo group costume is a fate worse than death scooby doo halloween group costume"
          ],
          [
           "ill be there for you friends friends apartment building chandler bing matthew perry"
          ],
          [
           "bye i didnt even realize until i was putting the confettis away but its prob just leftovers cuz i also saw a guy who got green what is happening taylors version taylor swift swift ie swift tok swift t swift tv reputation reputation taylors version"
          ],
          [
           "i hope takis dont support is not real"
          ],
          [
           "fuck you james lankford free palastine free palestine end occupation of palestine us senate stand with palestine gaza ceasefire now fuck it al jazeera english"
          ],
          [
           "weve been so spoiled but it will come to an end taylors version reputation taylors version debut taylors version taylor swift swift ie swift tok the eras tour midnight s taylors version tv taylor swift taylor nation"
          ],
          [
           "taylor i am not well taylors version"
          ],
          [
           "i loved my costume halloween"
          ],
          [
           "must be nice to be mentally stable taylors version swift tok taylor swift"
          ],
          [
           "taylor swift eras tour the eras tour swift tok swift ie swift ies ts the eras tour ts eras tour work corporate corporate life"
          ],
          [
           "i wish you would change the lyrics taylors version i wish you would taylor swift swift tok wasted"
          ],
          [
           "how did i end up this unlucky taylor swift taylors version"
          ],
          [
           "its unfathomable to me really free palestine palestine from the river to these a within our lifetime protest nyc"
          ],
          [
           "in the wise words of a comment i saw earlier today this is why she is a songwriter and you are on tiktok taylors version taylor swift"
          ],
          [
           "its funny cause taylor swift taylors version taylor nation taylor taylor swifter as tour"
          ],
          [
           "yeah ima walk before i catch that fine mta new york city new york bus mta police nyc"
          ],
          [
           "now that we dont talk supremacy taylors version from the vault taylor swift taylors version now that we dont talk swift tok swift ie taylor nation flop tok"
          ],
          [
           "we might not have known matthew perry in person but he was in our homes making us laugh as a millennial friends is my comfort show and now itll feel so different this one goes out to all of our friends as we mourn collectively sending you a big joey hug find a recliner kick back and enjoy how relaxing it is matthew perry friends millennial meltdown friends tv show friends matthew perry friends picture frame friends peephole frame"
          ],
          [
           "taylor really outs me every single song now that we dont talk taylor swift taylors version taylors version"
          ],
          [
           "halloween hs m"
          ],
          [
           "hessenheffers do it right halloween halloween z ect ion z shake it up"
          ],
          [
           "brb gonna go cry friends matthew perry rip friends show chandler bing"
          ],
          [
           "i just feel for her i guess kanye west kanye"
          ],
          [
           "taylor nation taylor swift taylors version swift tok vault tracks tv vault tracks is it over now is it over now tv taylors version swift ie say dont go say dont go from the vault now that we dont talk suburban legends suburban legends taylors version taylor swift taylor nation"
          ],
          [
           "crying phineas and ferb phineas disney disney plus voices disney world disney disneyland candace disney princess memes boyfriend girlfriend"
          ],
          [
           "that hand thing is a dead giveaway swift ok taylors version"
          ],
          [
           "i love harry still taylors version is it over now i think he knows taylor swift taylors version"
          ],
          [
           "not me realizing she was masterminding my favorite vault song taylors version taylor swift taylors version taylor nation is it over now"
          ],
          [
           "spooky for sure hallo weekend halloween"
          ],
          [
           "definitely not based on true events now that we dont talk taylor swift taylors version taylors version tv"
          ],
          [
           "i am genuinely shook by this excuse me taylor swift taylor swift swift tok swift ie taylors version swift ies taylor nation ts the eras tour taylors version ts the eras tour film taylors version vault is it over now"
          ],
          [
           "bye trending taylor swift eras tour swift tok taylor swifter as tour swift ie eras tour taylor swift eras tour movie tv album taylors version vault vault tracks taylor swift relationships"
          ],
          [
           "insanity swift tok swift ie taylor swift"
          ],
          [
           "taylor devoured with this one"
          ],
          [
           "tragic coincidence green screen matthew perry"
          ],
          [
           "taylors version now that we dont talk taylor swift taylors version swift ie"
          ],
          [
           "matt perry rip"
          ],
          [
           "i did not need this information thank u very much ex b sf swift ie eras tour taylor swift best friend"
          ],
          [
           "taylor come find me on the club level green screen taylor swift travis kel ce travis and taylor"
          ],
          [
           "im aftaid taylor did not hold much back here we love travis tho taylor swift travis and taylor taylor and travis travis kel ce taylors version tv from the vault is it over now is it over now tv is it over now taylor swift is it over now from the vault"
          ],
          [
           "you will witness a breakdown taylor swift swift tok"
          ],
          [
           "best night ever halloween college bar university of washington halloween costume"
          ],
          [
           "i dont normally post so often but this one hurts matthew perry friends tv friends chandler bing chan and ler bong"
          ],
          [
           "this mashup omg taylors version taylor swift midnight s"
          ],
          [
           "i cant belive hes dead rip matthew perry chandler bing fy p friends for you for you page friends chandler"
          ],
          [
           "taylors version tv taylor swift swift ie is it over now"
          ],
          [
           "matthew perry best known for his role on the sitcom friends has died tmz is reporting he was matthew perry friends chandler bing"
          ],
          [
           "its lowkey worth it fashion fall bags tote bags cute fall"
          ],
          [
           "i hear they have wifi on airplanes these days free palestine free gaza ceasefire now jews for palestine j vp"
          ],
          [
           "yes ex getaway car taylors version reputation taylor swift"
          ],
          [
           "free palestine"
          ],
          [
           "she looks so cute in all of them dont get me wrong but its a little disappointing to recieve taylors version taylor swift taylors version taylors version tv"
          ],
          [
           "this song is so exbsf coded taylor swift folklore swift tok taylors version"
          ],
          [
           "im so excited for tv tn taylor swift taylors version taylor nation swift tok album release out of the woods world tour"
          ],
          [
           "thank you taylor for my new personality taylor swift taylors version now that we dont talk"
          ],
          [
           "miss taylor taylor swift swift tok swift ies swift nation swift ie harry styles"
          ],
          [
           "green screen she served looks and wrote lyrics that could cut through paper taylor is not to be messed with taylor swift is it over now tv taylors version swift ie swift tok entertainment music"
          ],
          [
           "these vault tracks swift tok taylor swift taylors version is it over now taylors version"
          ],
          [
           "what taylor swift said taylor swift taylor hay lor harry styles now that we dont talk taylors version taylor nation"
          ],
          [
           "we were too deep in conversation about the beckham doc i didnt even realize david beckham beckham s victoria beckham beckham beckham documentary"
          ],
          [
           "if you need me ill be in taylor land now that we dont talk taylor swift taylors version tv friendship people please r"
          ],
          [
           "cause im very much sat tf"
          ],
          [
           "taylor i am speechless taylors version is it over now hay lor"
          ],
          [
           "why do i have to go out every wknd i just fucking love it"
          ],
          [
           "best vault song hello"
          ],
          [
           "no notes taylor swift tv taylors version swift tok taylor swift taylor nation"
          ],
          [
           "it hits so so hard still ready for all the haters to switch up by next week taylor swift swift tok taylors version tv style taylors version"
          ],
          [
           "if ykyk taylors version tv swift ie swift tok is it over now taylor swift po c swift ie"
          ],
          [
           "im not wasting time halloween voldemort harry potter halloween look halloween in s po"
          ],
          [
           "olivia rodrigo big fans boop"
          ],
          [
           "which one do you like five nights at freddy s five nights at freddy s halloween f naf spring trap bonnie freddy foxy chica"
          ],
          [
           "so sorry to harry styles but is it over now is quite possibly my favorite vault song ever she really got him good taylor swift tv hay lor is it over now taylor swift harry styles taylor swift tik tok harry styles tik tok"
          ],
          [
           "mother dughter shared insanity swift tok swift ie taylors version is it over now is it over now is it over now taylor swift"
          ],
          [
           "this and now that we dont talk are criminal offenses pls dont contact me for the next business days as i am busy spiraling taylor swift taylors version tv taylors version swift tok"
          ],
          [
           "what a wild ride this song was taylor swift taylors version taylor nation swift ie taylor swift taylor nation"
          ],
          [
           "slt my fav but blank space changed the trajectory of her career taylor swift eras tour taylors version"
          ],
          [
           "green screen anyway swift ie swift tok taylor swift taylors version"
          ],
          [
           "best vault song she gagged him like okayyy taylor swift swift tok tv taylors version harry styles eras tour ts the eras tour vault tracks is it over now"
          ],
          [
           "everything is going wrong rip"
          ],
          [
           "this song is it over now taylor swift taylors version harry styles"
          ],
          [
           "goodbye"
          ],
          [
           "taylor swift taylors version taylors version swift ie swift tok style"
          ],
          [
           "im fucking crying"
          ],
          [
           "im unwell over this album taylors version taylor swift taylors version swift ie swift tok wonderland hay lor harry styles clean clean taylors version clean speech eras tour taylor nation taylor swift tok"
          ],
          [
           "we get hungry at the same time"
          ],
          [
           "my jaw dropped idf israel palestine free palestine girlmath green screen video green screen"
          ],
          [
           "is t and with is real free palestine"
          ],
          [
           "sooo whos gonna be serving cnt this halloween halloween costume ideas"
          ],
          [
           "the difference the comma makes really riles me up maroon taylor swift taylor swift swift tok taylor swift lyrics"
          ],
          [
           "silence is so loud gaza palestine"
          ],
          [
           "mother rage scares me sometimes mom parents family ska doo sh rel a table"
          ],
          [
           "why does she have real majorrrrr bruh"
          ],
          [
           "anyways go watch the interview of the israeli hostage saying she was treated kindly by hamas and that the idf shot their own citizens in the crossfire free palestine"
          ],
          [
           "follow me for more safety tips"
          ],
          [
           "replying to l p ur right winter sports arent real sports olympics skiing winter olympics"
          ],
          [
           "disney dont mind"
          ],
          [
           "guys can we please stop using yhe whole intro halloween halloween costume costume psycho killer"
          ],
          [
           "here we gothe hunt for moana begins disney disney years of magic disney th celebration disney card disney card fun disney card game disney cards disney card trading disney moana card moana disney moana disney moana card disney card opening disney week"
          ],
          [
           "this is a joke okay teacher teachers of tik tok trending teacher tok teacher life teachers on tik tok"
          ],
          [
           "shes genuinely so concerned taylor swift eras tour travis kel ce"
          ],
          [
           "why does this feel like the first time ive seen her kiss a bf taylor swift travis kel ce"
          ],
          [
           "her reaction she was shaking shes definitely in love go taylors boyfriend"
          ],
          [
           "thanks but no thanks wedding diy wedding wedding planning bride fiance engaged wedding tok"
          ],
          [
           "duet with drake bell la cam is a negra what a strange turn of events drake and josh drake campana drake bell"
          ],
          [
           "taylor would be proud that i took myself out of a bad environment but im so sad i didnt get to see the whole movie no one was dancing or cheering i dont know why this happened to me swift ie swift ies eras tour eras film eras tour film sad"
          ],
          [
           "with her grippers out too monkey roommates halloween halloween look costume ideas"
          ],
          [
           "marines usmc marine corps military"
          ],
          [
           "i was captivated lmaoo taylor swift eras tour eras tour movie cruel summer swift ie"
          ],
          [
           "lesson to be learned from this one"
          ],
          [
           "i wanna see one of their dingy missiles get past a csgs air defenses israel palestine gaza gaza conflict usa gerald r ford"
          ],
          [
           "i need to have a wedding rn i cannot rocky aur ran iki prem kahan i bollywood desi ran veer singh alia bhatt"
          ],
          [
           "real viral video"
          ],
          [
           "where yall at taylor eras movie taylor swift lover folklore where is everybody help"
          ],
          [
           "carrying this burden for years will have had its toll heartbreak will smith jada pinkett smith years emotions running high"
          ],
          [
           "so goooood taylor swift taylor swift eras tour film"
          ],
          [
           "free palestine"
          ],
          [
           "dania دانيا the story of palestine story of palestine israelis an apartheid state one state solution"
          ],
          [
           "history of israel kids edition minnesota minneapolis gaza parents of tik tok palestine israel stand with palestine is t and with gaza"
          ],
          [
           "replying to pink she cant dancewho agrees taylor swift eras tour eras eras tour taylor swift taylor swift swift ok swift nation"
          ],
          [
           "we ended up going to ulta more stores after we got said pretzels"
          ],
          [
           "the everything bag except i dont even have enough stuff to fill it with this is gonna be my schoolworklibrary bag for sure"
          ],
          [
           "israel gaza israel hamas war"
          ],
          [
           "uh oh viral"
          ],
          [
           "another eras inspired halloween costume but this time make it an entire family theatrical performance of the greatest on stage costume change ever taylor swift and samobam hope we did it justice ts the eras tour the eras tour taylor swift costume taylor swift halloween taylor swift style swift ie swift tok swift ie tik tok taylor swift ts eras tour eras tour midnight rain"
          ],
          [
           "free palestine free palestine"
          ],
          [
           "slay queen"
          ],
          [
           "snl snl skit fy pppppppp pppppppp pppppppp pppppppp ppp viral viral snl meme black meme black tik tok viral video zy x cba"
          ],
          [
           "and fwiw i think beyoncé was def on my side in the fight eras tour eras tour movie taylor swift beyonce green screen video"
          ],
          [
           "the reality of apartheid in israel and palestine west bank israel palestine gaza"
          ],
          [
           "its just a joke halloween candy office halloween party halloween treats"
          ],
          [
           "from the river to the sea free palestine palestine free pala stine milk a the e movement"
          ],
          [
           "protesters calling to stop the genocide in gaza held a diein at the harvard business school campus wednesday at one point a handful briefly engaged with a person walking among them more at nbcbostoncom israel hamas boston massachusetts news video"
          ],
          [
           "gaza gaza under attack palestine free palestine"
          ],
          [
           "funniest thing ive ever seen hah a nyc subway"
          ],
          [
           "guys how is this real firstly please tell us that our intern milly hitcham isnt the only one who resorts to dry humour in the face of chaos secondly were sending so much love to everyone affected by the adhd medication shortage as an adhd therapy company stimuli is always here for adhders as a company ran by employees who all have adhd we especially relate to the anxiety caused by our current moment adhd adhd medication adhd therapy"
          ],
          [
           "dont need friends who are complicit in genocde palestine free palestine"
          ],
          [
           "manhattan will foerver confuse me nyc storefronts new york"
          ],
          [
           "olay skin care keeps my skin on glow o lay partner body care vitamin c"
          ],
          [
           "free palestine free palestine end occupation of palestine end occupation"
          ],
          [
           "right on cue nyc thank you nyc nyc weather nyc rain im grateful all the time weather new york city nyc rainy day weekend in nyc"
          ],
          [
           "ketchup on top jersey y joe jersey trend viral"
          ],
          [
           "taylor swift eras tour"
          ],
          [
           "stitch with nafubabu green screen i know some south asian history too you know palestine stand with palestine free palestine bangladesh bangladesh stands with palestine bangladesh"
          ],
          [
           "free palestine stand with palestine stand with israeli people decolonize your mind"
          ],
          [
           "i saw a video that was like im everybodys running a half marathon or getting engaged years old and i cant remember who it was creds to them but i cant stop thinking about how true it is run tok runner runner things half marathon half marathon training"
          ],
          [
           "so glad to be done with this fucking essay senior it is college essay"
          ],
          [
           "cap cut wait why does the picture lowkey work taylor swift swift tok tv style"
          ],
          [
           "my sister olivia rodrigo"
          ],
          [
           "who knew olivia was so pro palestine pro palestine palestine free palestine"
          ],
          [
           "haha yeah olivia rodrigo"
          ],
          [
           "i made a great choice for them taylor swift eras tour eras movie lg ad father daughter dads of tik tok"
          ],
          [
           "like damn renegade taylor swift taylor swift swift ie taylors version swift ies swift tok renegade taylor big red machine"
          ],
          [
           "since yall saying yall stand with them leave your homes and give it to them palestine israel"
          ],
          [
           "who wouldnt tho eras tour movie taylor swift"
          ],
          [
           "taylors eras tour movie but make it circular economy taylor swift eras tour movie eras movie premiere taylor swift"
          ],
          [
           "dont speak on what you dont know but then aak yourself why you dont know palestine israel palestine free palestine information age of information"
          ],
          [
           "viral"
          ],
          [
           "still shaking eras tour movie premiere taylor swift eras tour concert film eras tour swift tok"
          ],
          [
           "my luggage lives out there at this point beis travel paris bedbugs"
          ],
          [
           "i cant get over this video like taylor reached for our phone and i told her no like who do i think i am taylor swift the eras movie premiere the grovel a swift tok eras movie premiere ts the eras tour film ts the eras tour film premiere taylor nation"
          ],
          [
           "palestinian israeli conflict summarized arab tok palestine"
          ],
          [
           "you cant win"
          ],
          [
           "self destructive girls rise taylor swift taylors version taylor nation taylor swift tok swift ie taylor swift taylors version taylor nation taylor swift tok swift ie mess it up"
          ],
          [
           "im gonna wait and get my popcorn bucket once its about to start ts the eras tour film ts the eras tour taylor swift swift tok swift ie"
          ],
          [
           "paris"
          ],
          [
           "its a bad habit kim kardashian voice note friends the kardashian s viral"
          ],
          [
           "two besties who only gossip in chinese"
          ],
          [
           "it wasnt that bad most theaters were pretty clean it seemed that certain rows were super messy but the majority were pristine i give yall a based off night and cleaning after shows swift ies taylor swifter as eras tour film movie theater employees time lapse satisfying cleaning"
          ],
          [
           "friday the th got the best of some of us"
          ],
          [
           "wow solar eclipse"
          ],
          [
           "taylor swift the eras tour the eras tour movie all too well min"
          ],
          [
           "i need caffeine college student college life college"
          ],
          [
           "replying to laura be this editing is so funny to me taylor swift taylors version i know places world tour"
          ],
          [
           "ghost trend ghost photoshoot"
          ],
          [
           "was the set of the exorcist cursed listen to this weeks episode curse horror movie the exorcist scary spooky creepy history dark ghost demon spirit halloween season story no sleep strange weird"
          ],
          [
           "free palestine justice for palestine"
          ],
          [
           "its giving i know something you dont but maybe im a skeptic israel usa america free palestine"
          ],
          [
           "replying to martin stop asking us about hamas as im uploading this a genocide is happening israel palestine war crimes genocide hamas biden apartheid"
          ],
          [
           "from seoul to new york protests on behalf of palestine have unfolded across the globe palestine protests israel news"
          ],
          [
           "bangladesh palestine muslim palestine arab arab tik tok"
          ],
          [
           "free palestine"
          ],
          [
           "its painful to watch patriots nfl tom brady mac jones"
          ],
          [
           "just wait for her reaction when she finds out i was giving her the tushbaby to keep i love tushn people especially at disbeyland gifting disneyland disney hack toddler baby heavy baby feelgood heartwarming"
          ],
          [
           "the fact that she thought they were booing her taylor swift viral kanye west swift ies trending"
          ],
          [
           "and also got rudely asked to stop when i started singing quietly taylor swift eras tour eras tour movie taylor swift movie viral taylor nation"
          ],
          [
           "the best moment of my life is now immortalized in hd in the eras tour movie eras tour the eras tour taylor swift eras tour movie"
          ],
          [
           "the taylor swift eras movie was such a delight eras movie premiere"
          ],
          [
           "hope youre havin fun in paradise jimmybuffett jimmy buffett margarita ville"
          ],
          [
           "this is my olympics swift tok taylors version tv eras tour eras tour movie taylor swift swift ie spot if y wrapped"
          ],
          [
           "fewest days off in the ivy league u penn fall break"
          ],
          [
           "yall gon make me lose my mind explained politics israel palestine geography united states cc"
          ],
          [
           "columbia university on lockdown for palestinian protest"
          ],
          [
           "so this happened last night i waited years for this magical moment i am glad i met the woman whose music i grew up listening to taylor swift i appreciate you and love you swift ie taylor swift ts the eras tour film ts the eras tour film premiere los angeles the grove taylors version ts the eras tour s of i stadium s of i stadium taylor swift hollywood"
          ],
          [
           "i rlly hope this is true cause book tok taylor swift swift tok eras movie taylors version travis kel ce"
          ],
          [
           "wasnt even worth the hurt breakup healing journey breakup healing process breakup tik tok breakup tok breakup story"
          ],
          [
           "dorothy hoffner a lifelong chicagoan and centenarian who recently set a world record for being the oldest person to ever participate in a tandem skydive has passed away just a week after her incredible jump officials at the brookdale senior living center confirmed that hoffner died in her sleep on sunday night chicago chicago news skydiving skydive"
          ],
          [
           "jewish author asking you once again before you speak on whats happening to read anything by a palestinian author and listen to palestinians book tok fy p palestine"
          ],
          [
           "taylor swift getting to experience the eras tour as a swiftie as she watches along at the movie premiere is so powerful ts the eras tour ts the eras tour film swift tok"
          ],
          [
           "tik tok jews zionism viral viral video trending trend respect palestine free palestine israel gaza video"
          ],
          [
           "i just white gurl danced so well taylor swift folklore"
          ],
          [
           "how is this real life swift tok swift ie eras tour eras tour taylor swift"
          ],
          [
           "sure these celebs can raise awareness but this aint ultimate team why are people stat padding what celebs on whos side smh palestine israel gaza free palestine"
          ],
          [
           "guess we chose the right man for the job"
          ],
          [
           "free palestine"
          ],
          [
           "taylor swift has arrived at the ts eras tour movie premiere"
          ],
          [
           "release date reveal at the end"
          ],
          [
           "jada pinkett smith reveals in new interviews that she and will smith have been separated since link in bio for everything she had to say getty"
          ],
          [
           "one hawaii resident says some tourists are carrying on with their holidays as normal after at least people died in wildfires lahaina maui hawaii hawaii fire wildfire maui fire tourism us extreme weather bbc news"
          ],
          [
           "palestinian ambassador to the uk blasts the bbc for its biased coverage dont equate between the occupied and the occupier husam zomlot the head of the palestinian mission to the uk blasted the bbc over its biased coverage during an interview in which he was asked whether he would condemn the unprecedented military attack by hamas on israel bbc israel palestinian ambassador gaza learn on tik tok viral london bbc news"
          ],
          [
           "replying to 𝙽𝙰𝙶𝙷𝙰𝙼 the media wont show you the reality of loving in gaza i recommend watching the full documentary gaza fights for freedom directed by abby martin its available to watch on youtube free palest i free palestine s colonisation occupation of palestine apartheid"
          ],
          [
           "shani louk didnt deserve this at all hamas is attacking israel and taking their families to kill them to death but femals are getting harassed by hamas gaza and killing them the president announced that we stand with israel and help them we going to ww shani lou k hamas gaza israelis under at t tacked israel hamas attack israel ww rip sad news"
          ],
          [
           "no this is fake this isnt real olivia rodrigo l ivies olivia rodrigo guts olivia rodrigo concert guts album"
          ],
          [
           "free palestine jews for palestine"
          ],
          [
           "free palestine arab arab tik tok palestine free palestine lebanon"
          ],
          [
           "the first casualty when it comes to war is truth"
          ],
          [
           "grace my dancing buddy l irish dance dance"
          ],
          [
           "its a habit"
          ],
          [
           "fall festivities"
          ],
          [
           "im actually shooketh to the core baby girl better get her lawyers ready guts olivia rodrigo guts olivia rodrigo guts album ps im a swiftie this is just satire dont come for me unless i send for you"
          ],
          [
           "asking israelis about palestine at if tv interview palestine israel lebanon street interview public interview steve in the streets"
          ],
          [
           "guess were not going to talk about university quotas on jewish students jewish jewish on campus jewish tik tok jew tok college student"
          ],
          [
           "hamas fighters ran up in israeli towns unaliving abducting hundreds of citizens the hamas group feels palestenians have been done wrong want to establish an islamic palestenian state get rid of israel the hamas group governs approximately million palestinians in the gaza strip is well known for its resistance to israel they are known to be antisemantic towards their jewish neighbors"
          ],
          [
           "you cant win"
          ],
          [
           "life is good"
          ],
          [
           "forever on his mind"
          ],
          [
           "sorry stace but they got ya fraud scam"
          ],
          [
           "mental health medication can be life saving remember that mental health matters"
          ],
          [
           "its actually really far chicago marathon marathon runner marathon training"
          ],
          [
           "fuck it we ball swag michigan"
          ],
          [
           "a ranking taylor swift swift tok evermore"
          ],
          [
           "taylor and travis are my roman empire taylor swift swift ie travis kel ce kansas city che if s swift tok"
          ],
          [
           "available now taylor swift swift ie swift tok the eras tour taylors version taylor swifter as"
          ],
          [
           "i like being dramatic roomate room ie college dorm roomate s"
          ],
          [
           "is this the best beauty advent calendar of all time advent calendar beauty advent calendar p louise p louise advent calendar"
          ],
          [
           "which other advent calendars should i unbox u lta advent calendar u lta beauty beauty advent calendar advent calendar"
          ],
          [
           "its a thanksgiving tradition shout out ot basketball thanksgiving"
          ],
          [
           "spanish king the boyz tbz kpop k pop fy p eric"
          ],
          [
           "these olaplex holiday kits are my favorite gifts under the tree this year"
          ],
          [
           "just taemin casually taking foot long steps taemin shinee mma sherlock k pop k pop fy p nd gen"
          ],
          [
           "best mexican thanksgiving turkey thanksgiving mexican turkey"
          ],
          [
           "pumpkin pie pumpkin pie thanksgiving plates friends giving"
          ]
         ],
         "hovertemplate": "tsne_1=%{x}<br>tsne_2=%{y}<br>description=%{customdata[0]}<br>cluster=%{marker.color}<extra></extra>",
         "legendgroup": "",
         "marker": {
          "color": [
           0,
           0,
           5,
           3,
           0,
           3,
           7,
           3,
           3,
           0,
           0,
           0,
           5,
           0,
           7,
           7,
           8,
           7,
           5,
           3,
           3,
           0,
           5,
           5,
           7,
           5,
           5,
           7,
           3,
           3,
           5,
           5,
           5,
           3,
           3,
           5,
           8,
           5,
           8,
           7,
           3,
           5,
           7,
           7,
           0,
           5,
           7,
           7,
           8,
           7,
           7,
           5,
           8,
           7,
           3,
           3,
           3,
           3,
           8,
           3,
           3,
           5,
           5,
           5,
           3,
           8,
           3,
           3,
           0,
           3,
           3,
           3,
           4,
           1,
           5,
           5,
           5,
           0,
           5,
           3,
           3,
           3,
           7,
           5,
           5,
           8,
           5,
           5,
           5,
           0,
           0,
           5,
           7,
           0,
           0,
           0,
           0,
           0,
           0,
           0,
           5,
           0,
           0,
           0,
           0,
           3,
           3,
           0,
           0,
           0,
           0,
           0,
           0,
           0,
           3,
           0,
           0,
           0,
           0,
           0,
           0,
           0,
           3,
           0,
           0,
           0,
           0,
           0,
           0,
           0,
           3,
           3,
           3,
           5,
           0,
           0,
           0,
           0,
           0,
           0,
           3,
           5,
           1,
           0,
           5,
           0,
           2,
           0,
           2,
           2,
           2,
           3,
           6,
           5,
           3,
           2,
           5,
           0,
           0,
           1,
           1,
           1,
           1,
           1,
           0,
           5,
           5,
           0,
           3,
           0,
           5,
           6,
           6,
           2,
           1,
           6,
           1,
           0,
           0,
           1,
           5,
           6,
           1,
           2,
           0,
           4,
           5,
           6,
           6,
           1,
           1,
           1,
           6,
           1,
           6,
           6,
           2,
           6,
           2,
           6,
           6,
           6,
           6,
           5,
           6,
           2,
           6,
           6,
           6,
           6,
           6,
           6,
           6,
           5,
           5,
           5,
           5,
           5,
           6,
           6,
           6,
           5,
           1,
           5,
           5,
           5,
           2,
           5,
           5,
           5,
           5,
           5,
           5,
           5,
           5,
           5,
           5,
           5,
           4,
           3,
           5,
           5,
           5,
           8,
           5,
           5,
           2,
           5,
           2,
           5,
           3,
           5,
           5,
           6,
           5,
           5,
           2,
           3,
           5,
           5,
           5,
           1,
           6,
           4,
           1,
           5,
           4,
           1,
           5,
           5,
           4,
           1,
           0,
           4,
           4,
           3,
           3,
           1,
           4,
           2,
           5,
           6,
           4,
           1,
           4,
           1,
           3,
           6,
           3,
           0,
           1,
           4,
           6,
           5,
           5,
           1,
           1,
           1,
           1,
           4,
           4,
           4,
           4,
           0,
           4,
           2,
           3,
           1,
           3,
           3,
           8,
           5,
           3,
           1,
           0,
           1,
           6,
           5,
           4,
           1,
           2,
           3,
           6,
           5,
           0,
           3,
           4,
           3,
           1,
           0,
           7,
           2,
           1,
           1,
           5,
           4,
           2,
           1,
           4,
           4,
           3,
           3,
           5,
           2,
           0,
           2,
           4,
           0,
           4,
           3,
           1,
           1,
           3,
           3,
           4,
           1,
           1,
           3,
           4,
           1,
           2,
           2,
           2,
           2,
           8,
           1,
           4,
           4,
           2,
           3,
           0,
           7,
           2,
           2,
           2,
           3,
           1,
           3,
           4,
           4,
           1,
           1,
           3,
           7,
           3,
           8,
           1,
           1,
           8,
           4,
           1,
           1,
           1,
           1,
           5,
           1,
           1,
           8,
           3,
           4,
           0,
           8,
           1,
           8,
           3,
           8,
           1,
           8,
           8,
           8,
           8,
           8,
           7,
           8,
           3,
           8,
           2,
           1,
           1,
           1,
           1,
           4,
           8,
           8,
           2,
           1,
           8,
           1,
           8,
           8,
           4,
           2,
           1,
           1,
           2,
           8,
           4,
           3,
           0,
           2,
           1,
           1,
           2,
           1,
           3,
           1,
           7,
           1,
           3,
           1,
           0,
           1,
           8,
           1,
           5,
           0,
           1,
           1,
           0,
           3,
           3,
           2,
           1,
           1,
           0,
           0,
           1,
           7,
           1,
           4,
           0,
           3,
           1,
           7,
           1,
           1,
           1,
           1,
           1,
           1,
           1,
           1,
           1,
           5,
           7,
           1,
           4,
           4,
           1,
           1,
           1,
           5,
           7,
           1,
           3,
           2,
           1,
           1,
           5,
           1,
           4,
           1,
           1,
           2,
           1,
           1,
           8,
           1,
           7,
           1,
           5,
           5,
           7,
           0,
           1,
           0,
           1,
           1,
           1,
           5,
           1,
           1,
           4,
           1,
           1,
           7,
           1,
           7,
           4,
           1,
           1,
           1,
           5,
           7,
           1,
           7,
           1,
           7,
           0,
           2,
           1,
           2,
           1,
           1,
           1,
           1,
           1,
           1,
           1,
           1,
           0,
           1,
           3,
           1,
           3,
           0,
           1,
           1,
           1,
           5,
           0,
           0,
           1,
           1,
           1,
           1,
           4,
           1,
           4,
           3,
           1,
           3,
           1,
           3,
           1,
           3,
           2,
           2,
           5,
           1,
           2,
           3,
           3,
           2,
           3,
           0,
           3,
           5,
           0,
           0,
           4,
           1,
           0,
           0,
           0,
           4,
           5,
           3,
           4,
           3,
           2,
           0,
           3,
           4,
           0,
           4,
           2,
           2,
           2,
           4,
           0,
           3,
           2,
           3,
           4,
           2,
           3,
           7,
           4,
           2,
           5,
           2,
           2,
           2,
           8,
           3,
           2,
           8,
           0,
           2,
           8,
           0,
           4,
           2,
           2,
           8,
           3,
           1,
           0,
           2,
           0,
           4,
           1,
           2,
           4,
           4,
           2,
           3,
           4,
           0,
           4,
           2,
           3,
           1,
           4,
           3,
           0,
           3,
           0,
           5,
           3,
           4,
           3,
           1,
           3,
           5,
           2,
           2,
           2,
           2,
           2,
           2,
           0,
           0,
           1,
           4,
           4,
           4,
           0,
           4,
           0,
           2,
           2,
           4,
           1,
           3,
           0,
           2,
           4,
           2,
           1,
           4,
           2,
           3,
           2,
           4,
           3,
           0,
           0,
           2,
           2,
           2,
           0,
           2,
           2,
           3,
           0,
           3,
           5,
           0,
           2,
           0,
           2,
           3,
           3,
           3,
           3,
           3,
           8,
           3,
           1,
           1,
           1,
           3,
           5,
           5,
           5,
           0,
           5,
           0,
           5,
           5
          ],
          "coloraxis": "coloraxis",
          "symbol": "circle"
         },
         "mode": "markers+text",
         "name": "",
         "orientation": "v",
         "showlegend": false,
         "textfont": {
          "size": 6
         },
         "textposition": "top center",
         "type": "scatter",
         "x": [
          3.7825498580932617,
          -14.72614860534668,
          -24.326784133911133,
          -20.365001678466797,
          9.418864250183105,
          -0.22878970205783844,
          -8.89173698425293,
          -5.869554042816162,
          -1.1125582456588745,
          3.7407891750335693,
          6.950695991516113,
          20.366262435913086,
          -12.094075202941895,
          3.9315690994262695,
          -8.51229476928711,
          -8.447397232055664,
          -14.083516120910645,
          -8.291361808776855,
          -23.269474029541016,
          -0.3496255874633789,
          -6.184924125671387,
          11.396581649780273,
          -22.439741134643555,
          -25.463895797729492,
          -8.92069149017334,
          -25.03639793395996,
          -24.404937744140625,
          -6.408568382263184,
          -17.643007278442383,
          -9.729414939880371,
          -25.217952728271484,
          -18.260221481323242,
          -23.47184944152832,
          -13.51949405670166,
          -7.948788166046143,
          -21.978836059570312,
          -13.878981590270996,
          -22.88142967224121,
          -13.941160202026367,
          -6.886895179748535,
          -6.6951823234558105,
          -22.77115821838379,
          -8.451894760131836,
          -6.374881267547607,
          7.968885898590088,
          -12.10902214050293,
          -5.874166965484619,
          -9.315502166748047,
          -14.056049346923828,
          -8.138237953186035,
          -5.874122619628906,
          -16.019447326660156,
          -13.988424301147461,
          -5.87415075302124,
          -12.576748847961426,
          1.631646990776062,
          -0.1984633505344391,
          -11.222198486328125,
          -13.941160202026367,
          -0.7275341153144836,
          -19.135488510131836,
          -16.055416107177734,
          -13.427215576171875,
          -12.900070190429688,
          -21.026092529296875,
          0.31242215633392334,
          7.468064308166504,
          -21.246288299560547,
          3.9361777305603027,
          2.4147214889526367,
          1.6344505548477173,
          2.264486074447632,
          23.63721466064453,
          29.891151428222656,
          -13.82635498046875,
          -13.66726016998291,
          -12.677702903747559,
          8.116236686706543,
          -16.070661544799805,
          -20.12871551513672,
          -19.85293197631836,
          -20.493457794189453,
          -7.304806709289551,
          -12.605165481567383,
          -16.6529483795166,
          0.15744102001190186,
          -15.090609550476074,
          -15.384284973144531,
          -16.00143814086914,
          3.6184802055358887,
          -11.068589210510254,
          -16.027528762817383,
          -5.036532878875732,
          3.757262945175171,
          -6.406859874725342,
          7.0060882568359375,
          6.8031535148620605,
          6.6635003089904785,
          -5.652310371398926,
          6.948907852172852,
          -16.56658172607422,
          -21.404409408569336,
          -5.448472499847412,
          -15.488429069519043,
          2.9602394104003906,
          -11.884740829467773,
          -5.201216220855713,
          6.630767345428467,
          29.557161331176758,
          6.302964210510254,
          6.586251258850098,
          4.334185600280762,
          4.308533191680908,
          -4.025300979614258,
          -17.577674865722656,
          -8.5889892578125,
          8.81562328338623,
          5.872330665588379,
          6.146444797515869,
          5.25344181060791,
          4.718366622924805,
          5.962766170501709,
          -4.884773254394531,
          11.866774559020996,
          12.610014915466309,
          12.370800971984863,
          10.600906372070312,
          9.407361030578613,
          9.980080604553223,
          9.670905113220215,
          -9.072449684143066,
          2.413137435913086,
          -15.031771659851074,
          -19.629579544067383,
          9.099693298339844,
          10.757192611694336,
          9.91081714630127,
          22.33315658569336,
          11.637677192687988,
          6.997340679168701,
          -5.611521244049072,
          -24.112241744995117,
          26.05787467956543,
          -24.105667114257812,
          -24.226049423217773,
          7.271206855773926,
          -14.348908424377441,
          8.549836158752441,
          -13.159797668457031,
          -20.728124618530273,
          -16.718063354492188,
          -4.163713455200195,
          5.957444190979004,
          -27.25743293762207,
          0.35669633746147156,
          -17.427061080932617,
          -26.876134872436523,
          -5.984370231628418,
          -5.652270317077637,
          26.597980499267578,
          27.691347122192383,
          22.25599479675293,
          14.033291816711426,
          27.083038330078125,
          8.583274841308594,
          -27.997726440429688,
          -23.868452072143555,
          5.593985557556152,
          -7.628981590270996,
          22.824256896972656,
          -24.945627212524414,
          3.590153932571411,
          3.173915386199951,
          -11.26487922668457,
          22.24323272705078,
          3.869224786758423,
          26.166669845581055,
          8.60659408569336,
          -3.5653953552246094,
          25.772794723510742,
          -22.26656150817871,
          1.570712685585022,
          27.53936767578125,
          -17.48535919189453,
          14.83362102508545,
          26.008840560913086,
          -23.09355926513672,
          5.51884126663208,
          5.244838237762451,
          16.897768020629883,
          24.23841667175293,
          23.180301666259766,
          2.118213415145874,
          12.22817611694336,
          1.8079335689544678,
          2.1774051189422607,
          -11.762502670288086,
          3.880586624145508,
          -10.714162826538086,
          2.722426652908325,
          6.232173442840576,
          6.0594305992126465,
          5.250887393951416,
          -21.99839210510254,
          4.668672561645508,
          -12.231684684753418,
          4.823456287384033,
          5.745087146759033,
          4.576728820800781,
          4.646020889282227,
          5.0729804039001465,
          5.787813186645508,
          5.040565490722656,
          -23.45962905883789,
          -21.70491600036621,
          -22.764986038208008,
          -21.98265266418457,
          -24.911048889160156,
          3.20345401763916,
          4.191729545593262,
          2.9802041053771973,
          -27.11329460144043,
          22.8258056640625,
          -20.312158584594727,
          -20.965808868408203,
          -26.1578426361084,
          -13.416417121887207,
          -28.233407974243164,
          -24.926240921020508,
          -26.03963279724121,
          -21.84473991394043,
          -22.57697868347168,
          -26.03963279724121,
          -26.121618270874023,
          -25.463895797729492,
          -22.751739501953125,
          -22.70684814453125,
          -24.579357147216797,
          23.94632911682129,
          -8.387295722961426,
          -12.392576217651367,
          -25.43444061279297,
          -26.166709899902344,
          -9.303205490112305,
          -22.71331214904785,
          -26.162561416625977,
          -20.820289611816406,
          -20.111574172973633,
          -16.528913497924805,
          -23.264619827270508,
          -1.419779896736145,
          -23.544769287109375,
          -27.521747589111328,
          3.9343678951263428,
          -23.849699020385742,
          -21.978836059570312,
          -15.320489883422852,
          0.20689409971237183,
          -24.505754470825195,
          -23.53777503967285,
          -22.99115562438965,
          20.272687911987305,
          7.089818954467773,
          24.021535873413086,
          24.83203887939453,
          -26.151683807373047,
          24.00823974609375,
          11.29036808013916,
          -21.361087799072266,
          -22.32712745666504,
          24.986400604248047,
          24.313024520874023,
          -28.700416564941406,
          28.021352767944336,
          33.68040084838867,
          -14.928160667419434,
          -10.504862785339355,
          21.70804214477539,
          33.877750396728516,
          -16.62114906311035,
          -28.419784545898438,
          6.572619915008545,
          31.786108016967773,
          24.98927879333496,
          32.97234344482422,
          18.240066528320312,
          -6.578537464141846,
          6.189911365509033,
          1.3546078205108643,
          3.1174871921539307,
          25.003570556640625,
          27.5660400390625,
          6.681710720062256,
          -24.391481399536133,
          -23.1964054107666,
          16.483444213867188,
          23.788301467895508,
          22.118515014648438,
          16.012170791625977,
          32.863651275634766,
          33.42307662963867,
          33.94932556152344,
          28.058364868164062,
          -14.952902793884277,
          27.755563735961914,
          -15.693866729736328,
          -8.083173751831055,
          26.07788848876953,
          -2.422680139541626,
          -6.943541526794434,
          6.212883472442627,
          -21.805973052978516,
          30.252565383911133,
          26.539674758911133,
          -21.945438385009766,
          11.3533353805542,
          1.6087110042572021,
          -21.127769470214844,
          20.756778717041016,
          17.090600967407227,
          -15.76017951965332,
          0.6053263545036316,
          3.383887529373169,
          -26.226856231689453,
          34.83150863647461,
          -2.8031535148620605,
          27.270265579223633,
          -16.680543899536133,
          26.767677307128906,
          -14.163445472717285,
          -7.55738639831543,
          -15.81195068359375,
          25.321428298950195,
          22.443513870239258,
          -28.430667877197266,
          27.821298599243164,
          -17.12759780883789,
          25.26282501220703,
          23.022411346435547,
          29.936994552612305,
          -7.005277633666992,
          -14.868278503417969,
          -21.120126724243164,
          -10.303387641906738,
          -22.337671279907227,
          -16.377666473388672,
          19.798372268676758,
          -15.697248458862305,
          29.257108688354492,
          0.8302060961723328,
          16.260910034179688,
          14.557394027709961,
          -5.0453925132751465,
          -12.0587158203125,
          30.240827560424805,
          28.883220672607422,
          29.56338119506836,
          -7.316632270812988,
          25.202451705932617,
          23.90572166442871,
          -14.158379554748535,
          -12.807023048400879,
          -15.11354923248291,
          -15.197774887084961,
          1.6425466537475586,
          24.05781364440918,
          33.026939392089844,
          23.635520935058594,
          -14.358814239501953,
          -15.945390701293945,
          -2.9451847076416016,
          -9.410892486572266,
          -15.691446304321289,
          -12.05569839477539,
          -14.380515098571777,
          -6.628844738006592,
          29.47418975830078,
          -17.66078758239746,
          23.57540512084961,
          31.905176162719727,
          28.479820251464844,
          26.04755973815918,
          -7.501023769378662,
          -6.766699314117432,
          -6.891978740692139,
          3.442303419113159,
          16.07278823852539,
          24.0548152923584,
          3.7065412998199463,
          32.921897888183594,
          22.83502769470215,
          14.358977317810059,
          22.91077423095703,
          27.474794387817383,
          -16.67144203186035,
          18.277164459228516,
          18.334068298339844,
          3.0473883152008057,
          -16.91683578491211,
          33.07697677612305,
          -0.5467269420623779,
          4.516429424285889,
          23.11887550354004,
          3.509340524673462,
          -8.079192161560059,
          4.1991286277771,
          28.09490966796875,
          4.091062068939209,
          4.916243076324463,
          2.5737390518188477,
          2.7893991470336914,
          5.485546112060547,
          -7.962381362915039,
          4.8559064865112305,
          -7.103488445281982,
          3.9936041831970215,
          -17.837493896484375,
          22.919462203979492,
          25.101831436157227,
          27.61250877380371,
          24.343774795532227,
          27.12326431274414,
          3.6246964931488037,
          4.234657287597656,
          -19.3286190032959,
          21.223682403564453,
          5.088502407073975,
          23.840984344482422,
          2.007584571838379,
          4.762257099151611,
          28.585020065307617,
          -15.926275253295898,
          17.84148406982422,
          16.76373863220215,
          -14.060251235961914,
          2.7723608016967773,
          23.80377960205078,
          -1.7701338529586792,
          -21.860469818115234,
          -17.579185485839844,
          17.695735931396484,
          17.493568420410156,
          -19.411317825317383,
          20.74049949645996,
          -0.25126802921295166,
          23.814258575439453,
          -9.068662643432617,
          21.419897079467773,
          -28.47467803955078,
          25.364505767822266,
          -0.30570465326309204,
          23.09714126586914,
          4.221944332122803,
          20.075166702270508,
          -13.050320625305176,
          19.47557258605957,
          19.387861251831055,
          23.994598388671875,
          2.3741567134857178,
          0.1970604956150055,
          -1.0603927373886108,
          -20.712703704833984,
          25.4373722076416,
          19.776765823364258,
          -0.875418484210968,
          -0.2571087181568146,
          16.034305572509766,
          -8.914358139038086,
          21.478050231933594,
          25.82794761657715,
          13.958120346069336,
          -7.946877479553223,
          17.865354537963867,
          -7.607773780822754,
          26.61655616760254,
          14.570327758789062,
          23.044218063354492,
          20.012348175048828,
          25.09754753112793,
          25.066543579101562,
          18.20309829711914,
          26.67388153076172,
          22.313180923461914,
          -13.464447975158691,
          -8.195281028747559,
          20.633440017700195,
          28.09727668762207,
          26.296051025390625,
          16.10023307800293,
          12.703817367553711,
          20.082889556884766,
          -11.457036972045898,
          -8.033278465270996,
          26.05424690246582,
          -18.94440269470215,
          -14.656343460083008,
          23.51707649230957,
          14.894508361816406,
          -12.248353004455566,
          22.829479217529297,
          29.164039611816406,
          22.129905700683594,
          19.43269157409668,
          -16.664674758911133,
          16.51746368408203,
          22.00969123840332,
          0.9134306907653809,
          22.183073043823242,
          -6.8568830490112305,
          17.416358947753906,
          -11.69197940826416,
          -13.682267189025879,
          -7.611269474029541,
          20.478036880493164,
          22.695693969726562,
          2.6616435050964355,
          17.54671859741211,
          17.221637725830078,
          17.658185958862305,
          -14.424981117248535,
          16.867307662963867,
          25.061782836914062,
          26.519329071044922,
          27.93311882019043,
          13.534649848937988,
          -7.313979625701904,
          18.525846481323242,
          -6.714931488037109,
          30.00527572631836,
          18.021501541137695,
          18.152660369873047,
          28.047353744506836,
          -10.864831924438477,
          -8.622309684753418,
          17.677335739135742,
          -7.731663703918457,
          21.539674758911133,
          -8.000110626220703,
          -15.625155448913574,
          -14.668785095214844,
          19.227672576904297,
          -19.3286190032959,
          16.870262145996094,
          23.997493743896484,
          22.801637649536133,
          15.588105201721191,
          28.196706771850586,
          26.056743621826172,
          22.365764617919922,
          21.286354064941406,
          10.057697296142578,
          15.094695091247559,
          -3.5083353519439697,
          14.719161987304688,
          3.2955079078674316,
          15.269558906555176,
          24.577245712280273,
          20.239885330200195,
          26.58052635192871,
          -12.647162437438965,
          8.315183639526367,
          -0.7834294438362122,
          19.556520462036133,
          22.248291015625,
          19.186559677124023,
          23.263486862182617,
          22.820791244506836,
          25.029470443725586,
          21.332977294921875,
          -5.431771278381348,
          18.98423957824707,
          -9.005017280578613,
          24.32448959350586,
          -5.574976921081543,
          24.306732177734375,
          -18.682132720947266,
          -19.21908950805664,
          -18.990354537963867,
          -11.404943466186523,
          25.749788284301758,
          -13.992270469665527,
          -17.704498291015625,
          3.122330665588379,
          -12.31102180480957,
          -7.954997539520264,
          3.6597676277160645,
          2.4761881828308105,
          -11.660844802856445,
          2.4708142280578613,
          8.845327377319336,
          19.751855850219727,
          18.05763816833496,
          17.46249008178711,
          6.45626163482666,
          4.001354694366455,
          27.384126663208008,
          -11.909126281738281,
          -10.128864288330078,
          26.87699317932129,
          -1.5752977132797241,
          -13.273795127868652,
          33.662506103515625,
          -5.427231311798096,
          20.573213577270508,
          12.401618003845215,
          24.9138240814209,
          -19.143892288208008,
          -16.725614547729492,
          -15.436368942260742,
          28.03180503845215,
          -20.226314544677734,
          -15.03002643585205,
          -13.292093276977539,
          -5.771872043609619,
          26.640621185302734,
          -18.6241397857666,
          -5.503840446472168,
          -5.60268497467041,
          25.262226104736328,
          -16.14731788635254,
          -12.697888374328613,
          -20.5749454498291,
          -10.1640625,
          -14.751302719116211,
          1.8058204650878906,
          -15.160140037536621,
          -17.2194881439209,
          0.6912795901298523,
          -28.748760223388672,
          -18.686626434326172,
          0.8493099212646484,
          17.203136444091797,
          24.382871627807617,
          -18.991973876953125,
          -16.85228157043457,
          5.757693290710449,
          -6.069447994232178,
          25.807106018066406,
          8.52428150177002,
          -18.038223266601562,
          8.263765335083008,
          26.454282760620117,
          25.570497512817383,
          -15.596659660339355,
          25.55189323425293,
          26.681154251098633,
          -17.33683204650879,
          -5.692097187042236,
          27.889936447143555,
          -12.983272552490234,
          27.26207733154297,
          -17.885211944580078,
          -5.238429546356201,
          24.91758155822754,
          30.041366577148438,
          -11.927833557128906,
          13.146080017089844,
          -2.8939085006713867,
          27.415395736694336,
          -15.400720596313477,
          -17.44585418701172,
          27.385684967041016,
          -7.508618354797363,
          15.856773376464844,
          -13.20726490020752,
          -14.895275115966797,
          -18.35350227355957,
          -16.908132553100586,
          -13.130186080932617,
          -10.385583877563477,
          -19.23024559020996,
          -19.3286190032959,
          11.355900764465332,
          2.7944648265838623,
          21.799293518066406,
          26.02289390563965,
          28.685083389282227,
          26.858604431152344,
          7.856115818023682,
          27.689022064208984,
          -7.523211479187012,
          -17.235647201538086,
          -9.394649505615234,
          28.564603805541992,
          22.18143653869629,
          27.693374633789062,
          6.985276222229004,
          -17.43931770324707,
          28.388591766357422,
          -14.807945251464844,
          29.47481346130371,
          29.29857635498047,
          -21.191364288330078,
          -1.5007634162902832,
          -19.3286190032959,
          27.700439453125,
          -3.848104476928711,
          12.228151321411133,
          9.405867576599121,
          -11.694175720214844,
          -13.40650749206543,
          -12.24130916595459,
          7.255107879638672,
          -17.837493896484375,
          -18.875656127929688,
          -27.836925506591797,
          -1.8980767726898193,
          -7.063604831695557,
          -13.025120735168457,
          6.879941463470459,
          -11.702713012695312,
          -11.292153358459473,
          -12.35151195526123,
          -5.238429546356201,
          -6.534090995788574,
          -5.487624645233154,
          -3.73132061958313,
          -15.677876472473145,
          5.723117351531982,
          -2.7008166313171387,
          29.04636573791504,
          29.69053840637207,
          25.091529846191406,
          -7.48064661026001,
          -28.905319213867188,
          -28.779483795166016,
          -24.292879104614258,
          4.45613431930542,
          -25.509790420532227,
          3.959590435028076,
          -23.228471755981445,
          -19.965023040771484
         ],
         "xaxis": "x",
         "y": [
          -10.835074424743652,
          -17.88914680480957,
          -1.9490246772766113,
          -0.21199825406074524,
          14.050371170043945,
          -3.4527220726013184,
          -10.102797508239746,
          -5.388707160949707,
          2.3204145431518555,
          -10.958230972290039,
          -2.244291067123413,
          4.189974308013916,
          7.623230457305908,
          -10.478100776672363,
          -9.754922866821289,
          -9.951125144958496,
          -15.11758041381836,
          -9.324549674987793,
          11.398548126220703,
          3.0870139598846436,
          18.950443267822266,
          5.912261486053467,
          11.373819351196289,
          7.512552261352539,
          -10.25008487701416,
          5.379653453826904,
          4.621267318725586,
          -10.606220245361328,
          -8.568753242492676,
          6.694467067718506,
          2.9948065280914307,
          -0.0713796317577362,
          2.5441677570343018,
          5.845592021942139,
          10.30042839050293,
          6.892813682556152,
          -16.328502655029297,
          2.1964666843414307,
          -16.325294494628906,
          -19.39967155456543,
          0.22947967052459717,
          11.500669479370117,
          -10.855096817016602,
          -11.72684097290039,
          -9.274606704711914,
          -2.3327925205230713,
          -11.569206237792969,
          -17.897438049316406,
          -16.308748245239258,
          -18.634492874145508,
          -11.569276809692383,
          3.4393768310546875,
          -16.32118797302246,
          -11.569351196289062,
          2.0662713050842285,
          6.013329029083252,
          2.7794649600982666,
          8.042765617370605,
          -16.325294494628906,
          3.249485492706299,
          -6.148026466369629,
          3.3962607383728027,
          -0.41679924726486206,
          0.9321591854095459,
          -7.419305324554443,
          21.153345108032227,
          -24.631654739379883,
          -7.445823669433594,
          -8.47607421875,
          4.949956893920898,
          4.731609344482422,
          5.056407928466797,
          -15.543245315551758,
          -11.77945613861084,
          -0.7617733478546143,
          -1.5328503847122192,
          -0.32802215218544006,
          -9.46982192993164,
          1.4687985181808472,
          -7.838124752044678,
          -7.97820520401001,
          -7.629335403442383,
          -17.605751037597656,
          0.4848240315914154,
          4.609834671020508,
          21.115510940551758,
          2.7449533939361572,
          1.8199522495269775,
          1.4028701782226562,
          -0.4374547004699707,
          -3.628631830215454,
          2.834082841873169,
          -12.095078468322754,
          -3.752018928527832,
          20.660476684570312,
          -14.848835945129395,
          0.8088789582252502,
          0.564285159111023,
          20.617582321166992,
          3.2116775512695312,
          4.591791152954102,
          17.865869522094727,
          22.955778121948242,
          15.705429077148438,
          25.210264205932617,
          6.196013927459717,
          3.5147926807403564,
          0.5914750695228577,
          -23.19973373413086,
          3.315971612930298,
          3.3171095848083496,
          0.7224726676940918,
          0.7054805159568787,
          -0.35537511110305786,
          -7.227129936218262,
          -14.579322814941406,
          -10.132100105285645,
          7.941368579864502,
          8.931808471679688,
          7.746131896972656,
          8.679503440856934,
          8.680116653442383,
          6.6989216804504395,
          -11.052570343017578,
          1.6353267431259155,
          1.6092066764831543,
          -2.139780282974243,
          -1.7300664186477661,
          -2.1413896083831787,
          -1.895829200744629,
          9.216529846191406,
          5.889782905578613,
          10.762636184692383,
          1.9177699089050293,
          -2.521444320678711,
          -1.6536383628845215,
          -1.7728713750839233,
          4.614971160888672,
          -2.296414375305176,
          0.03587721660733223,
          -4.967836856842041,
          -2.6016290187835693,
          -0.7091721892356873,
          -3.273202896118164,
          -3.1414589881896973,
          -2.2003989219665527,
          35.42451477050781,
          -6.109716415405273,
          34.689205169677734,
          36.778839111328125,
          29.652469635009766,
          0.2993806004524231,
          -18.993566513061523,
          6.6692118644714355,
          1.413336157798767,
          35.17582321166992,
          4.908717632293701,
          20.041423797607422,
          20.61750030517578,
          -11.094520568847656,
          -11.272204399108887,
          -1.263672113418579,
          1.735068678855896,
          -3.3874237537384033,
          -6.114051342010498,
          3.2537522315979004,
          4.86269998550415,
          -25.035982131958008,
          10.181502342224121,
          3.866671562194824,
          -2.5747621059417725,
          -21.789953231811523,
          -22.90206527709961,
          39.0354118347168,
          -13.022677421569824,
          -22.49399185180664,
          -14.439948081970215,
          -6.038630962371826,
          -12.249676704406738,
          -11.951562881469727,
          4.258196830749512,
          -20.00055503845215,
          -8.093178749084473,
          32.66423797607422,
          -20.157190322875977,
          -14.542928695678711,
          11.125090599060059,
          -23.925378799438477,
          -20.42310333251953,
          -13.047731399536133,
          -0.3604504466056824,
          -15.216791152954102,
          -18.39655303955078,
          -16.490724563598633,
          -19.425878524780273,
          -18.353578567504883,
          33.600215911865234,
          -18.946908950805664,
          36.43397903442383,
          -18.66659164428711,
          -21.676523208618164,
          -22.615009307861328,
          -23.213932037353516,
          10.430183410644531,
          -22.661479949951172,
          32.42652130126953,
          -21.504802703857422,
          -22.65812873840332,
          -21.023109436035156,
          -23.258846282958984,
          -21.923879623413086,
          -23.343236923217773,
          -22.7493953704834,
          12.632604598999023,
          11.615006446838379,
          10.231335639953613,
          1.1656265258789062,
          6.222177505493164,
          -19.600711822509766,
          -21.3983154296875,
          -19.424640655517578,
          8.772623062133789,
          -5.493943691253662,
          3.400452136993408,
          5.92222785949707,
          4.154362678527832,
          33.12381362915039,
          5.449452877044678,
          4.370249271392822,
          4.4201812744140625,
          4.892343521118164,
          12.526325225830078,
          4.4201812744140625,
          4.953426361083984,
          7.512552261352539,
          5.492911338806152,
          4.274074077606201,
          3.265732765197754,
          -21.39214515686035,
          10.763376235961914,
          1.0655797719955444,
          0.2828982174396515,
          4.155529022216797,
          34.64909362792969,
          1.1127675771713257,
          4.154514789581299,
          31.014493942260742,
          4.102260589599609,
          33.62881088256836,
          6.748139381408691,
          -0.8678924441337585,
          5.8617658615112305,
          4.086584091186523,
          -23.88732147216797,
          5.263641357421875,
          6.892813682556152,
          32.45844650268555,
          11.718585968017578,
          1.7570809125900269,
          4.115020275115967,
          12.531280517578125,
          -8.605949401855469,
          -24.369064331054688,
          -16.529632568359375,
          -5.408029079437256,
          6.148714542388916,
          -16.637876510620117,
          -16.743135452270508,
          2.970439910888672,
          3.4919004440307617,
          -20.37925910949707,
          -2.157693862915039,
          -4.2699151039123535,
          -14.540803909301758,
          -20.811796188354492,
          11.475007057189941,
          17.32221794128418,
          -7.464617729187012,
          -20.424617767333984,
          35.402732849121094,
          -3.1627089977264404,
          -21.445268630981445,
          -20.439311981201172,
          -11.077859878540039,
          -20.111846923828125,
          -8.320503234863281,
          10.144071578979492,
          -20.4603271484375,
          -0.7802373170852661,
          -4.920698642730713,
          -6.925724029541016,
          -13.51962661743164,
          -23.084383010864258,
          6.87583589553833,
          4.604483604431152,
          -5.5510029792785645,
          -1.001891016960144,
          -1.9122120141983032,
          -8.572911262512207,
          -20.07090950012207,
          -20.07575035095215,
          -19.881351470947266,
          -15.479462623596191,
          -2.297003984451294,
          -19.600488662719727,
          34.631832122802734,
          5.16194486618042,
          -2.121135711669922,
          7.642673492431641,
          -8.222391128540039,
          23.486520767211914,
          10.705373764038086,
          -21.95780372619629,
          -1.5167728662490845,
          17.71508026123047,
          -16.72384262084961,
          -19.542518615722656,
          -2.9906375408172607,
          -12.663508415222168,
          -5.886977672576904,
          36.19303512573242,
          18.587244033813477,
          -18.032140731811523,
          2.087536573410034,
          -10.443184852600098,
          7.670657157897949,
          -20.984752655029297,
          16.047468185424805,
          -6.5392537117004395,
          29.771469116210938,
          -19.497453689575195,
          34.14842224121094,
          -2.964818239212036,
          1.2120102643966675,
          -3.4704771041870117,
          -17.43743324279785,
          34.42829895019531,
          -9.542019844055176,
          -20.111574172973633,
          -20.381790161132812,
          20.732921600341797,
          -18.166147232055664,
          -3.0115859508514404,
          32.695343017578125,
          17.51332664489746,
          36.601192474365234,
          -18.733484268188477,
          8.982580184936523,
          -17.939163208007812,
          -16.093952178955078,
          -5.978790760040283,
          -6.2809648513793945,
          4.24166202545166,
          7.382221698760986,
          -11.963017463684082,
          -4.1859612464904785,
          -3.4469897747039795,
          6.79614782333374,
          -17.93581199645996,
          -10.961108207702637,
          40.010719299316406,
          38.63964080810547,
          39.97669219970703,
          32.907711029052734,
          19.15781021118164,
          -14.018007278442383,
          -16.917238235473633,
          -15.608574867248535,
          34.21034622192383,
          15.741106986999512,
          -12.374807357788086,
          -18.251544952392578,
          34.97439193725586,
          31.044963836669922,
          30.497350692749023,
          0.7647026777267456,
          -4.84602689743042,
          -7.1784987449646,
          -15.55163288116455,
          -17.046083450317383,
          -9.761635780334473,
          -10.292573928833008,
          15.879114151000977,
          -14.72746753692627,
          -8.071503639221191,
          22.868112564086914,
          -10.042679786682129,
          -5.2395758628845215,
          20.59187889099121,
          -17.299026489257812,
          0.9705321788787842,
          -9.68455696105957,
          -7.112471103668213,
          -0.0035009686835110188,
          14.596287727355957,
          -6.147105693817139,
          -10.232393264770508,
          23.199352264404297,
          14.24240493774414,
          -17.833608627319336,
          -8.339056015014648,
          21.901647567749023,
          -12.068224906921387,
          22.327682495117188,
          10.532721519470215,
          23.619400024414062,
          -13.881032943725586,
          22.78799057006836,
          23.882713317871094,
          22.168514251708984,
          21.784912109375,
          21.900794982910156,
          -16.6409912109375,
          22.412578582763672,
          10.284063339233398,
          24.232135772705078,
          34.35829162597656,
          -4.865868091583252,
          -3.5105977058410645,
          -5.723543643951416,
          2.172974109649658,
          -18.43448829650879,
          21.814592361450195,
          22.3577938079834,
          32.00559616088867,
          -4.804380893707275,
          21.13775062561035,
          -8.271980285644531,
          22.98090171813965,
          22.999401092529297,
          -21.11993408203125,
          32.771385192871094,
          2.483065605163574,
          -12.213272094726562,
          31.958654403686523,
          21.272672653198242,
          -20.271543502807617,
          10.305538177490234,
          17.788843154907227,
          31.35862922668457,
          1.2166736125946045,
          -6.717577934265137,
          34.18964385986328,
          -3.4210422039031982,
          6.477379322052002,
          -3.105832815170288,
          -18.42397117614746,
          -4.341307640075684,
          2.2174930572509766,
          -13.10515022277832,
          -8.122451782226562,
          -11.584676742553711,
          21.889970779418945,
          -11.077160835266113,
          -2.5051944255828857,
          -0.7948068380355835,
          -4.652954578399658,
          -4.209226131439209,
          -3.9851832389831543,
          11.7028226852417,
          5.463839054107666,
          34.76371383666992,
          -12.918428421020508,
          -6.452211856842041,
          -7.837586879730225,
          -8.685038566589355,
          -7.232317924499512,
          -17.430753707885742,
          -7.226745128631592,
          -15.93619441986084,
          -13.090760231018066,
          2.528277635574341,
          2.6023294925689697,
          -15.717982292175293,
          -9.279526710510254,
          -12.424063682556152,
          2.917027235031128,
          -1.6516293287277222,
          -1.3690595626831055,
          -6.113953113555908,
          -9.689587593078613,
          -2.1690728664398193,
          -12.675470352172852,
          6.029689311981201,
          -18.9166316986084,
          -3.2368295192718506,
          -19.328577041625977,
          -16.22451400756836,
          -1.6809847354888916,
          -10.807198524475098,
          -3.2841382026672363,
          -1.741219162940979,
          -19.640239715576172,
          -4.336847305297852,
          28.29058837890625,
          33.64398193359375,
          -9.629688262939453,
          -8.32002067565918,
          -0.7063217163085938,
          -3.9553258419036865,
          -18.17755889892578,
          -3.292365789413452,
          -9.350890159606934,
          31.864959716796875,
          -4.369532108306885,
          -10.990516662597656,
          20.096174240112305,
          -5.247601509094238,
          -18.374637603759766,
          -7.6049723625183105,
          1.068579077720642,
          0.23563703894615173,
          -18.67877960205078,
          4.118422508239746,
          -8.657084465026855,
          -4.613671779632568,
          -3.052854061126709,
          -9.182307243347168,
          -8.311827659606934,
          -0.1491870880126953,
          -6.947420597076416,
          -12.37386417388916,
          -15.993133544921875,
          -2.5769076347351074,
          -8.056013107299805,
          -15.897506713867188,
          -6.714450359344482,
          -16.937423706054688,
          -15.535126686096191,
          -14.839811325073242,
          -14.797677040100098,
          -1.2688668966293335,
          -0.3870919644832611,
          -19.47109603881836,
          -10.86300277709961,
          -18.976829528808594,
          -6.259006500244141,
          -17.8430118560791,
          9.123204231262207,
          34.41856002807617,
          -7.86046028137207,
          32.00559616088867,
          -8.11626148223877,
          -6.310049533843994,
          -10.046551704406738,
          -5.897529602050781,
          -3.7931501865386963,
          -5.246148586273193,
          -7.789319038391113,
          -11.903196334838867,
          -12.450847625732422,
          -4.892730236053467,
          10.645995140075684,
          -8.23742961883545,
          9.447608947753906,
          -19.896989822387695,
          -10.234289169311523,
          -5.299360275268555,
          -3.233175039291382,
          -1.45356285572052,
          -15.124473571777344,
          -7.9492011070251465,
          -11.808831214904785,
          -6.521652698516846,
          -3.4109835624694824,
          -10.806108474731445,
          -18.233938217163086,
          -4.820436477661133,
          -16.7768611907959,
          8.609920501708984,
          -11.098124504089355,
          9.58564567565918,
          -5.28673791885376,
          9.433324813842773,
          -12.05609130859375,
          -5.551474571228027,
          35.711395263671875,
          29.916854858398438,
          -0.551676869392395,
          -7.757391929626465,
          36.142578125,
          -2.3733885288238525,
          9.539955139160156,
          36.05235290527344,
          -0.29203903675079346,
          -6.69433069229126,
          -4.314401626586914,
          -1.0836347341537476,
          -4.725029945373535,
          1.036080002784729,
          -18.68450164794922,
          -17.243850708007812,
          -17.081052780151367,
          7.11480712890625,
          -14.824932098388672,
          -24.6583194732666,
          -0.5739914178848267,
          17.862468719482422,
          -20.377580642700195,
          3.6683332920074463,
          37.24953842163086,
          -13.48129653930664,
          -5.610182762145996,
          -13.955909729003906,
          5.907108783721924,
          -21.00625228881836,
          31.7394962310791,
          38.073890686035156,
          37.37125015258789,
          -15.657205581665039,
          12.428050994873047,
          10.186161994934082,
          38.10262680053711,
          -4.948014259338379,
          -17.787933349609375,
          33.12263870239258,
          -0.611911416053772,
          -10.467308044433594,
          -23.714191436767578,
          37.78529357910156,
          -1.4818590879440308,
          33.206153869628906,
          36.150508880615234,
          36.253868103027344,
          19.02404022216797,
          16.610502243041992,
          33.234901428222656,
          20.9749813079834,
          -5.079855918884277,
          34.49138259887695,
          21.48725700378418,
          3.665529489517212,
          -20.814516067504883,
          38.313392639160156,
          34.72287368774414,
          24.106611251831055,
          18.121055603027344,
          0.62721848487854,
          -15.251733779907227,
          35.68327713012695,
          -15.108122825622559,
          -21.326322555541992,
          -6.099300861358643,
          31.202617645263672,
          -22.28182029724121,
          -22.380355834960938,
          36.34873962402344,
          -5.194761276245117,
          -21.405811309814453,
          10.428864479064941,
          -23.66100311279297,
          37.807167053222656,
          5.906573295593262,
          -10.631819725036621,
          -17.79062271118164,
          9.00292682647705,
          1.7039403915405273,
          -16.499004364013672,
          -25.25897979736328,
          -0.5168777108192444,
          13.56270694732666,
          -21.875774383544922,
          16.976673126220703,
          -10.603803634643555,
          1.8957350254058838,
          -2.2240407466888428,
          33.75279998779297,
          30.08884048461914,
          39.17070770263672,
          34.544349670410156,
          37.43577194213867,
          32.00559616088867,
          -11.347929000854492,
          -3.3418314456939697,
          2.6930782794952393,
          -23.202634811401367,
          -22.764720916748047,
          -22.990877151489258,
          -7.687438011169434,
          -17.077016830444336,
          20.6551513671875,
          39.22321319580078,
          35.97076416015625,
          -20.118066787719727,
          -15.177783012390137,
          1.869415283203125,
          21.645761489868164,
          37.04353332519531,
          -22.028127670288086,
          37.21989822387695,
          -8.039290428161621,
          -16.87114143371582,
          34.97291946411133,
          7.989236831665039,
          32.00559616088867,
          -22.64917755126953,
          3.6829452514648438,
          5.901893138885498,
          14.052481651306152,
          36.70796585083008,
          33.509925842285156,
          37.98521041870117,
          -14.903231620788574,
          34.35829162597656,
          36.72038650512695,
          9.711267471313477,
          -3.155240058898926,
          6.151856899261475,
          6.183743953704834,
          -14.705024719238281,
          35.32329177856445,
          30.114702224731445,
          38.167999267578125,
          5.906573295593262,
          7.651035308837891,
          4.301537036895752,
          8.124385833740234,
          16.693225860595703,
          23.293169021606445,
          -1.1244111061096191,
          -1.675649642944336,
          -4.91527795791626,
          -8.689200401306152,
          16.138843536376953,
          -3.382817029953003,
          -3.332987070083618,
          3.9217960834503174,
          -10.778571128845215,
          -2.666074514389038,
          -10.503949165344238,
          3.1159508228302,
          3.9858694076538086
         ],
         "yaxis": "y"
        }
       ],
       "layout": {
        "coloraxis": {
         "colorbar": {
          "title": {
           "text": "cluster"
          }
         },
         "colorscale": [
          [
           0,
           "#0d0887"
          ],
          [
           0.1111111111111111,
           "#46039f"
          ],
          [
           0.2222222222222222,
           "#7201a8"
          ],
          [
           0.3333333333333333,
           "#9c179e"
          ],
          [
           0.4444444444444444,
           "#bd3786"
          ],
          [
           0.5555555555555556,
           "#d8576b"
          ],
          [
           0.6666666666666666,
           "#ed7953"
          ],
          [
           0.7777777777777778,
           "#fb9f3a"
          ],
          [
           0.8888888888888888,
           "#fdca26"
          ],
          [
           1,
           "#f0f921"
          ]
         ]
        },
        "legend": {
         "tracegroupgap": 0
        },
        "margin": {
         "t": 60
        },
        "template": {
         "data": {
          "bar": [
           {
            "error_x": {
             "color": "#2a3f5f"
            },
            "error_y": {
             "color": "#2a3f5f"
            },
            "marker": {
             "line": {
              "color": "#E5ECF6",
              "width": 0.5
             },
             "pattern": {
              "fillmode": "overlay",
              "size": 10,
              "solidity": 0.2
             }
            },
            "type": "bar"
           }
          ],
          "barpolar": [
           {
            "marker": {
             "line": {
              "color": "#E5ECF6",
              "width": 0.5
             },
             "pattern": {
              "fillmode": "overlay",
              "size": 10,
              "solidity": 0.2
             }
            },
            "type": "barpolar"
           }
          ],
          "carpet": [
           {
            "aaxis": {
             "endlinecolor": "#2a3f5f",
             "gridcolor": "white",
             "linecolor": "white",
             "minorgridcolor": "white",
             "startlinecolor": "#2a3f5f"
            },
            "baxis": {
             "endlinecolor": "#2a3f5f",
             "gridcolor": "white",
             "linecolor": "white",
             "minorgridcolor": "white",
             "startlinecolor": "#2a3f5f"
            },
            "type": "carpet"
           }
          ],
          "choropleth": [
           {
            "colorbar": {
             "outlinewidth": 0,
             "ticks": ""
            },
            "type": "choropleth"
           }
          ],
          "contour": [
           {
            "colorbar": {
             "outlinewidth": 0,
             "ticks": ""
            },
            "colorscale": [
             [
              0,
              "#0d0887"
             ],
             [
              0.1111111111111111,
              "#46039f"
             ],
             [
              0.2222222222222222,
              "#7201a8"
             ],
             [
              0.3333333333333333,
              "#9c179e"
             ],
             [
              0.4444444444444444,
              "#bd3786"
             ],
             [
              0.5555555555555556,
              "#d8576b"
             ],
             [
              0.6666666666666666,
              "#ed7953"
             ],
             [
              0.7777777777777778,
              "#fb9f3a"
             ],
             [
              0.8888888888888888,
              "#fdca26"
             ],
             [
              1,
              "#f0f921"
             ]
            ],
            "type": "contour"
           }
          ],
          "contourcarpet": [
           {
            "colorbar": {
             "outlinewidth": 0,
             "ticks": ""
            },
            "type": "contourcarpet"
           }
          ],
          "heatmap": [
           {
            "colorbar": {
             "outlinewidth": 0,
             "ticks": ""
            },
            "colorscale": [
             [
              0,
              "#0d0887"
             ],
             [
              0.1111111111111111,
              "#46039f"
             ],
             [
              0.2222222222222222,
              "#7201a8"
             ],
             [
              0.3333333333333333,
              "#9c179e"
             ],
             [
              0.4444444444444444,
              "#bd3786"
             ],
             [
              0.5555555555555556,
              "#d8576b"
             ],
             [
              0.6666666666666666,
              "#ed7953"
             ],
             [
              0.7777777777777778,
              "#fb9f3a"
             ],
             [
              0.8888888888888888,
              "#fdca26"
             ],
             [
              1,
              "#f0f921"
             ]
            ],
            "type": "heatmap"
           }
          ],
          "heatmapgl": [
           {
            "colorbar": {
             "outlinewidth": 0,
             "ticks": ""
            },
            "colorscale": [
             [
              0,
              "#0d0887"
             ],
             [
              0.1111111111111111,
              "#46039f"
             ],
             [
              0.2222222222222222,
              "#7201a8"
             ],
             [
              0.3333333333333333,
              "#9c179e"
             ],
             [
              0.4444444444444444,
              "#bd3786"
             ],
             [
              0.5555555555555556,
              "#d8576b"
             ],
             [
              0.6666666666666666,
              "#ed7953"
             ],
             [
              0.7777777777777778,
              "#fb9f3a"
             ],
             [
              0.8888888888888888,
              "#fdca26"
             ],
             [
              1,
              "#f0f921"
             ]
            ],
            "type": "heatmapgl"
           }
          ],
          "histogram": [
           {
            "marker": {
             "pattern": {
              "fillmode": "overlay",
              "size": 10,
              "solidity": 0.2
             }
            },
            "type": "histogram"
           }
          ],
          "histogram2d": [
           {
            "colorbar": {
             "outlinewidth": 0,
             "ticks": ""
            },
            "colorscale": [
             [
              0,
              "#0d0887"
             ],
             [
              0.1111111111111111,
              "#46039f"
             ],
             [
              0.2222222222222222,
              "#7201a8"
             ],
             [
              0.3333333333333333,
              "#9c179e"
             ],
             [
              0.4444444444444444,
              "#bd3786"
             ],
             [
              0.5555555555555556,
              "#d8576b"
             ],
             [
              0.6666666666666666,
              "#ed7953"
             ],
             [
              0.7777777777777778,
              "#fb9f3a"
             ],
             [
              0.8888888888888888,
              "#fdca26"
             ],
             [
              1,
              "#f0f921"
             ]
            ],
            "type": "histogram2d"
           }
          ],
          "histogram2dcontour": [
           {
            "colorbar": {
             "outlinewidth": 0,
             "ticks": ""
            },
            "colorscale": [
             [
              0,
              "#0d0887"
             ],
             [
              0.1111111111111111,
              "#46039f"
             ],
             [
              0.2222222222222222,
              "#7201a8"
             ],
             [
              0.3333333333333333,
              "#9c179e"
             ],
             [
              0.4444444444444444,
              "#bd3786"
             ],
             [
              0.5555555555555556,
              "#d8576b"
             ],
             [
              0.6666666666666666,
              "#ed7953"
             ],
             [
              0.7777777777777778,
              "#fb9f3a"
             ],
             [
              0.8888888888888888,
              "#fdca26"
             ],
             [
              1,
              "#f0f921"
             ]
            ],
            "type": "histogram2dcontour"
           }
          ],
          "mesh3d": [
           {
            "colorbar": {
             "outlinewidth": 0,
             "ticks": ""
            },
            "type": "mesh3d"
           }
          ],
          "parcoords": [
           {
            "line": {
             "colorbar": {
              "outlinewidth": 0,
              "ticks": ""
             }
            },
            "type": "parcoords"
           }
          ],
          "pie": [
           {
            "automargin": true,
            "type": "pie"
           }
          ],
          "scatter": [
           {
            "fillpattern": {
             "fillmode": "overlay",
             "size": 10,
             "solidity": 0.2
            },
            "type": "scatter"
           }
          ],
          "scatter3d": [
           {
            "line": {
             "colorbar": {
              "outlinewidth": 0,
              "ticks": ""
             }
            },
            "marker": {
             "colorbar": {
              "outlinewidth": 0,
              "ticks": ""
             }
            },
            "type": "scatter3d"
           }
          ],
          "scattercarpet": [
           {
            "marker": {
             "colorbar": {
              "outlinewidth": 0,
              "ticks": ""
             }
            },
            "type": "scattercarpet"
           }
          ],
          "scattergeo": [
           {
            "marker": {
             "colorbar": {
              "outlinewidth": 0,
              "ticks": ""
             }
            },
            "type": "scattergeo"
           }
          ],
          "scattergl": [
           {
            "marker": {
             "colorbar": {
              "outlinewidth": 0,
              "ticks": ""
             }
            },
            "type": "scattergl"
           }
          ],
          "scattermapbox": [
           {
            "marker": {
             "colorbar": {
              "outlinewidth": 0,
              "ticks": ""
             }
            },
            "type": "scattermapbox"
           }
          ],
          "scatterpolar": [
           {
            "marker": {
             "colorbar": {
              "outlinewidth": 0,
              "ticks": ""
             }
            },
            "type": "scatterpolar"
           }
          ],
          "scatterpolargl": [
           {
            "marker": {
             "colorbar": {
              "outlinewidth": 0,
              "ticks": ""
             }
            },
            "type": "scatterpolargl"
           }
          ],
          "scatterternary": [
           {
            "marker": {
             "colorbar": {
              "outlinewidth": 0,
              "ticks": ""
             }
            },
            "type": "scatterternary"
           }
          ],
          "surface": [
           {
            "colorbar": {
             "outlinewidth": 0,
             "ticks": ""
            },
            "colorscale": [
             [
              0,
              "#0d0887"
             ],
             [
              0.1111111111111111,
              "#46039f"
             ],
             [
              0.2222222222222222,
              "#7201a8"
             ],
             [
              0.3333333333333333,
              "#9c179e"
             ],
             [
              0.4444444444444444,
              "#bd3786"
             ],
             [
              0.5555555555555556,
              "#d8576b"
             ],
             [
              0.6666666666666666,
              "#ed7953"
             ],
             [
              0.7777777777777778,
              "#fb9f3a"
             ],
             [
              0.8888888888888888,
              "#fdca26"
             ],
             [
              1,
              "#f0f921"
             ]
            ],
            "type": "surface"
           }
          ],
          "table": [
           {
            "cells": {
             "fill": {
              "color": "#EBF0F8"
             },
             "line": {
              "color": "white"
             }
            },
            "header": {
             "fill": {
              "color": "#C8D4E3"
             },
             "line": {
              "color": "white"
             }
            },
            "type": "table"
           }
          ]
         },
         "layout": {
          "annotationdefaults": {
           "arrowcolor": "#2a3f5f",
           "arrowhead": 0,
           "arrowwidth": 1
          },
          "autotypenumbers": "strict",
          "coloraxis": {
           "colorbar": {
            "outlinewidth": 0,
            "ticks": ""
           }
          },
          "colorscale": {
           "diverging": [
            [
             0,
             "#8e0152"
            ],
            [
             0.1,
             "#c51b7d"
            ],
            [
             0.2,
             "#de77ae"
            ],
            [
             0.3,
             "#f1b6da"
            ],
            [
             0.4,
             "#fde0ef"
            ],
            [
             0.5,
             "#f7f7f7"
            ],
            [
             0.6,
             "#e6f5d0"
            ],
            [
             0.7,
             "#b8e186"
            ],
            [
             0.8,
             "#7fbc41"
            ],
            [
             0.9,
             "#4d9221"
            ],
            [
             1,
             "#276419"
            ]
           ],
           "sequential": [
            [
             0,
             "#0d0887"
            ],
            [
             0.1111111111111111,
             "#46039f"
            ],
            [
             0.2222222222222222,
             "#7201a8"
            ],
            [
             0.3333333333333333,
             "#9c179e"
            ],
            [
             0.4444444444444444,
             "#bd3786"
            ],
            [
             0.5555555555555556,
             "#d8576b"
            ],
            [
             0.6666666666666666,
             "#ed7953"
            ],
            [
             0.7777777777777778,
             "#fb9f3a"
            ],
            [
             0.8888888888888888,
             "#fdca26"
            ],
            [
             1,
             "#f0f921"
            ]
           ],
           "sequentialminus": [
            [
             0,
             "#0d0887"
            ],
            [
             0.1111111111111111,
             "#46039f"
            ],
            [
             0.2222222222222222,
             "#7201a8"
            ],
            [
             0.3333333333333333,
             "#9c179e"
            ],
            [
             0.4444444444444444,
             "#bd3786"
            ],
            [
             0.5555555555555556,
             "#d8576b"
            ],
            [
             0.6666666666666666,
             "#ed7953"
            ],
            [
             0.7777777777777778,
             "#fb9f3a"
            ],
            [
             0.8888888888888888,
             "#fdca26"
            ],
            [
             1,
             "#f0f921"
            ]
           ]
          },
          "colorway": [
           "#636efa",
           "#EF553B",
           "#00cc96",
           "#ab63fa",
           "#FFA15A",
           "#19d3f3",
           "#FF6692",
           "#B6E880",
           "#FF97FF",
           "#FECB52"
          ],
          "font": {
           "color": "#2a3f5f"
          },
          "geo": {
           "bgcolor": "white",
           "lakecolor": "white",
           "landcolor": "#E5ECF6",
           "showlakes": true,
           "showland": true,
           "subunitcolor": "white"
          },
          "hoverlabel": {
           "align": "left"
          },
          "hovermode": "closest",
          "mapbox": {
           "style": "light"
          },
          "paper_bgcolor": "white",
          "plot_bgcolor": "#E5ECF6",
          "polar": {
           "angularaxis": {
            "gridcolor": "white",
            "linecolor": "white",
            "ticks": ""
           },
           "bgcolor": "#E5ECF6",
           "radialaxis": {
            "gridcolor": "white",
            "linecolor": "white",
            "ticks": ""
           }
          },
          "scene": {
           "xaxis": {
            "backgroundcolor": "#E5ECF6",
            "gridcolor": "white",
            "gridwidth": 2,
            "linecolor": "white",
            "showbackground": true,
            "ticks": "",
            "zerolinecolor": "white"
           },
           "yaxis": {
            "backgroundcolor": "#E5ECF6",
            "gridcolor": "white",
            "gridwidth": 2,
            "linecolor": "white",
            "showbackground": true,
            "ticks": "",
            "zerolinecolor": "white"
           },
           "zaxis": {
            "backgroundcolor": "#E5ECF6",
            "gridcolor": "white",
            "gridwidth": 2,
            "linecolor": "white",
            "showbackground": true,
            "ticks": "",
            "zerolinecolor": "white"
           }
          },
          "shapedefaults": {
           "line": {
            "color": "#2a3f5f"
           }
          },
          "ternary": {
           "aaxis": {
            "gridcolor": "white",
            "linecolor": "white",
            "ticks": ""
           },
           "baxis": {
            "gridcolor": "white",
            "linecolor": "white",
            "ticks": ""
           },
           "bgcolor": "#E5ECF6",
           "caxis": {
            "gridcolor": "white",
            "linecolor": "white",
            "ticks": ""
           }
          },
          "title": {
           "x": 0.05
          },
          "xaxis": {
           "automargin": true,
           "gridcolor": "white",
           "linecolor": "white",
           "ticks": "",
           "title": {
            "standoff": 15
           },
           "zerolinecolor": "white",
           "zerolinewidth": 2
          },
          "yaxis": {
           "automargin": true,
           "gridcolor": "white",
           "linecolor": "white",
           "ticks": "",
           "title": {
            "standoff": 15
           },
           "zerolinecolor": "white",
           "zerolinewidth": 2
          }
         }
        },
        "title": {
         "text": "Embeddings of TikTok Video Descriptions"
        },
        "xaxis": {
         "anchor": "y",
         "domain": [
          0,
          1
         ],
         "title": {
          "text": "tsne_1"
         }
        },
        "yaxis": {
         "anchor": "x",
         "domain": [
          0,
          1
         ],
         "title": {
          "text": "tsne_2"
         }
        }
       }
      },
      "text/html": [
       "<div>                            <div id=\"ecf8cc3e-46c1-4eee-9fb7-8524736d350f\" class=\"plotly-graph-div\" style=\"height:525px; width:100%;\"></div>            <script type=\"text/javascript\">                require([\"plotly\"], function(Plotly) {                    window.PLOTLYENV=window.PLOTLYENV || {};                                    if (document.getElementById(\"ecf8cc3e-46c1-4eee-9fb7-8524736d350f\")) {                    Plotly.newPlot(                        \"ecf8cc3e-46c1-4eee-9fb7-8524736d350f\",                        [{\"customdata\":[[\"things ex staff said about kpop idols pt k pop k pop fy p k pop viral viral k pop facts w nc ts lesser a fim black pink bts ive it zy un flop me\"],[\"part hand over all your movie film series show movies netflix u\"],[\"have an urmo christmas\"],[\"nwrd chicken\"],[\"the thailand tsunami resulted from a magnitude undersea earthquake near sumatra indonesia with a staggering toll of over across countries it ranks among the deadliest natural disasters the colossal waves reaching heights of up to feet devastated coastal areas emphasizing the need for improved early warning systems tsunamis are whispers of the sea turning into roars that rewrite the shoreline of existence patricia robin woodruff ocean thailand explore nature\"],[\"hahhaa thinking of the duck song\"],[\"comedy family crowd work comedian\"],[\"viral funny\"],[\"podcast pov\"],[\"one of the funniest iconic laughs ive ever heard j in seok j in bts bts official big hit bts army k pop fy p k pop\"],[\"princess cruises trip disaster princess cruises\"],[\"just drop the album please kanye west vulture northwest ye\"],[\"christmas\"],[\"god made men then gave taemin as an apology taemin concert taemin meta morph shinee taemin taemin mak nae taemin the cutest boy taemin t tae m tae minnie dancing machine taemin baby cheese taemin fairy prince taemin pi we rful taemin we are shining shinee everyday is shinee day piece of shine the princes of k pop shinee is back shinee shaw ol shinee x shaw ol shaw ol forever shinee forever hi nee shinee ot bling bling shinee shinee ot nd generation k pop lee taemin\"],[\"comedy corm dian stand up funny\"],[\"comedy racism funny comedian\"],[\"andre braugher star of brooklyn ninenine and homicide life on the street died at age cnn brooklyn\"],[\"comedy funny moments funny videos\"],[\"get em while they last black friday sale black friday gift ideas gift\"],[\"part reddit stories story time viral food\"],[\"i found more phd student grad school academia college stem tok\"],[\"during opening statements at young thugs ysl rico trial in atlanta his lawyer explained that thug was a faithbased acronym with personal meaning to his client truly humble under god\"],[\"replying to mackenziebuote blanket blank ie tik tok black friday sale black friday haul tic tok shopping\"],[\"am i not loved thanksgiving\"],[\"comedy nfl comedian crowd work\"],[\"thanksgiving happy thanksgiving low quality memes funny\"],[\"happy thanksgiving yall thanksgiving family old row\"],[\"funny snl\"],[\"stitch with danicarose ugc creator la barbcao taste test would you try it food critic\"],[\"me and ken\"],[\"digesting our thanksgiving dinner\"],[\"deer so who we hiding from deer hiding scared jump\"],[\"dancing turkey happy thanksgiving thanksgiving dancing turkey fy p\"],[\"fall guys fall guys\"],[\"hmm\"],[\"lmaooo thanksgiving on the train nyc is really a stimulation thanksgiving cooking\"],[\"brooklyn brooklyn nine nine tv show tv series film movie\"],[\"this is who i am turkey thanksgiving cake baking thursdays\"],[\"brooklyn brooklyn nine nine tv show tv series film movie\"],[\"thank you for the all the laughs you gave us truly are a comic genius always my favourite you are always in our hearts matthew perry chandler bing you will be missed funny moments friends tv show\"],[\"watch out witch belicia\"],[\"save this for the best black friday sales black friday black friday sale holiday shopping black friday deals skims abercrombie zara fall fashion trends thanksgiving saving money\"],[\"wild supermodel sighting com dey comedian humor stand up stand up comedy stand up comedian tom segura tom segura comedy\"],[\"colin jost and michael che swap jokes part snl weekend update comedy funny\"],[\"your telling me a shrimp de aaron fox is my goat dope shrimp\"],[\"dont cross lois this halloween youll regret it family guy candy trick or treat\"],[\"snl saturday night live weekend update colin jost michael che\"],[\"friends tv show friends reunion matthew perry rip matthew perry matt leblanc david schwimmer lisa kudrow courteney cox jennifer aniston\"],[\"brooklyn brooklyn nine nine tv show tv series film movie\"],[\"rest in piece matthew friends chandler chandler friends matthew perry\"],[\"snl saturday night live weekend update colin jost michael che\"],[\"get the pumpkin in the middle\"],[\"brooklyn brooklyn nine nine tv show tv series film movie\"],[\"snl saturday night live weekend update colin jost michael che\"],[\"haunted house\"],[\"make it a habit to ask each other introspective questions conversation starters love of my life romance\"],[\"part story time longer videos reddit stories love you so re tik\"],[\"space\"],[\"brooklyn brooklyn nine nine tv show tv series film movie\"],[\"part story time story\"],[\"i love mac and cheese cooking\"],[\"pumpkin\"],[\"zombie zombie love halloween halloween mischief never too late why not dont be so serious\"],[\"halloween spooky season\"],[\"with potatoes and some meat i can make a delicious dinner cooking recipe easy recipe quick recipes meat potato dinner\"],[\"day in nyc and im already full nyc nyc food review tik tok food\"],[\"the grumpiest snake ever\"],[\"dumpling fried rice easy recipe dumpling fried rice recipe korean food\"],[\"lmaoo idk whats going on here but im all for it ht boxingworldfansig boxing boxing tok boxing\"],[\"first date pt\"],[\"another dating nightmare dating arranged marriage story time\"],[\"good vs bad first date vibe mens dating dating coach\"],[\"i am speechless after tonight omg taylor swift swift tok eras tour taylor nation swift ie the eras tour taylors version taylors version taylors version vault buenos a i rests the eras tour travis kel ce chiefs travis kel ce taylor swift\"],[\"taylor loves argentinaaa taylor swift taylor swift argentina\"],[\"happy halloweekend from my friends to yours tik tok halloween halloween\"],[\"grwm for heidi klum halloween party\"],[\"new month new look halloween halloween spirit halloween decor\"],[\"keith lee you did something with this my sister doesnt even like chipotle chi pot le\"],[\"he is not a jackolantern lewis not a jack o lantern my name is lewis target halloween lewis target\"],[\"lasagna recipe best lasagna so good so yum lasagna baked lasagna\"],[\"lasagnaaaa food tok lasagna rao s dinner pasta\"],[\"my lasagna recipe cooking recipes\"],[\"friends mathew perry friends mathew perry sad c his me time news\"],[\"uhhhhh halloween scream\"],[\"immediate yes send this to your bestie to let them know its time for a coffee date honeydew donuts pumpkin spice pumpkin season pumpkin latte pumpkin coffee coffee shop coffee new ne gland coffee tik tok new england food new england fall ps l pumpkin spice latte friendship goals best ie\"],[\"wallet empty stomach full nyc nyc eats nyc food\"],[\"smashing pumpkins vlog pt october fall halloween pumpkin v log\"],[\"i am not a jackolantern my name is lewis move over jack skellington theres a new pumpkin king in town this halloween season and hes feet tall halloween lewis pumpkin viral\"],[\"im just lewis lewis im just ken song spooky halloween im just lewis not a jack o lantern sad story\"],[\"lets take some pictures for mcqueen\"],[\"hi my dear children willy wonka\"],[\"lewis the pumpkin\"],[\"after the recent article about the toxic environment that goes on behindthescenes at the tonight show with jimmy fallon this time that martin short called jimmy a phony makes more sense now tonight show jimmy fallon martin short steve martin the tonight show the tonight show starring jimmy fallon the tonight show with jimmy fallon interview phony phony ppl funny news comedy video entertainment allegations\"],[\"the best part was the end the little mermaid aw kwa fina she can tsing ariel halle bailey fy p\"],[\"asking harvard students about their dream schools student college harvard harvard university manon the street street interview\"],[\"soooo good dc anna olivia rodrigo guts guts tour love is em baras sing l ivies l ivies hq olivia rodrigo guts\"],[\"my low patience gets the best of me rel a table barbie s preminger barbie preminger preminger tok memes funny real edit viral reality barbie movies barbie preminger barbie memes\"],[\"my favorite barbie princess fr preminger preminger edit barbie barbie out of context barbie movies princess and the pauper\"],[\"asking mit students about their dream schools student college mit massachusetts institute of technology manon the street street interview\"],[\"mrs dukakis confronts mrs josiah about the volume of her class to which unsavory personal attacks escalate barbie bela town drama real housewives full episode\"],[\"pumpkin spice makeup pumpkin spice fall makeup makeup beauty\"],[\"everyone knows about arabica vs robusta right get a coffee on peets on peets coffee sponsored peet s coffee disloyalty program corporate w fh coworker coffee addict\"],[\"students at wellesley college voted in favor of opening admission to all nonbinary and transgender applicants including trans men news politics lgbt qi a\"],[\"replying to alois sasha turns out i was wrong you can have both narcolepsy chronic sleep disorder sleep apnea rant story time\"],[\"this is my white whale wbc pr vs dr puerto rico boricua\"],[\"september th\"],[\"guts out now\"],[\"margot robbie punched an actor on the barbie set barbie barbie doll barbie style barbie movie margot robbie\"],[\"the eras tour has been the most meaningful electric experience of my life so far and im overjoyed to tell you that itll be coming to the big screen soon starting oct th youll be able to experience the concert film in theaters in north america tickets are on sale now at amctheatrescom eras attire friendship bracelets singing and dancing encouraged lgb iykyk\"],[\"part another shocking revelation is uncovered and this time brandon is the culprit bela town drama barbie\"],[\"part dreyas wedding is disrupted by a shocking revelation about sarah bela town drama barbie real housewives\"],[\"digging into bela town lore part two so that you can understand the picture a little more drama barbie elsa\"],[\"digging into the lore of bela town so you can have a better picture of the portrait barbie drama\"],[\"the dress is ready matka slayed im shook see u soon\"],[\"will gordon approve my cooking gordon ramsay\"],[\"give jah all the thanks and praises for this video of yg marley with his dad rohan marley at the bob marley one love miami premiere after party bob marley movie one love movie\"],[\"an artist and his muse memphis bbq chicken\"],[\"told him we were doing a reg fit check he played it off nicely tho han golden bachelor bachelorette regular behavior golden bachelor wedding\"],[\"a season of the bachelor like youve never seen before starts monday at c on abc are you ready\"],[\"where did we land on this green screen the bachelor joey g razia dei maria georg as\"],[\"never been a big fan of the bachelor but im freaking out why is he so hot\"],[\"replying to megannmackk this season has me so ready for more monday nights scene r the bachelor bachelor nation relationship long distance\"],[\"we are not mean girls but\"],[\"this was so encouraging the hate is completely worth it has been fully silenced in my mind i hope thid encourages yall as well to stay focused super bowl nfl chiefs ers sunday night football travis kel ce taylor swift\"],[\"kim kardashian just dropped skk n kim kardashian makeup beauty\"],[\"a dream lip combo right here omg skk n kim kardashian makeup beauty\"],[\"i miss my mutual guys free bela town nicki minaj bela town megan the e stallion\"],[\"nicki minaj black tik tok viral megan the e stallion\"],[\"bruh dont mess w the barbs nicki minaj megan the e stallion bela delgado m elly mike\"],[\"nicki minaj megan the e stallion pink friday explore page explore bela town his s nicki minaj edit megan the e stallion\"],[\"my love\"],[\"if he wanted to he would lets stop making excuses for men chemical x podcast relationship advice\"],[\"i meannnn at least ill have plenty of leftovers\"],[\"i love you more than the chocolate tip of a drumstick drumstick po oki e valentines day valentine\"],[\"bigfoot nicki minaj kelsey s revenge\"],[\"duet with bela delgado megan the e stallion yall already know the truth is the truth no matter who tells it nicki minaj drop barz not posts i dc speak your truth his s\"],[\"duet with bela delgado megan the e stallion green screen nicki minaj\"],[\"my thoughts on the grammys\"],[\"i dont get why people are so upset ive heard this said more than one time yall just choose who to be mad at more bellatown nicki minaj bela town bella town fy pppppppp pppppppp pppp ppp\"],[\"billie e il ish and finn e as sing what was i made for from barbie at the grammys grammys barbie movie\"],[\"really tho viral\"],[\"merry christmass guyss dance christmas santa\"],[\"she is nooot happy with whatever is going on in this convo swift tok taylor swift swift ie\"],[\"i could dance through a wall when mariah carey hits that high note christmas its time tis the season christmas tok\"],[\"i heard were bringjng back nonnas christmas village christmas christmas tik tok christmas village\"],[\"miss princess princess diana princess niki minaj ice spice\"],[\"netanyahu screaming into his pillow rn free palestine free gaza\"],[\"there is no such thing as diva down george santos cameo santos diva down\"],[\"the iof and israeli government have grown so desperate that they are arresting palestinian civilians and pretending like they captured h what theyre doing is inhumane and disgusting we need to continue calling our reps and demanding a ceasefire gaza palestine free palestine\"],[\"thats all palestine watermelon\"],[\"this is is just my experience right now love you jewish american free palestine\"],[\"comin like a storm into ur town\"],[\"youll see her face in every place including in the cant catch me now music video out now on olivias youtube olivia rodrigo new music the hunger games\"],[\"ion kno nun about thattt thanksgiving\"],[\"sorry i got a bit heated but im tired of this narrative being pushed h highschool musical\"],[\"jerusalem palestinians free palestine fa last in eyes\"],[\"happy thanksgiving i love you\"],[\"asking mit students how they got into mit mit ivy league college\"],[\"asking mit students about their dream schools student college mit massachusetts institute of technology manon the street street interview\"],[\"taylor swift swift tok taylor nation swift ie tik tok swift to ker swift to ks swift like taylor taylor swift lover time magazine cover time magazine person of the year time maga zone taylor swift kelly clarkson and taylor swift paul mccartney and taylor swift taylor swift and stevie nicks\"],[\"taylor swift is a super human run tok running tik tok half marathon training runner girl taylor swift taylor swifter as tour times person of the year\"],[\"prove me right swifties what is it piano taylor swift swift ies\"],[\"taylor swift calls out kim kardashian in her interciew for times person of the year\"],[\"taylor swift swift tok swift ie spot if y spot if y wrapped\"],[\"now hes telling the truth here george santos george santos cameo slay\"],[\"the three things im most thankful for eduwoes\"],[\"thanksgiving black thanksgiving\"],[\"hes a bad man hes a bad man hes a bad man but hes a hot man the ballad of songbirds and snakes president snow corio la nuss now\"],[\"im not\"],[\"she was feeling herself beyonce award show performance viral\"],[\"christmas decorations arent supposed to be classy\"],[\"ballad of songbirds and snakes is out now this was a dream to work on hunger games hunter schafer rachel ze g ler lionsgate partner\"],[\"finished by during the previews didnt quite make it to the epilogue hunger games ballad of songbirds and snakes amc corio la nuss now\"],[\"the coastline of gaza has been absolutely decimated in such a short amount of time this is horrific to watch\"],[\"replying to amryn_d youre losing me from the other perspective this was a tricky one taylor swift taylor nation swift ies you re losing me you re losing me taylor swift\"],[\"apparently anesthesia turns me into katniss hunger games mocking jay kat n is s kat n is sever de en ballad of songbirds and snakes the ballad of songbirds and snakes president snow surgery anesthesia funny weird jennifer lawrence movie quotes acting catching fire\"],[\"taylor swift t swift taylors version ranking taylor swift songs trend tolerate it illicit affairs the eras tour taylor swift bracket\"],[\"sue me for having a life heres a look back at george santos greatest hits during his time in congress santos was expelled from the house on friday george santos republicans congress politics\"],[\"fox news jesse watters criticized president joe biden for using a straw\"],[\"and they were all filmed in the cleaning cart swift ie swift ies swift ok swift tok taylors vault taylor swift spot if y wrapped spot if y wrapped b bmas speak now taylors version taylor swift taylor nation ts the eras tour spotify\"],[\"thanksgiving dinner with grandmaand aunts uncles and cousins fam bam we hungry family dinner southern cooking grandma thanksgiving\"],[\"nah f this im off the hunger games corio la nuss now th g\"],[\"claritys in death but im still at the restaurant sitting in a corner i haunt taylor nation taylor swift swift ie\"],[\"peep the bandana lmfaoooo anyway free palestine us representatives palestine\"],[\"i hope they play this at his funeral clip mash henry kissinger\"],[\"taylor even controls the tiktok filters help taylor swift the eras tour surprise songs\"],[\"black friday deals\"],[\"and hed still ask what are we the hunger games the ballad of songbirds and snakes\"],[\"not my usual style of singing but i cannot stop listening to the the hunger games tboss album right now and this song captures the book so well the hunger games olivia rodrigo the hunger games the balled of songbirds lucy gray baird corio la nuss now kat n is sever de en the ballad of songbirds and snakes\"],[\"this is what i need from everyone who had taylor on their spotify wrapped this year green screen spot if y wrapped taylor swift\"],[\"and i will not be taking criticism because i know true joy and the haters do not swift ie taylor swift is it over now\"],[\"jack antonoff just dropped a taylor swift swift tok eras tour taylor nation swift ie the eras tour taylors version taylors version taylors version vault travis kel ce chiefs travis kel ce taylor swift folklore tolerate it\"],[\"hunger games you\"],[\"all my favs taylor swift noah kahan maisie peters hozier olivia rodrigo taylor swift swift tok spot if y wrapped wrapped spotify\"],[\"stitch with deeedub th g the hunger games\"],[\"the hunger games edit\"],[\"today student organizers disrupted osus board of trustees meeting to demand divestment from companies complicit in the genocide of palestinians free palestine\"],[\"katniss hotness integral to the plot hunger games kat n is s book tok sketch comedy\"],[\"brown university students interrupt comments from the schools president christine paxson on monday night with calls for the school to divest from weapons manufacturers during a vigil for students shot in vermont israel israel hamas war gaza palestinians palestine israel palestine brown university\"],[\"really haymitch the hunger games mocking jay part\"],[\"lucy slay baird the hunger games the ballad of songbirds and snakes\"],[\"highly recommend hunger games the ballad of songbirds and snakes\"],[\"i just know everybody was tryna be a songbird next year thinking they gone get donations like her the hunger games hunger games the ballad of songbirds and snakes ballad of songbirds and snakes\"],[\"wild this is what black friday looked like in crazy to experience this and make it out alive black friday victorias secret chaos\"],[\"ready for ballad of songbirds and snakes as you can tell hunger games ballad of songbirds and snakes hunger games edit josh hutcherson president snow\"],[\"a release of palestnians to isralis is actually wildly disproportionately in favor of zionists since the hostge ratio as of november was almost meanwhile weve all witnessed the iof continue to bduct palestnians in the wb even during this truce free pala stine free gaza end the apartheid end the occupation anti zionist jew\"],[\"tom blyth and hunter schafer thats it thats the tweet hunger games hunger games ballad of songbirds and snakes\"],[\"ballad of songbirds and snakes hunger games\"],[\"tom blyth needs to send us his playlist asap rachel ze g ler the hunger games ballad of songbirds and snakes hunger games\"],[\"i need to keep reminding myself president snow the ballad of songbirds and snakes hunger games book tok\"],[\"live laugh love hunger games the hunger games the ballad of songbirds and snakes\"],[\"replying to tori yeager why do you guys think lucy gray said this at the end of the ballad of songbirds snakes the hunger games the ballad of songbirds and snakes hunger games ballad of songbirds and snakes movies\"],[\"my uber driver didnt even know there was a hunger games prequel idk what its like to not be consumed by this moment the hunger games ballad of songbirds and snakes th g the ballad of songbirds and snakes corio la nuss now book tok\"],[\"travel tuesday is so underrated and a lot of people dont know about it this is the best time of year to get amazing travel discounts so save this to remember travel discounts budget travel tips cheap travel travel tuesday black friday cyber monday travel sale coupon ing discounts\"],[\"the exit for wrentham outlets on black friday black friday mass hole wren tham outlets\"],[\"bout to head black friday shopping college thanksgiving black friday dads daughters family nailed it\"],[\"when my husband doesnt trust me to cook the turkey\"],[\"im still in shock honestly thanksgiving comedy\"],[\"these two are too cute whos seeing the new movie this weekend the hunger games the hunger games the balled of songbirds tom blyth rachel ze g ler\"],[\"tomorrow is my national holiday the ballad of songbirds and snakes t bos as rachel ze g ler hanging tree snow white hunger games the hunger games\"],[\"stitch with entertainment tonight i love the hunger games wooo rachel ze g ler hunger games\"],[\"we dont give only children enough creditthey are our bravest soliders thanksgiving only child\"],[\"how does she know taylor nation taylor swift taylor swift taylor swift edits now that we dont talk vault tracks taylors version now that we dont talk from the vault now that we dont talk taylors version swift ies swift ies unite swift ies forever swift ies of tik tok swift ie school viral videos gir lies\"],[\"spoiler alert i accidentally ate the apple for the stuffing pumpkin pie thanksgiving vibes\"],[\"battle of the boyfriends thanksgiving boyfriend the owner of this house\"],[\"happy thanksgiving\"],[\"free palestine free palestine free gaza free west bank no apartheid government de fund israel help congo free congo free sudan help sudan using makeup to raise awareness using makeup solo protest\"],[\"were obviously gujjus california gu j ju thanksgiving gu j ju\"],[\"inspo credit to amiiillustrates happy thanksgiving thanksgiving\"],[\"happy thanksgiving\"],[\"visiting my southern brown in laws thanksgiving\"],[\"our black friday sale has officially arrived dont miss out on those mostwanted styles with off all regular priced items online only\"],[\"happy thanksgiving\"],[\"happy thanksgiving everyone\"],[\"am i not loved thanksgiving\"],[\"yes my fam decided to do a very a cracker barrel thanksgiving this year thanksgiving cracker barrel family\"],[\"cousins slay thanksgiving vibes kids table thanksgiving\"],[\"its that time of year again thanksgiving\"],[\"best transition taylor swift eras tour\"],[\"thanks\"],[\"halloween\"],[\"another single holiday year\"],[\"happy thanksgiving\"],[\"breaking several propalestine activists were arrested for staging a sitin on the march route of the macys thanksgiving day parade in new york city palestine\"],[\"did it for the turkey\"],[\"happy thanksgiving\"],[\"nyc thanksgiving free palestine\"],[\"low key some good ass pies cost co viral video fall thanksgiving pumpkin pie\"],[\"i find this rebutal genuinely insane free palestine free fa last in palestine israel leftism viral\"],[\"the peoples princess snoopy macy s parade macy s thanksgiving day parade\"],[\"water we dont need to chant its totally fine\"],[\"macys thanksgiving day parade thanksgiving\"],[\"happy thanksgiving make sure to remind your horrible relatives about this good news and then tell me all your best stories\"],[\"green screen jordyn religious experience snow lands on top the ballad of songbirds and snakes the hunger games\"],[\"thanksgiving day parade thanksgiving\"],[\"lmaooo thanksgiving on the train nyc is really a stimulation thanksgiving cooking\"],[\"free palestine ceasefire now\"],[\"should i tell her w lw lgbt\"],[\"i will stick with my parents thx very much thanksgiving eve thank gsi ving hometown bar\"],[\"nothing like home for holidays thanksgiving family\"],[\"get off everything and we mean everythingggg hollister black friday holiday shopping gift guide sale current rotation capsule wardrobe offer valid in stores and online november to november in usca excludes clearance and gift cards discount applied at checkout\"],[\"okay guys you can stop this trend i win taylor swift slut taylors version taylors verison\"],[\"the ballad of songbirds and snakes was actually life changing\"],[\"im shakinggggggg lets gooo taylor swift swift tok eras tour taylor nation swift ie the eras tour taylors version taylors version taylors version vault buenos a i rests the eras tour travis kel ce chiefs travis kel ce taylor swift riots the eras tour brazil rio rio de janeiro reputation taylors version\"],[\"the lyrics the beat swift tok taylor swift swift ie tv taylors version\"],[\"have a wonderful thanksgiving and school dayseveryone\"],[\"this is all coming from the new wsj article that travis did taylor swift swift tok eras tour taylor nation swift ie the eras tour taylors version taylors version taylors version vault buenos a i rests the eras tour travis kel ce chiefs travis kel ce taylor swift riots the eras tour brazil rio rio de janeiro\"],[\"absolute fire hunger games swift tok olivia rodrigo taylor swift taylors version\"],[\"the truest meme i saw this week recipe from victoria tschopp thanksgiving mac and cheese party food side dish friends giving thanksgiving mac and cheese\"],[\"we need the biggest turkey or thanksgiving is canceled costco wholesale thanksgiving grandmas of tik tok moms of tik tok holiday food turkey family reunion rel a table host hostess problems\"],[\"yall need to chill out taylor swift eras tour\"],[\"speaking my truth i love the cardigan taylors version swift tok swift ie\"],[\"this was the quickest ive ever opened an advent calender such amazing products i cant wait to try them all loccitane l occitan e partner ad advent calender skin care sephora\"],[\"i love you so much angel taylor swift taylor swift the eras tour taylor swift the eras tour swift tok taylor swift brasil bigger than the whole sky\"],[\"i cant stop crying an a be nevi des taylor swift riots the eras tour brazil rio rio de janeiro\"],[\"all pf my classes i am taking do nothing for me\"],[\"firefighter bathroom\"],[\"taylor swift and i are basically twins taylor swift is it over now taylors version is it over now dance trend taylors version swift ie tik tok i think about jumping off a very tall something s gay swift ie vault\"],[\"happy its a rep song riots the eras tour rain show taylor swift surprise songs eras tour brazil night rio night swift ok swift ies be like dancing with our hands tied rio rain shower as rio de janeiro eras tour t f\"],[\"free palestine free palestine palestine free palestine gaza palestinian tik tok\"],[\"replying to maddysteck i need to know what we think of this which should we do next advent calendar advent series jew le ry advent calendar\"],[\"snek the hunger games ballad of songbirds and snakes lucy gray baird josh hutcherson edit reputation tv\"],[\"scott scanning the stage to make sure taylor is ok taylor swift eras tour brazil biggest fan\"],[\"i couldnt help but cry to see taylor feel the love tonight she needed this rio de janeiro brazil n taylor taylor swift taylor nation swift ie swift ie tik tok taylors version taylor swift tok taylors version taylor swift tok taylor swift edit the ras tour the eras tour taylor swift taylor nation taylor swift\"],[\"taylor if your seeing this just know all we have in mind is your best interest and all we want is for you to be happy taylor swift taylor swift the eras tour the eras tour eras tour eras tour brasil brazil rio de janeiro eras tour rio de janeiro\"],[\"love taylor taylor swift folklore speak now taylors version reputation taylors version lover\"],[\"i messed up\"],[\"thanks queen olivia for this song olivia rodrigo hunger games ballad of songbirds and snakes\"],[\"a true star i love her sm\"],[\"he does this seven shows a week figure skating ice skating disney disney on ice coco i promise im not a disney adult\"],[\"ive never had a song grow on me as much as this one taylor swift swift tok eras tour swift ie taylors version taylor swift\"],[\"taylor swift im studying so hard i promise ts the eras tour film taylor swift swift tok\"],[\"the tea will always be piping hot the hunger games the ballad of songbirds and snakes\"],[\"the moment weve all been waiting for home for thanksgiving run it back\"],[\"home for thanksgiving yallrogers emmabeim mamatwosix thanksgiving daughters\"],[\"i could make of these i swear tv taylors version taylor swift now that we dont talk\"],[\"i said what i said and ill say it again taylor swift swift ie\"],[\"hey guys im back and i still cannot get over the fact that she played this on the piano it sounded so beautiful taylors version swift tok swift ie taylor swift houseofcb\"],[\"i cant sleep no one judge me for being delulu i reside on clownnelia street taylors version debut taylors version reputation taylors version\"],[\"please be safe tonight brazil brazil eras tour brazil eras tour taylor swift taylors version swift tok the eras tour\"],[\"this is so wrong eras tour brazil night eras tour rio night eras tour t f eras tour brazil swift ies ever eras tour rio de janeiro riots the eras tour swift ok swift ies of tik tok\"],[\"duet with mateus benac yall she cant control the weather the eras tour ts the era tour rio de janeiro rio de janeiro eras tour swift tok\"],[\"replying to horror high why do people tear her down taylor swift taylor swift eras tour eras eras tour taylor swift swift ok swift ies ready for it ready for it taylor swift tay\"],[\"this is going to be bad tik tok live horror scary horror games scary games\"],[\"who hurt you girl ts the eras tour ts the eras tour film the eras tour taylor swift the eras tour taylor swift taylor swift taylor nation the eras tour\"],[\"now you dont even need money to donate free palestine palestine gaza\"],[\"they were so generous\"],[\"just not home taylor swift swift tok swift ie my tears ricochet folklore taylor swift\"],[\"something to think about i am so proud of you for doing it anyway\"],[\"lessons you will learn along the way commencement speech parody satire weird humor\"],[\"its gonna be half marathons for a hot minute running half marathon s\"],[\"obsessed is an understatement tik tok shop black friday\"],[\"could by a concert venue at this point\"],[\"thinking about someone to taylor swift is a love language idc taylor swift swift ie swift tok call it what you want\"],[\"are excited for starbucks red cup day tomrrow let me know in the comments if you like this years starbucks red cup design or last years red cup design starbucks starbucks red cup starbucks red cup day starbucks holiday drinks starbucks holiday cup\"],[\"absolute bangers swift tok taylors version olivia rodrigo taylor swift hunger games\"],[\"replying to strawberryshelf th g the hunger games abos as\"],[\"from dreaming about a forever to living and creating our own little traditions happy diwali to you from us diwali first diwali thal a diwali mr and mrs diwali in america\"],[\"dont call me kid dont you call me babbbyy taylor swift harry styles taylor nation ts the eras tour a i cover harry styles hsh q love on tour folklore folklore taylor swift\"],[\"need a min version of this taylors version taylor swift now that we dont talk\"],[\"thousands of egyptian fans of the alahly football club based out of cairo chant in solidarity with palestine palestine stand with palestine free palestine gaza egypt\"],[\"works like a charm amtrak\"],[\"i cant believe i caught this tbh has anyone else noticed hunger games the hunger games peet amell ark josh hutcherson josh hutcherson whistle josh hutcherson edit\"],[\"table for plz friends giving viral para ti friends thanksgiving\"],[\"the redness can be intimidating to some people but rest assured that will go away within hours week after the treatment and it is the skins normal reaction to needling stretch mark removal stretch mark camouflage paramedical tattoo brazilian camouflage tattoo stretch mark solution paramedical tattoo artist stretch marks remedy stretch mark stretch marks stretch marks begone brazilian camouflage en luv beauty lounge stretch mark tattoo\"],[\"dont lie you know youve done this too\"],[\"cried the entire time taylor swift eras tour eras movie tour eras tour taylor swift lover\"],[\"wellbutrin xl effect babeyyy\"],[\"i hope you get the emoji references taylor swift swift ie taylors version rep tv\"],[\"stitch with taylee its free pal e stine today tomorrow and until they are free\"],[\"my heart broke into million pieces youll always be loved and missed thank you for everything matthew perry chandler chandler bing friends\"],[\"currently donating profits to palestine children relief fund free palestine\"],[\"taylor swift swift ok\"],[\"mother is mothering taylor swift eras tour rio de janeiro all too well taylors version swift tok swift ie karma trending blow this up viral video\"],[\"replying to jessica dawn hunt ngl this one got better and better but what do we think let me know which we should do next advent calendar advent calendars un boxing advent calendars elf cosmetics\"],[\"green screen i am so here for this swift tok eras tour taylor swift swift ies taylor tok taylors version eras tour eras tour brazil\"],[\"palestine will be free free palestine free palestine palestine\"],[\"i blacked out opening night taylor swift swift ie taylors version swift tok is it over now the eras tour taylor swift taylor nation\"],[\"we love a fan project taylor swift eras tour taylors version\"],[\"reputation stadium tour rep tour re per a endgame taylor swift eras tour\"],[\"harvard\"],[\"like come onnnn netflix not coool student athlete netflix college student netflix household\"],[\"and my hindu friends obviously diwali happy diwali hindu non hindu friends\"],[\"people today bood a ceasefire begging the question what are you marching for green screen march for israel\"],[\"the red cup rebellion has begun sbworkersunited baristas staged surprise walkouts across the country today and tomorrow is expected to be the largest barista strike in our history the same day as red cup day a notoriusly busy and exploitative day at starbucks dont cross the picket line join one at the link in bio\"],[\"cutting off water in a place that has million children what does that sound like to you israel israeli palestine israel palestine free palestine\"],[\"know shes gonna be so annoyed lol inverted taylor swift travis kel ce eras tour london boy\"],[\"go check them out color options fall bags fall vibes fall fashion purse fall looks trendy bags\"],[\"shes so un serious taylor swift the eras tour ts the eras tour eras tour swift ie swift tok\"],[\"kendallking we were troopers\"],[\"my current mil sucks too but this one was almost worse now that we dont talk i dont have to pretend taylors version taylor swift taylors version tv\"],[\"forgive my hair u just work up but taylor swift never lets me down taylors version\"],[\"wait til the end\"],[\"winter\"],[\"night argentina lets gooo taylor swift taylor swift argentina\"],[\"taylor swift travis kel ce taylor nation swift tok swift ies\"],[\"she went down hard but she got right back up taylor swift swift tok swift ie t swift fall fail rep reputation stadium tour travis kel ce\"],[\"on the daily\"],[\"it was enchanting to see you taylor swift the eras tour eras tour eras tour tampa swift ok speak now speak now taylors version enchanted taylors version\"],[\"sand for all swift ies falling in s and taylor swift s and art taylors version taylor swift taylor nation\"],[\"zionism free palestine war crimes genocide armenian genocide world history\"],[\"addressing zionist argument that hamas is a terrorist orginization hamas zionism\"],[\"what arguments have you heard free palestine war crimes occupation\"],[\"get educated talk about it demand a ceasefire free palestine free palestine\"],[\"nyc subway vibes are unmatched\"],[\"vigilante tay gets me every time kansas city mo night los angeles ca night the show travis kelce attended vs the last night of her us leg taylor swifter as tour eras tour taylor swift taylor nation swift travis kel ce reputation taylors version taylors version swift y swift ok s new romantics tv cruel summer taylor swift tok midnight s taylor swift taylor swift challenge swift ie tok reputation vigilantes hit taylor swift caddizac theknifepainter\"],[\"argentina the eras tour eras tour argentina taylor swift bryanlicious travis kelce\"],[\"i am an emotional wreck rn taylor swift swift tok eras tour taylor nation swift ie the eras tour taylors version taylors version taylors version vault buenos a i rests the eras tour travis kel ce chiefs travis kel ce taylor swift\"],[\"keep calling babes free palestine is t and with palestine ceasefire now ceasefire israelis a joke free gaza free palestine\"],[\"yes seasonal depression is an actual thing seasonal affective disorder so do not feel as if its only you and its completely your fault i know youve been sleeping late napping not doing your work masking and i wish nothing but for you to take care of yourself\"],[\"is this landslide republican answer on the abortion issue nikki haley america first usa tik tok usa gop republican debate nikki haley nikki\"],[\"their struggle friends tv show rachel green phoebe buffa y joey tribbiani monica geller ross geller chandler bing jennifer aniston lisa kudrow matt leblanc matthew perry courteney cox\"],[\"you dont have to be a big creator to support them free palestine freepalestine free palestine palestine gaza free gaza abc xyz zy x cba b st filter\"],[\"when and why did your unlearning start jewish muslim solidarity jews against zionism anti zionist jew free gaza free palestine ally up\"],[\"stitch with katie never agaub for anyone free palestine ceasefire now\"],[\"the cursing go crazy\"],[\"will i ever stop making these edits probably not taylor swift swift tok travis kel ce swift ie swift to ker taylor swift travis kel ce tray lor\"],[\"yeah eat it cooking monster\"],[\"fjdjakskdj i cant make this up taylor swift swift tok eras tour taylor nation swift ie the eras tour taylors version taylors version taylors version vault buenos a i rests the eras tour travis kel ce chiefs travis kel ce taylor swift\"],[\"omggggggggg tay vis travis kel ce karma swift ies of tik tok eras tour buenos aires eras tour argentina buenos aires eras tour swift ok tay vis travis kel ce taylor swift\"],[\"i dropped my phone at the end sorry lol taylor swift taylor swift album ranking ts tv\"],[\"but it changes all the time taylor swift taylor swift is the music industry swift ie taylor swift is my favorite person taylor swift taylor nation\"],[\"fy pp roommate\"],[\"green screen keith lee funny atlanta\"],[\"parody\"],[\"training starts today bb whos with me nyc marathon nyc marathon\"],[\"replying to emma this is one of my favorites cuz what the actual hell taylor swift taylors version singing singing taylors version\"],[\"its me swift tok taylors version swift ie taylor swift reputation taylors version\"],[\"also signed up for a k lol lets see how long this dream lasts nyc nyc marathon\"],[\"who decided to make this ga i feel like this will be madness every show ts the eras tour argentina ts the eras tour argentina night argentina night eras tour argentina eras tour argentina swift ies of tik tok taylor swift estadio river plate taylor swift buenos aires\"],[\"returning to tiktok with this masterpiece of a song swift tok swift ie taylor swift taylors version tv viral trending\"],[\"replying to cam taylors version\"],[\"lights on nobody home sorry taylor swift taylors version is it over now vault tracks swift tok swift ie\"],[\"this song feels like my friend taylor swift swift tok swift ie lover eras tour the archer\"],[\"it gets dark now thomas lanese daylight savings seasonal depression\"],[\"taylor never misses taylor swift grandad taylors version now that we dont talk swf it ie taylor swift\"],[\"taylors version tv harry styles taylor swift taylors version\"],[\"replying to olivia caruso how i got baked for the nyc marathon nyc marathon run high\"],[\"daylight savings got me messed up daylight savings\"],[\"what better way to arrive in buenos aires than recreating this incredible t swizzlers dance with my fav eras tour girlies i hope you dont mind we changed the ending argentina buenos aires taylor swift eras tour is it over now\"],[\"my only real complaint was not enough jump scares and gore but very entertaining film f naf f naf security breach five nights at freddy s five nights at freddy f naf movie\"],[\"give me a week and ill prob sign up for a third marathon nyc marathon nyc marathon nyc marathon finisher marathon runner run tok running tik tok nyc\"],[\"fire when the strobe hits you type of iconic taylors version is it over now is it over now taylor swift ts the eras tour taylor swift taylor nation\"],[\"green screen things i wish i knew before running the new york marathon new york marathon new york marathon nyc marathon nyc run tok\"],[\"ok\"],[\"i was pretty upset watching this happen and had to say something and congrats to all of the runners you are incredible new york marathon new york city marathon marathon signs nyc marathon new york marathon inspiration etiquette\"],[\"im screaming taylor swift this is so cute swift tok taylor swift the eras tour\"],[\"should we run the marathon nyc marathon runner girl nyc marathon training nyc marathon\"],[\"my first marathon this was without a doubt a life changing experience everything about this event was extremly inspiring and humbling at the same time first marathon marathon runner nyc marathon run tok\"],[\"how do we make that happen nyc marathon nyc marathon new york\"],[\"it was not pleasant nyc marathon new york marathon nyc\"],[\"officially an abbott world marathon majors finisher new york marathon new york marathon nyc abbott world marathon majors run tok ny marathon marathon tik tok marathon tok runner life runner tok new york new york city\"],[\"green screen hollywood chamber of commerce why whyyyyy he clearly didnt want a star on the walk of fame let it gon this move isnt it hollywood walk of fame rabbit hole celebrity gossip matthew perry rip matthew perry matthew perry rip friends\"],[\"pov you lead the new york city marathon for seconds i mean weve all thought about doing it run tok running nyc marathon new york marathon\"],[\"silly me\"],[\"no words can express the feelings at the finish line of the nyc marathon this was what i saw there between pm today congrats to everyone who took part ny rr nyc marathon\"],[\"free palestine jews for palestine\"],[\"mood every single time taylors version now that we dont talk taylors version vault taylor swift swift tok swift ies of tik tok swift ies\"],[\"giggle swift ie swift ok taylor swift taylors version\"],[\"this part is addictiveeevevevevevevevve taylor swift swift ie is it over now swift tok taylors version abby lee miller wendy williams taylor swift falling over\"],[\"the aggressive lip syncing taylor swift tv swift tok dance\"],[\"the sydney chant for blank space at the theater gone wrong taylor swift taylors version taylor nation swift ie swift tok taylor swift tok the eras tour ts the eras tour ts the eras tour film eras tour movie blank space taylors version tv taylor swift taylor nation ts the eras tour film\"],[\"dads mile pep talk nyc marathon nyc marathon new york city nyc marathon\"],[\"marathon sunday nyc marathon nyc marathon nyc marathon runners larry\"],[\"free palestine\"],[\"um i dont think i can listen to this taylor swift taylors version tv vinyl music fail swift y tok\"],[\"friends dont let friends do this nyc nyc marathon marathon marathon runner race run nyc marathon friendship goals friends friendship\"],[\"for legal reasons this is satire this trend is making me feel seen though thank you taylor swift now that we dont talk i dont have to pretend vault tracks trend now that we dont talk from the vault music dating satire swift tok taylor swift taylor nation\"],[\"kate said yes nyc marathon\"],[\"the last runners at the nyc marathon the marathon is officially over congratulations to all the runners see you next year nyc marathon marathon nyc new york running\"],[\"did everyone realize this before me or the eras tour taylor swift mastermind the eras tour movie ts swift ies los angeles\"],[\"this is the world we live in free palestine free palestine ceasefire now\"],[\"listen up viral taylor swift\"],[\"green screen we would be in shambles taylor swift taylors version\"],[\"it takes less than a minute to call your congressperson and senator and tell them ceasefire now link in bio please use your voice even though its a weekend you can leave a message do not be silent use your voice to stand for humanity to stand against gencide free palestine palestine will be free ceasefire now\"],[\"sorry sorry gotta get to the subway nyc marathon traffic nyc marathon\"],[\"imagine being succesful taylor swift taylors version eras tour\"],[\"idky i be nervous when its my page\"],[\"what kind of boycott are you people doing the sugar plum danish and water down coffee can not be that good for you to stand with that company starbucks holiday drinks starbucks red cup starbucks boycott\"],[\"can you hear us now free palestine\"],[\"you have to be serious rn taylor swift\"],[\"bumble taylor swift tok taylors version now that we dont talk tv taylors version\"],[\"free palestine stand with palestine boycott starbucks\"],[\"now that we dont talk swift tok swift ie taylor swift taylors version now that we dont talk tv\"],[\"hahha oops awkward awkward moments fail\"],[\"specifically the oh lord part idk how but i swear taylor put crack in it taylor swift swift ie\"],[\"ross finds out about chandler and monica cap cut matthew perry friends tv show friends funny reaction trending new fy rip matthew perry matthew perry chandler bing cry joey tribbiani joey tribbiani chandler and joey matt leblanc and matthew perry ross ph obe rachel friends forever\"],[\"its just so good i am screaming taylor swift taylors version tv taylors version now that we dont talk swift tok swift ies\"],[\"anatomy bonus\"],[\"ahhhhhh so insane cant say im shocked taylor swift swift tok swift ie taylors version swift ies taylor nation ts the eras tour taylors version ts the eras tour film the week nd green screen\"],[\"happy fnaf movie day or whatever f naf f naf movie five nights at freddy five nights at free dys roblox t td t td roblox fy pppp fy pppppppp pppppppp pppp ppp x zy cba x zy bca\"],[\"taylor you mastermind taylor swift taylor nation taylors version is it over now is it over now taylor swift ts the eras tour taylor swift taylor nation\"],[\"nyc marathon route nyc marathon nyc marathon nyc marathon expo marathon training marathon runner nyc run tok running tik tok\"],[\"but like is it over now taylor swift swift ie swift tok taylors version is it over now taylor swift harry styles harry styles taylor swift taylors version green screen\"],[\"halloween movie night popcorn bar complete with halloween themed treats happy halloween movie night movie night ideas date night ideas date night halloween halloween snacks lifestyle snack tray\"],[\"shes sick of me book tok book recommendations bookish bookworm\"],[\"thoughts im obsessed with now that we dont talk already taylor swift speak now album vs album taylors version tv ranking swift tok taylors version\"],[\"in no universe was it the loml taylor swift taylors version swift ie tik tok swift tok\"],[\"this is so cute dogs a i disney disney ammo s taffy\"],[\"do you think shell be mad w lw\"],[\"whats your biggest regret we all have a story\"],[\"i also love how she has the privilege of staying off social media cause of all the violence meanwhile palestinians cannot just look away because its their everyday life selena gomez palestine free palestine free palestine\"],[\"oh i am fuming at this taylor swift swift tok swift ie taylors version swift ies taylor nation ts the eras tour taylors version ts the eras tour film taylor swift re recording green screen\"],[\"who needs all the boys and their expensive cars anyway taylor swift swift tok taylors version taylors version n tw dt\"],[\"i could teach a class about fnaf about why some people prefer the earliee games to the recent ones why most theory crafting is harder nowadays so people are giving up easy and why the fnaf movie will become an instant classic once its released fy p five nights at freddy sf naf for you page five nights at freddy s movie film for you five nights crash course o of\"],[\"at the end of the day theyre just very silly five nights at freddy s f naf f naf movie f naf movie freddy f naf f naf freddy bonnie f naf f naf bonnie chica f naf f naf chica foxy f naf f naf foxy\"],[\"so i really love this song now that we dont talk taylors version taylors version\"],[\"matthew and jennifer were family not just friends matthew perry jennifer aniston friends\"],[\"is it over now is fighting say dont gos number one slot me thinks is it over now is it over now taylor swift is it over now taylors version taylors version taylor swift tv swift ie from the vault\"],[\"lets collab taylor swift taylor swift swift tok tv tv vault tracks eras tour\"],[\"duet with jakes acl my mentions were blowing up and this deserved a video response\"],[\"the way he jumped up on cue\"],[\"to real not to post viral taylor swift\"],[\"green screen video rip to a great comedic actor matthew perry friends\"],[\"love that i have one more semester to go and its when i find this out lol taylor swift taylors version taylor nation eras tour swift tok swift ie canvas canvas pages school college college life college hacks\"],[\"duet with labyrinthaze taylor swift\"],[\"hasbeyn could never taylor swift beyonce performance popular dancing swift ie viral ate\"],[\"its giving freshman year is it over now taylors version tv swift tok\"],[\"too real but it might get me cancelled swift tok taylor swift swift ie\"],[\"im cackling hahha taylors version taylors version taylor swift swift tok swift ie swift ok taylor nation tv\"],[\"taylor swift taylors version\"],[\"like yes swift tok swift ie taylor swift\"],[\"this felt personal taylor swift taylor nation you re losing me you re losing me taylor swift taylors version midnight s taylor swift taylors version\"],[\"fall is almost over my favorite season\"],[\"you will be missed joey tribbiani chandler bing friends friendship wishbone matthew perry\"],[\"now that we dont talk taylor swift taylors version swift tok now that we dont talk viral\"],[\"feeling v nostalgic right now sooo backstory time hehe i miss taylor sm right now been a while since i posted this so here ya go ts the eras tour film ts eras tour film eras tour taylor swift taylor swift swift tok swift ie the eras tour eras taylor ts the eras tour concert swift the eras eras tour rep tour reputation secret session\"],[\"thoughts taylor swift taylor swift vault vaulter as tour taylor swift and travis kel ce blank space pop music taylor swift music eras tour outfits celebrities swift ies the vault\"],[\"let me just tell you about this roman empire the one taylor swift\"],[\"nfl taylors version travis kel ce\"],[\"miss taylor swift knew what she was doing with this one now that we dont talk ex best friend tv taylors version book tok swift ies taylor swift\"],[\"the scooby doo group costume is a fate worse than death scooby doo halloween group costume\"],[\"ill be there for you friends friends apartment building chandler bing matthew perry\"],[\"bye i didnt even realize until i was putting the confettis away but its prob just leftovers cuz i also saw a guy who got green what is happening taylors version taylor swift swift ie swift tok swift t swift tv reputation reputation taylors version\"],[\"i hope takis dont support is not real\"],[\"fuck you james lankford free palastine free palestine end occupation of palestine us senate stand with palestine gaza ceasefire now fuck it al jazeera english\"],[\"weve been so spoiled but it will come to an end taylors version reputation taylors version debut taylors version taylor swift swift ie swift tok the eras tour midnight s taylors version tv taylor swift taylor nation\"],[\"taylor i am not well taylors version\"],[\"i loved my costume halloween\"],[\"must be nice to be mentally stable taylors version swift tok taylor swift\"],[\"taylor swift eras tour the eras tour swift tok swift ie swift ies ts the eras tour ts eras tour work corporate corporate life\"],[\"i wish you would change the lyrics taylors version i wish you would taylor swift swift tok wasted\"],[\"how did i end up this unlucky taylor swift taylors version\"],[\"its unfathomable to me really free palestine palestine from the river to these a within our lifetime protest nyc\"],[\"in the wise words of a comment i saw earlier today this is why she is a songwriter and you are on tiktok taylors version taylor swift\"],[\"its funny cause taylor swift taylors version taylor nation taylor taylor swifter as tour\"],[\"yeah ima walk before i catch that fine mta new york city new york bus mta police nyc\"],[\"now that we dont talk supremacy taylors version from the vault taylor swift taylors version now that we dont talk swift tok swift ie taylor nation flop tok\"],[\"we might not have known matthew perry in person but he was in our homes making us laugh as a millennial friends is my comfort show and now itll feel so different this one goes out to all of our friends as we mourn collectively sending you a big joey hug find a recliner kick back and enjoy how relaxing it is matthew perry friends millennial meltdown friends tv show friends matthew perry friends picture frame friends peephole frame\"],[\"taylor really outs me every single song now that we dont talk taylor swift taylors version taylors version\"],[\"halloween hs m\"],[\"hessenheffers do it right halloween halloween z ect ion z shake it up\"],[\"brb gonna go cry friends matthew perry rip friends show chandler bing\"],[\"i just feel for her i guess kanye west kanye\"],[\"taylor nation taylor swift taylors version swift tok vault tracks tv vault tracks is it over now is it over now tv taylors version swift ie say dont go say dont go from the vault now that we dont talk suburban legends suburban legends taylors version taylor swift taylor nation\"],[\"crying phineas and ferb phineas disney disney plus voices disney world disney disneyland candace disney princess memes boyfriend girlfriend\"],[\"that hand thing is a dead giveaway swift ok taylors version\"],[\"i love harry still taylors version is it over now i think he knows taylor swift taylors version\"],[\"not me realizing she was masterminding my favorite vault song taylors version taylor swift taylors version taylor nation is it over now\"],[\"spooky for sure hallo weekend halloween\"],[\"definitely not based on true events now that we dont talk taylor swift taylors version taylors version tv\"],[\"i am genuinely shook by this excuse me taylor swift taylor swift swift tok swift ie taylors version swift ies taylor nation ts the eras tour taylors version ts the eras tour film taylors version vault is it over now\"],[\"bye trending taylor swift eras tour swift tok taylor swifter as tour swift ie eras tour taylor swift eras tour movie tv album taylors version vault vault tracks taylor swift relationships\"],[\"insanity swift tok swift ie taylor swift\"],[\"taylor devoured with this one\"],[\"tragic coincidence green screen matthew perry\"],[\"taylors version now that we dont talk taylor swift taylors version swift ie\"],[\"matt perry rip\"],[\"i did not need this information thank u very much ex b sf swift ie eras tour taylor swift best friend\"],[\"taylor come find me on the club level green screen taylor swift travis kel ce travis and taylor\"],[\"im aftaid taylor did not hold much back here we love travis tho taylor swift travis and taylor taylor and travis travis kel ce taylors version tv from the vault is it over now is it over now tv is it over now taylor swift is it over now from the vault\"],[\"you will witness a breakdown taylor swift swift tok\"],[\"best night ever halloween college bar university of washington halloween costume\"],[\"i dont normally post so often but this one hurts matthew perry friends tv friends chandler bing chan and ler bong\"],[\"this mashup omg taylors version taylor swift midnight s\"],[\"i cant belive hes dead rip matthew perry chandler bing fy p friends for you for you page friends chandler\"],[\"taylors version tv taylor swift swift ie is it over now\"],[\"matthew perry best known for his role on the sitcom friends has died tmz is reporting he was matthew perry friends chandler bing\"],[\"its lowkey worth it fashion fall bags tote bags cute fall\"],[\"i hear they have wifi on airplanes these days free palestine free gaza ceasefire now jews for palestine j vp\"],[\"yes ex getaway car taylors version reputation taylor swift\"],[\"free palestine\"],[\"she looks so cute in all of them dont get me wrong but its a little disappointing to recieve taylors version taylor swift taylors version taylors version tv\"],[\"this song is so exbsf coded taylor swift folklore swift tok taylors version\"],[\"im so excited for tv tn taylor swift taylors version taylor nation swift tok album release out of the woods world tour\"],[\"thank you taylor for my new personality taylor swift taylors version now that we dont talk\"],[\"miss taylor taylor swift swift tok swift ies swift nation swift ie harry styles\"],[\"green screen she served looks and wrote lyrics that could cut through paper taylor is not to be messed with taylor swift is it over now tv taylors version swift ie swift tok entertainment music\"],[\"these vault tracks swift tok taylor swift taylors version is it over now taylors version\"],[\"what taylor swift said taylor swift taylor hay lor harry styles now that we dont talk taylors version taylor nation\"],[\"we were too deep in conversation about the beckham doc i didnt even realize david beckham beckham s victoria beckham beckham beckham documentary\"],[\"if you need me ill be in taylor land now that we dont talk taylor swift taylors version tv friendship people please r\"],[\"cause im very much sat tf\"],[\"taylor i am speechless taylors version is it over now hay lor\"],[\"why do i have to go out every wknd i just fucking love it\"],[\"best vault song hello\"],[\"no notes taylor swift tv taylors version swift tok taylor swift taylor nation\"],[\"it hits so so hard still ready for all the haters to switch up by next week taylor swift swift tok taylors version tv style taylors version\"],[\"if ykyk taylors version tv swift ie swift tok is it over now taylor swift po c swift ie\"],[\"im not wasting time halloween voldemort harry potter halloween look halloween in s po\"],[\"olivia rodrigo big fans boop\"],[\"which one do you like five nights at freddy s five nights at freddy s halloween f naf spring trap bonnie freddy foxy chica\"],[\"so sorry to harry styles but is it over now is quite possibly my favorite vault song ever she really got him good taylor swift tv hay lor is it over now taylor swift harry styles taylor swift tik tok harry styles tik tok\"],[\"mother dughter shared insanity swift tok swift ie taylors version is it over now is it over now is it over now taylor swift\"],[\"this and now that we dont talk are criminal offenses pls dont contact me for the next business days as i am busy spiraling taylor swift taylors version tv taylors version swift tok\"],[\"what a wild ride this song was taylor swift taylors version taylor nation swift ie taylor swift taylor nation\"],[\"slt my fav but blank space changed the trajectory of her career taylor swift eras tour taylors version\"],[\"green screen anyway swift ie swift tok taylor swift taylors version\"],[\"best vault song she gagged him like okayyy taylor swift swift tok tv taylors version harry styles eras tour ts the eras tour vault tracks is it over now\"],[\"everything is going wrong rip\"],[\"this song is it over now taylor swift taylors version harry styles\"],[\"goodbye\"],[\"taylor swift taylors version taylors version swift ie swift tok style\"],[\"im fucking crying\"],[\"im unwell over this album taylors version taylor swift taylors version swift ie swift tok wonderland hay lor harry styles clean clean taylors version clean speech eras tour taylor nation taylor swift tok\"],[\"we get hungry at the same time\"],[\"my jaw dropped idf israel palestine free palestine girlmath green screen video green screen\"],[\"is t and with is real free palestine\"],[\"sooo whos gonna be serving cnt this halloween halloween costume ideas\"],[\"the difference the comma makes really riles me up maroon taylor swift taylor swift swift tok taylor swift lyrics\"],[\"silence is so loud gaza palestine\"],[\"mother rage scares me sometimes mom parents family ska doo sh rel a table\"],[\"why does she have real majorrrrr bruh\"],[\"anyways go watch the interview of the israeli hostage saying she was treated kindly by hamas and that the idf shot their own citizens in the crossfire free palestine\"],[\"follow me for more safety tips\"],[\"replying to l p ur right winter sports arent real sports olympics skiing winter olympics\"],[\"disney dont mind\"],[\"guys can we please stop using yhe whole intro halloween halloween costume costume psycho killer\"],[\"here we gothe hunt for moana begins disney disney years of magic disney th celebration disney card disney card fun disney card game disney cards disney card trading disney moana card moana disney moana disney moana card disney card opening disney week\"],[\"this is a joke okay teacher teachers of tik tok trending teacher tok teacher life teachers on tik tok\"],[\"shes genuinely so concerned taylor swift eras tour travis kel ce\"],[\"why does this feel like the first time ive seen her kiss a bf taylor swift travis kel ce\"],[\"her reaction she was shaking shes definitely in love go taylors boyfriend\"],[\"thanks but no thanks wedding diy wedding wedding planning bride fiance engaged wedding tok\"],[\"duet with drake bell la cam is a negra what a strange turn of events drake and josh drake campana drake bell\"],[\"taylor would be proud that i took myself out of a bad environment but im so sad i didnt get to see the whole movie no one was dancing or cheering i dont know why this happened to me swift ie swift ies eras tour eras film eras tour film sad\"],[\"with her grippers out too monkey roommates halloween halloween look costume ideas\"],[\"marines usmc marine corps military\"],[\"i was captivated lmaoo taylor swift eras tour eras tour movie cruel summer swift ie\"],[\"lesson to be learned from this one\"],[\"i wanna see one of their dingy missiles get past a csgs air defenses israel palestine gaza gaza conflict usa gerald r ford\"],[\"i need to have a wedding rn i cannot rocky aur ran iki prem kahan i bollywood desi ran veer singh alia bhatt\"],[\"real viral video\"],[\"where yall at taylor eras movie taylor swift lover folklore where is everybody help\"],[\"carrying this burden for years will have had its toll heartbreak will smith jada pinkett smith years emotions running high\"],[\"so goooood taylor swift taylor swift eras tour film\"],[\"free palestine\"],[\"dania \\u062f\\u0627\\u0646\\u064a\\u0627 the story of palestine story of palestine israelis an apartheid state one state solution\"],[\"history of israel kids edition minnesota minneapolis gaza parents of tik tok palestine israel stand with palestine is t and with gaza\"],[\"replying to pink she cant dancewho agrees taylor swift eras tour eras eras tour taylor swift taylor swift swift ok swift nation\"],[\"we ended up going to ulta more stores after we got said pretzels\"],[\"the everything bag except i dont even have enough stuff to fill it with this is gonna be my schoolworklibrary bag for sure\"],[\"israel gaza israel hamas war\"],[\"uh oh viral\"],[\"another eras inspired halloween costume but this time make it an entire family theatrical performance of the greatest on stage costume change ever taylor swift and samobam hope we did it justice ts the eras tour the eras tour taylor swift costume taylor swift halloween taylor swift style swift ie swift tok swift ie tik tok taylor swift ts eras tour eras tour midnight rain\"],[\"free palestine free palestine\"],[\"slay queen\"],[\"snl snl skit fy pppppppp pppppppp pppppppp pppppppp ppp viral viral snl meme black meme black tik tok viral video zy x cba\"],[\"and fwiw i think beyonc\\u00e9 was def on my side in the fight eras tour eras tour movie taylor swift beyonce green screen video\"],[\"the reality of apartheid in israel and palestine west bank israel palestine gaza\"],[\"its just a joke halloween candy office halloween party halloween treats\"],[\"from the river to the sea free palestine palestine free pala stine milk a the e movement\"],[\"protesters calling to stop the genocide in gaza held a diein at the harvard business school campus wednesday at one point a handful briefly engaged with a person walking among them more at nbcbostoncom israel hamas boston massachusetts news video\"],[\"gaza gaza under attack palestine free palestine\"],[\"funniest thing ive ever seen hah a nyc subway\"],[\"guys how is this real firstly please tell us that our intern milly hitcham isnt the only one who resorts to dry humour in the face of chaos secondly were sending so much love to everyone affected by the adhd medication shortage as an adhd therapy company stimuli is always here for adhders as a company ran by employees who all have adhd we especially relate to the anxiety caused by our current moment adhd adhd medication adhd therapy\"],[\"dont need friends who are complicit in genocde palestine free palestine\"],[\"manhattan will foerver confuse me nyc storefronts new york\"],[\"olay skin care keeps my skin on glow o lay partner body care vitamin c\"],[\"free palestine free palestine end occupation of palestine end occupation\"],[\"right on cue nyc thank you nyc nyc weather nyc rain im grateful all the time weather new york city nyc rainy day weekend in nyc\"],[\"ketchup on top jersey y joe jersey trend viral\"],[\"taylor swift eras tour\"],[\"stitch with nafubabu green screen i know some south asian history too you know palestine stand with palestine free palestine bangladesh bangladesh stands with palestine bangladesh\"],[\"free palestine stand with palestine stand with israeli people decolonize your mind\"],[\"i saw a video that was like im everybodys running a half marathon or getting engaged years old and i cant remember who it was creds to them but i cant stop thinking about how true it is run tok runner runner things half marathon half marathon training\"],[\"so glad to be done with this fucking essay senior it is college essay\"],[\"cap cut wait why does the picture lowkey work taylor swift swift tok tv style\"],[\"my sister olivia rodrigo\"],[\"who knew olivia was so pro palestine pro palestine palestine free palestine\"],[\"haha yeah olivia rodrigo\"],[\"i made a great choice for them taylor swift eras tour eras movie lg ad father daughter dads of tik tok\"],[\"like damn renegade taylor swift taylor swift swift ie taylors version swift ies swift tok renegade taylor big red machine\"],[\"since yall saying yall stand with them leave your homes and give it to them palestine israel\"],[\"who wouldnt tho eras tour movie taylor swift\"],[\"taylors eras tour movie but make it circular economy taylor swift eras tour movie eras movie premiere taylor swift\"],[\"dont speak on what you dont know but then aak yourself why you dont know palestine israel palestine free palestine information age of information\"],[\"viral\"],[\"still shaking eras tour movie premiere taylor swift eras tour concert film eras tour swift tok\"],[\"my luggage lives out there at this point beis travel paris bedbugs\"],[\"i cant get over this video like taylor reached for our phone and i told her no like who do i think i am taylor swift the eras movie premiere the grovel a swift tok eras movie premiere ts the eras tour film ts the eras tour film premiere taylor nation\"],[\"palestinian israeli conflict summarized arab tok palestine\"],[\"you cant win\"],[\"self destructive girls rise taylor swift taylors version taylor nation taylor swift tok swift ie taylor swift taylors version taylor nation taylor swift tok swift ie mess it up\"],[\"im gonna wait and get my popcorn bucket once its about to start ts the eras tour film ts the eras tour taylor swift swift tok swift ie\"],[\"paris\"],[\"its a bad habit kim kardashian voice note friends the kardashian s viral\"],[\"two besties who only gossip in chinese\"],[\"it wasnt that bad most theaters were pretty clean it seemed that certain rows were super messy but the majority were pristine i give yall a based off night and cleaning after shows swift ies taylor swifter as eras tour film movie theater employees time lapse satisfying cleaning\"],[\"friday the th got the best of some of us\"],[\"wow solar eclipse\"],[\"taylor swift the eras tour the eras tour movie all too well min\"],[\"i need caffeine college student college life college\"],[\"replying to laura be this editing is so funny to me taylor swift taylors version i know places world tour\"],[\"ghost trend ghost photoshoot\"],[\"was the set of the exorcist cursed listen to this weeks episode curse horror movie the exorcist scary spooky creepy history dark ghost demon spirit halloween season story no sleep strange weird\"],[\"free palestine justice for palestine\"],[\"its giving i know something you dont but maybe im a skeptic israel usa america free palestine\"],[\"replying to martin stop asking us about hamas as im uploading this a genocide is happening israel palestine war crimes genocide hamas biden apartheid\"],[\"from seoul to new york protests on behalf of palestine have unfolded across the globe palestine protests israel news\"],[\"bangladesh palestine muslim palestine arab arab tik tok\"],[\"free palestine\"],[\"its painful to watch patriots nfl tom brady mac jones\"],[\"just wait for her reaction when she finds out i was giving her the tushbaby to keep i love tushn people especially at disbeyland gifting disneyland disney hack toddler baby heavy baby feelgood heartwarming\"],[\"the fact that she thought they were booing her taylor swift viral kanye west swift ies trending\"],[\"and also got rudely asked to stop when i started singing quietly taylor swift eras tour eras tour movie taylor swift movie viral taylor nation\"],[\"the best moment of my life is now immortalized in hd in the eras tour movie eras tour the eras tour taylor swift eras tour movie\"],[\"the taylor swift eras movie was such a delight eras movie premiere\"],[\"hope youre havin fun in paradise jimmybuffett jimmy buffett margarita ville\"],[\"this is my olympics swift tok taylors version tv eras tour eras tour movie taylor swift swift ie spot if y wrapped\"],[\"fewest days off in the ivy league u penn fall break\"],[\"yall gon make me lose my mind explained politics israel palestine geography united states cc\"],[\"columbia university on lockdown for palestinian protest\"],[\"so this happened last night i waited years for this magical moment i am glad i met the woman whose music i grew up listening to taylor swift i appreciate you and love you swift ie taylor swift ts the eras tour film ts the eras tour film premiere los angeles the grove taylors version ts the eras tour s of i stadium s of i stadium taylor swift hollywood\"],[\"i rlly hope this is true cause book tok taylor swift swift tok eras movie taylors version travis kel ce\"],[\"wasnt even worth the hurt breakup healing journey breakup healing process breakup tik tok breakup tok breakup story\"],[\"dorothy hoffner a lifelong chicagoan and centenarian who recently set a world record for being the oldest person to ever participate in a tandem skydive has passed away just a week after her incredible jump officials at the brookdale senior living center confirmed that hoffner died in her sleep on sunday night chicago chicago news skydiving skydive\"],[\"jewish author asking you once again before you speak on whats happening to read anything by a palestinian author and listen to palestinians book tok fy p palestine\"],[\"taylor swift getting to experience the eras tour as a swiftie as she watches along at the movie premiere is so powerful ts the eras tour ts the eras tour film swift tok\"],[\"tik tok jews zionism viral viral video trending trend respect palestine free palestine israel gaza video\"],[\"i just white gurl danced so well taylor swift folklore\"],[\"how is this real life swift tok swift ie eras tour eras tour taylor swift\"],[\"sure these celebs can raise awareness but this aint ultimate team why are people stat padding what celebs on whos side smh palestine israel gaza free palestine\"],[\"guess we chose the right man for the job\"],[\"free palestine\"],[\"taylor swift has arrived at the ts eras tour movie premiere\"],[\"release date reveal at the end\"],[\"jada pinkett smith reveals in new interviews that she and will smith have been separated since link in bio for everything she had to say getty\"],[\"one hawaii resident says some tourists are carrying on with their holidays as normal after at least people died in wildfires lahaina maui hawaii hawaii fire wildfire maui fire tourism us extreme weather bbc news\"],[\"palestinian ambassador to the uk blasts the bbc for its biased coverage dont equate between the occupied and the occupier husam zomlot the head of the palestinian mission to the uk blasted the bbc over its biased coverage during an interview in which he was asked whether he would condemn the unprecedented military attack by hamas on israel bbc israel palestinian ambassador gaza learn on tik tok viral london bbc news\"],[\"replying to \\ud835\\ude7d\\ud835\\ude70\\ud835\\ude76\\ud835\\ude77\\ud835\\ude70\\ud835\\ude7c the media wont show you the reality of loving in gaza i recommend watching the full documentary gaza fights for freedom directed by abby martin its available to watch on youtube free palest i free palestine s colonisation occupation of palestine apartheid\"],[\"shani louk didnt deserve this at all hamas is attacking israel and taking their families to kill them to death but femals are getting harassed by hamas gaza and killing them the president announced that we stand with israel and help them we going to ww shani lou k hamas gaza israelis under at t tacked israel hamas attack israel ww rip sad news\"],[\"no this is fake this isnt real olivia rodrigo l ivies olivia rodrigo guts olivia rodrigo concert guts album\"],[\"free palestine jews for palestine\"],[\"free palestine arab arab tik tok palestine free palestine lebanon\"],[\"the first casualty when it comes to war is truth\"],[\"grace my dancing buddy l irish dance dance\"],[\"its a habit\"],[\"fall festivities\"],[\"im actually shooketh to the core baby girl better get her lawyers ready guts olivia rodrigo guts olivia rodrigo guts album ps im a swiftie this is just satire dont come for me unless i send for you\"],[\"asking israelis about palestine at if tv interview palestine israel lebanon street interview public interview steve in the streets\"],[\"guess were not going to talk about university quotas on jewish students jewish jewish on campus jewish tik tok jew tok college student\"],[\"hamas fighters ran up in israeli towns unaliving abducting hundreds of citizens the hamas group feels palestenians have been done wrong want to establish an islamic palestenian state get rid of israel the hamas group governs approximately million palestinians in the gaza strip is well known for its resistance to israel they are known to be antisemantic towards their jewish neighbors\"],[\"you cant win\"],[\"life is good\"],[\"forever on his mind\"],[\"sorry stace but they got ya fraud scam\"],[\"mental health medication can be life saving remember that mental health matters\"],[\"its actually really far chicago marathon marathon runner marathon training\"],[\"fuck it we ball swag michigan\"],[\"a ranking taylor swift swift tok evermore\"],[\"taylor and travis are my roman empire taylor swift swift ie travis kel ce kansas city che if s swift tok\"],[\"available now taylor swift swift ie swift tok the eras tour taylors version taylor swifter as\"],[\"i like being dramatic roomate room ie college dorm roomate s\"],[\"is this the best beauty advent calendar of all time advent calendar beauty advent calendar p louise p louise advent calendar\"],[\"which other advent calendars should i unbox u lta advent calendar u lta beauty beauty advent calendar advent calendar\"],[\"its a thanksgiving tradition shout out ot basketball thanksgiving\"],[\"spanish king the boyz tbz kpop k pop fy p eric\"],[\"these olaplex holiday kits are my favorite gifts under the tree this year\"],[\"just taemin casually taking foot long steps taemin shinee mma sherlock k pop k pop fy p nd gen\"],[\"best mexican thanksgiving turkey thanksgiving mexican turkey\"],[\"pumpkin pie pumpkin pie thanksgiving plates friends giving\"]],\"hovertemplate\":\"tsne_1=%{x}\\u003cbr\\u003etsne_2=%{y}\\u003cbr\\u003edescription=%{customdata[0]}\\u003cbr\\u003ecluster=%{marker.color}\\u003cextra\\u003e\\u003c\\u002fextra\\u003e\",\"legendgroup\":\"\",\"marker\":{\"color\":[0,0,5,3,0,3,7,3,3,0,0,0,5,0,7,7,8,7,5,3,3,0,5,5,7,5,5,7,3,3,5,5,5,3,3,5,8,5,8,7,3,5,7,7,0,5,7,7,8,7,7,5,8,7,3,3,3,3,8,3,3,5,5,5,3,8,3,3,0,3,3,3,4,1,5,5,5,0,5,3,3,3,7,5,5,8,5,5,5,0,0,5,7,0,0,0,0,0,0,0,5,0,0,0,0,3,3,0,0,0,0,0,0,0,3,0,0,0,0,0,0,0,3,0,0,0,0,0,0,0,3,3,3,5,0,0,0,0,0,0,3,5,1,0,5,0,2,0,2,2,2,3,6,5,3,2,5,0,0,1,1,1,1,1,0,5,5,0,3,0,5,6,6,2,1,6,1,0,0,1,5,6,1,2,0,4,5,6,6,1,1,1,6,1,6,6,2,6,2,6,6,6,6,5,6,2,6,6,6,6,6,6,6,5,5,5,5,5,6,6,6,5,1,5,5,5,2,5,5,5,5,5,5,5,5,5,5,5,4,3,5,5,5,8,5,5,2,5,2,5,3,5,5,6,5,5,2,3,5,5,5,1,6,4,1,5,4,1,5,5,4,1,0,4,4,3,3,1,4,2,5,6,4,1,4,1,3,6,3,0,1,4,6,5,5,1,1,1,1,4,4,4,4,0,4,2,3,1,3,3,8,5,3,1,0,1,6,5,4,1,2,3,6,5,0,3,4,3,1,0,7,2,1,1,5,4,2,1,4,4,3,3,5,2,0,2,4,0,4,3,1,1,3,3,4,1,1,3,4,1,2,2,2,2,8,1,4,4,2,3,0,7,2,2,2,3,1,3,4,4,1,1,3,7,3,8,1,1,8,4,1,1,1,1,5,1,1,8,3,4,0,8,1,8,3,8,1,8,8,8,8,8,7,8,3,8,2,1,1,1,1,4,8,8,2,1,8,1,8,8,4,2,1,1,2,8,4,3,0,2,1,1,2,1,3,1,7,1,3,1,0,1,8,1,5,0,1,1,0,3,3,2,1,1,0,0,1,7,1,4,0,3,1,7,1,1,1,1,1,1,1,1,1,5,7,1,4,4,1,1,1,5,7,1,3,2,1,1,5,1,4,1,1,2,1,1,8,1,7,1,5,5,7,0,1,0,1,1,1,5,1,1,4,1,1,7,1,7,4,1,1,1,5,7,1,7,1,7,0,2,1,2,1,1,1,1,1,1,1,1,0,1,3,1,3,0,1,1,1,5,0,0,1,1,1,1,4,1,4,3,1,3,1,3,1,3,2,2,5,1,2,3,3,2,3,0,3,5,0,0,4,1,0,0,0,4,5,3,4,3,2,0,3,4,0,4,2,2,2,4,0,3,2,3,4,2,3,7,4,2,5,2,2,2,8,3,2,8,0,2,8,0,4,2,2,8,3,1,0,2,0,4,1,2,4,4,2,3,4,0,4,2,3,1,4,3,0,3,0,5,3,4,3,1,3,5,2,2,2,2,2,2,0,0,1,4,4,4,0,4,0,2,2,4,1,3,0,2,4,2,1,4,2,3,2,4,3,0,0,2,2,2,0,2,2,3,0,3,5,0,2,0,2,3,3,3,3,3,8,3,1,1,1,3,5,5,5,0,5,0,5,5],\"coloraxis\":\"coloraxis\",\"symbol\":\"circle\"},\"mode\":\"markers+text\",\"name\":\"\",\"orientation\":\"v\",\"showlegend\":false,\"x\":[3.7825498580932617,-14.72614860534668,-24.326784133911133,-20.365001678466797,9.418864250183105,-0.22878970205783844,-8.89173698425293,-5.869554042816162,-1.1125582456588745,3.7407891750335693,6.950695991516113,20.366262435913086,-12.094075202941895,3.9315690994262695,-8.51229476928711,-8.447397232055664,-14.083516120910645,-8.291361808776855,-23.269474029541016,-0.3496255874633789,-6.184924125671387,11.396581649780273,-22.439741134643555,-25.463895797729492,-8.92069149017334,-25.03639793395996,-24.404937744140625,-6.408568382263184,-17.643007278442383,-9.729414939880371,-25.217952728271484,-18.260221481323242,-23.47184944152832,-13.51949405670166,-7.948788166046143,-21.978836059570312,-13.878981590270996,-22.88142967224121,-13.941160202026367,-6.886895179748535,-6.6951823234558105,-22.77115821838379,-8.451894760131836,-6.374881267547607,7.968885898590088,-12.10902214050293,-5.874166965484619,-9.315502166748047,-14.056049346923828,-8.138237953186035,-5.874122619628906,-16.019447326660156,-13.988424301147461,-5.87415075302124,-12.576748847961426,1.631646990776062,-0.1984633505344391,-11.222198486328125,-13.941160202026367,-0.7275341153144836,-19.135488510131836,-16.055416107177734,-13.427215576171875,-12.900070190429688,-21.026092529296875,0.31242215633392334,7.468064308166504,-21.246288299560547,3.9361777305603027,2.4147214889526367,1.6344505548477173,2.264486074447632,23.63721466064453,29.891151428222656,-13.82635498046875,-13.66726016998291,-12.677702903747559,8.116236686706543,-16.070661544799805,-20.12871551513672,-19.85293197631836,-20.493457794189453,-7.304806709289551,-12.605165481567383,-16.6529483795166,0.15744102001190186,-15.090609550476074,-15.384284973144531,-16.00143814086914,3.6184802055358887,-11.068589210510254,-16.027528762817383,-5.036532878875732,3.757262945175171,-6.406859874725342,7.0060882568359375,6.8031535148620605,6.6635003089904785,-5.652310371398926,6.948907852172852,-16.56658172607422,-21.404409408569336,-5.448472499847412,-15.488429069519043,2.9602394104003906,-11.884740829467773,-5.201216220855713,6.630767345428467,29.557161331176758,6.302964210510254,6.586251258850098,4.334185600280762,4.308533191680908,-4.025300979614258,-17.577674865722656,-8.5889892578125,8.81562328338623,5.872330665588379,6.146444797515869,5.25344181060791,4.718366622924805,5.962766170501709,-4.884773254394531,11.866774559020996,12.610014915466309,12.370800971984863,10.600906372070312,9.407361030578613,9.980080604553223,9.670905113220215,-9.072449684143066,2.413137435913086,-15.031771659851074,-19.629579544067383,9.099693298339844,10.757192611694336,9.91081714630127,22.33315658569336,11.637677192687988,6.997340679168701,-5.611521244049072,-24.112241744995117,26.05787467956543,-24.105667114257812,-24.226049423217773,7.271206855773926,-14.348908424377441,8.549836158752441,-13.159797668457031,-20.728124618530273,-16.718063354492188,-4.163713455200195,5.957444190979004,-27.25743293762207,0.35669633746147156,-17.427061080932617,-26.876134872436523,-5.984370231628418,-5.652270317077637,26.597980499267578,27.691347122192383,22.25599479675293,14.033291816711426,27.083038330078125,8.583274841308594,-27.997726440429688,-23.868452072143555,5.593985557556152,-7.628981590270996,22.824256896972656,-24.945627212524414,3.590153932571411,3.173915386199951,-11.26487922668457,22.24323272705078,3.869224786758423,26.166669845581055,8.60659408569336,-3.5653953552246094,25.772794723510742,-22.26656150817871,1.570712685585022,27.53936767578125,-17.48535919189453,14.83362102508545,26.008840560913086,-23.09355926513672,5.51884126663208,5.244838237762451,16.897768020629883,24.23841667175293,23.180301666259766,2.118213415145874,12.22817611694336,1.8079335689544678,2.1774051189422607,-11.762502670288086,3.880586624145508,-10.714162826538086,2.722426652908325,6.232173442840576,6.0594305992126465,5.250887393951416,-21.99839210510254,4.668672561645508,-12.231684684753418,4.823456287384033,5.745087146759033,4.576728820800781,4.646020889282227,5.0729804039001465,5.787813186645508,5.040565490722656,-23.45962905883789,-21.70491600036621,-22.764986038208008,-21.98265266418457,-24.911048889160156,3.20345401763916,4.191729545593262,2.9802041053771973,-27.11329460144043,22.8258056640625,-20.312158584594727,-20.965808868408203,-26.1578426361084,-13.416417121887207,-28.233407974243164,-24.926240921020508,-26.03963279724121,-21.84473991394043,-22.57697868347168,-26.03963279724121,-26.121618270874023,-25.463895797729492,-22.751739501953125,-22.70684814453125,-24.579357147216797,23.94632911682129,-8.387295722961426,-12.392576217651367,-25.43444061279297,-26.166709899902344,-9.303205490112305,-22.71331214904785,-26.162561416625977,-20.820289611816406,-20.111574172973633,-16.528913497924805,-23.264619827270508,-1.419779896736145,-23.544769287109375,-27.521747589111328,3.9343678951263428,-23.849699020385742,-21.978836059570312,-15.320489883422852,0.20689409971237183,-24.505754470825195,-23.53777503967285,-22.99115562438965,20.272687911987305,7.089818954467773,24.021535873413086,24.83203887939453,-26.151683807373047,24.00823974609375,11.29036808013916,-21.361087799072266,-22.32712745666504,24.986400604248047,24.313024520874023,-28.700416564941406,28.021352767944336,33.68040084838867,-14.928160667419434,-10.504862785339355,21.70804214477539,33.877750396728516,-16.62114906311035,-28.419784545898438,6.572619915008545,31.786108016967773,24.98927879333496,32.97234344482422,18.240066528320312,-6.578537464141846,6.189911365509033,1.3546078205108643,3.1174871921539307,25.003570556640625,27.5660400390625,6.681710720062256,-24.391481399536133,-23.1964054107666,16.483444213867188,23.788301467895508,22.118515014648438,16.012170791625977,32.863651275634766,33.42307662963867,33.94932556152344,28.058364868164062,-14.952902793884277,27.755563735961914,-15.693866729736328,-8.083173751831055,26.07788848876953,-2.422680139541626,-6.943541526794434,6.212883472442627,-21.805973052978516,30.252565383911133,26.539674758911133,-21.945438385009766,11.3533353805542,1.6087110042572021,-21.127769470214844,20.756778717041016,17.090600967407227,-15.76017951965332,0.6053263545036316,3.383887529373169,-26.226856231689453,34.83150863647461,-2.8031535148620605,27.270265579223633,-16.680543899536133,26.767677307128906,-14.163445472717285,-7.55738639831543,-15.81195068359375,25.321428298950195,22.443513870239258,-28.430667877197266,27.821298599243164,-17.12759780883789,25.26282501220703,23.022411346435547,29.936994552612305,-7.005277633666992,-14.868278503417969,-21.120126724243164,-10.303387641906738,-22.337671279907227,-16.377666473388672,19.798372268676758,-15.697248458862305,29.257108688354492,0.8302060961723328,16.260910034179688,14.557394027709961,-5.0453925132751465,-12.0587158203125,30.240827560424805,28.883220672607422,29.56338119506836,-7.316632270812988,25.202451705932617,23.90572166442871,-14.158379554748535,-12.807023048400879,-15.11354923248291,-15.197774887084961,1.6425466537475586,24.05781364440918,33.026939392089844,23.635520935058594,-14.358814239501953,-15.945390701293945,-2.9451847076416016,-9.410892486572266,-15.691446304321289,-12.05569839477539,-14.380515098571777,-6.628844738006592,29.47418975830078,-17.66078758239746,23.57540512084961,31.905176162719727,28.479820251464844,26.04755973815918,-7.501023769378662,-6.766699314117432,-6.891978740692139,3.442303419113159,16.07278823852539,24.0548152923584,3.7065412998199463,32.921897888183594,22.83502769470215,14.358977317810059,22.91077423095703,27.474794387817383,-16.67144203186035,18.277164459228516,18.334068298339844,3.0473883152008057,-16.91683578491211,33.07697677612305,-0.5467269420623779,4.516429424285889,23.11887550354004,3.509340524673462,-8.079192161560059,4.1991286277771,28.09490966796875,4.091062068939209,4.916243076324463,2.5737390518188477,2.7893991470336914,5.485546112060547,-7.962381362915039,4.8559064865112305,-7.103488445281982,3.9936041831970215,-17.837493896484375,22.919462203979492,25.101831436157227,27.61250877380371,24.343774795532227,27.12326431274414,3.6246964931488037,4.234657287597656,-19.3286190032959,21.223682403564453,5.088502407073975,23.840984344482422,2.007584571838379,4.762257099151611,28.585020065307617,-15.926275253295898,17.84148406982422,16.76373863220215,-14.060251235961914,2.7723608016967773,23.80377960205078,-1.7701338529586792,-21.860469818115234,-17.579185485839844,17.695735931396484,17.493568420410156,-19.411317825317383,20.74049949645996,-0.25126802921295166,23.814258575439453,-9.068662643432617,21.419897079467773,-28.47467803955078,25.364505767822266,-0.30570465326309204,23.09714126586914,4.221944332122803,20.075166702270508,-13.050320625305176,19.47557258605957,19.387861251831055,23.994598388671875,2.3741567134857178,0.1970604956150055,-1.0603927373886108,-20.712703704833984,25.4373722076416,19.776765823364258,-0.875418484210968,-0.2571087181568146,16.034305572509766,-8.914358139038086,21.478050231933594,25.82794761657715,13.958120346069336,-7.946877479553223,17.865354537963867,-7.607773780822754,26.61655616760254,14.570327758789062,23.044218063354492,20.012348175048828,25.09754753112793,25.066543579101562,18.20309829711914,26.67388153076172,22.313180923461914,-13.464447975158691,-8.195281028747559,20.633440017700195,28.09727668762207,26.296051025390625,16.10023307800293,12.703817367553711,20.082889556884766,-11.457036972045898,-8.033278465270996,26.05424690246582,-18.94440269470215,-14.656343460083008,23.51707649230957,14.894508361816406,-12.248353004455566,22.829479217529297,29.164039611816406,22.129905700683594,19.43269157409668,-16.664674758911133,16.51746368408203,22.00969123840332,0.9134306907653809,22.183073043823242,-6.8568830490112305,17.416358947753906,-11.69197940826416,-13.682267189025879,-7.611269474029541,20.478036880493164,22.695693969726562,2.6616435050964355,17.54671859741211,17.221637725830078,17.658185958862305,-14.424981117248535,16.867307662963867,25.061782836914062,26.519329071044922,27.93311882019043,13.534649848937988,-7.313979625701904,18.525846481323242,-6.714931488037109,30.00527572631836,18.021501541137695,18.152660369873047,28.047353744506836,-10.864831924438477,-8.622309684753418,17.677335739135742,-7.731663703918457,21.539674758911133,-8.000110626220703,-15.625155448913574,-14.668785095214844,19.227672576904297,-19.3286190032959,16.870262145996094,23.997493743896484,22.801637649536133,15.588105201721191,28.196706771850586,26.056743621826172,22.365764617919922,21.286354064941406,10.057697296142578,15.094695091247559,-3.5083353519439697,14.719161987304688,3.2955079078674316,15.269558906555176,24.577245712280273,20.239885330200195,26.58052635192871,-12.647162437438965,8.315183639526367,-0.7834294438362122,19.556520462036133,22.248291015625,19.186559677124023,23.263486862182617,22.820791244506836,25.029470443725586,21.332977294921875,-5.431771278381348,18.98423957824707,-9.005017280578613,24.32448959350586,-5.574976921081543,24.306732177734375,-18.682132720947266,-19.21908950805664,-18.990354537963867,-11.404943466186523,25.749788284301758,-13.992270469665527,-17.704498291015625,3.122330665588379,-12.31102180480957,-7.954997539520264,3.6597676277160645,2.4761881828308105,-11.660844802856445,2.4708142280578613,8.845327377319336,19.751855850219727,18.05763816833496,17.46249008178711,6.45626163482666,4.001354694366455,27.384126663208008,-11.909126281738281,-10.128864288330078,26.87699317932129,-1.5752977132797241,-13.273795127868652,33.662506103515625,-5.427231311798096,20.573213577270508,12.401618003845215,24.9138240814209,-19.143892288208008,-16.725614547729492,-15.436368942260742,28.03180503845215,-20.226314544677734,-15.03002643585205,-13.292093276977539,-5.771872043609619,26.640621185302734,-18.6241397857666,-5.503840446472168,-5.60268497467041,25.262226104736328,-16.14731788635254,-12.697888374328613,-20.5749454498291,-10.1640625,-14.751302719116211,1.8058204650878906,-15.160140037536621,-17.2194881439209,0.6912795901298523,-28.748760223388672,-18.686626434326172,0.8493099212646484,17.203136444091797,24.382871627807617,-18.991973876953125,-16.85228157043457,5.757693290710449,-6.069447994232178,25.807106018066406,8.52428150177002,-18.038223266601562,8.263765335083008,26.454282760620117,25.570497512817383,-15.596659660339355,25.55189323425293,26.681154251098633,-17.33683204650879,-5.692097187042236,27.889936447143555,-12.983272552490234,27.26207733154297,-17.885211944580078,-5.238429546356201,24.91758155822754,30.041366577148438,-11.927833557128906,13.146080017089844,-2.8939085006713867,27.415395736694336,-15.400720596313477,-17.44585418701172,27.385684967041016,-7.508618354797363,15.856773376464844,-13.20726490020752,-14.895275115966797,-18.35350227355957,-16.908132553100586,-13.130186080932617,-10.385583877563477,-19.23024559020996,-19.3286190032959,11.355900764465332,2.7944648265838623,21.799293518066406,26.02289390563965,28.685083389282227,26.858604431152344,7.856115818023682,27.689022064208984,-7.523211479187012,-17.235647201538086,-9.394649505615234,28.564603805541992,22.18143653869629,27.693374633789062,6.985276222229004,-17.43931770324707,28.388591766357422,-14.807945251464844,29.47481346130371,29.29857635498047,-21.191364288330078,-1.5007634162902832,-19.3286190032959,27.700439453125,-3.848104476928711,12.228151321411133,9.405867576599121,-11.694175720214844,-13.40650749206543,-12.24130916595459,7.255107879638672,-17.837493896484375,-18.875656127929688,-27.836925506591797,-1.8980767726898193,-7.063604831695557,-13.025120735168457,6.879941463470459,-11.702713012695312,-11.292153358459473,-12.35151195526123,-5.238429546356201,-6.534090995788574,-5.487624645233154,-3.73132061958313,-15.677876472473145,5.723117351531982,-2.7008166313171387,29.04636573791504,29.69053840637207,25.091529846191406,-7.48064661026001,-28.905319213867188,-28.779483795166016,-24.292879104614258,4.45613431930542,-25.509790420532227,3.959590435028076,-23.228471755981445,-19.965023040771484],\"xaxis\":\"x\",\"y\":[-10.835074424743652,-17.88914680480957,-1.9490246772766113,-0.21199825406074524,14.050371170043945,-3.4527220726013184,-10.102797508239746,-5.388707160949707,2.3204145431518555,-10.958230972290039,-2.244291067123413,4.189974308013916,7.623230457305908,-10.478100776672363,-9.754922866821289,-9.951125144958496,-15.11758041381836,-9.324549674987793,11.398548126220703,3.0870139598846436,18.950443267822266,5.912261486053467,11.373819351196289,7.512552261352539,-10.25008487701416,5.379653453826904,4.621267318725586,-10.606220245361328,-8.568753242492676,6.694467067718506,2.9948065280914307,-0.0713796317577362,2.5441677570343018,5.845592021942139,10.30042839050293,6.892813682556152,-16.328502655029297,2.1964666843414307,-16.325294494628906,-19.39967155456543,0.22947967052459717,11.500669479370117,-10.855096817016602,-11.72684097290039,-9.274606704711914,-2.3327925205230713,-11.569206237792969,-17.897438049316406,-16.308748245239258,-18.634492874145508,-11.569276809692383,3.4393768310546875,-16.32118797302246,-11.569351196289062,2.0662713050842285,6.013329029083252,2.7794649600982666,8.042765617370605,-16.325294494628906,3.249485492706299,-6.148026466369629,3.3962607383728027,-0.41679924726486206,0.9321591854095459,-7.419305324554443,21.153345108032227,-24.631654739379883,-7.445823669433594,-8.47607421875,4.949956893920898,4.731609344482422,5.056407928466797,-15.543245315551758,-11.77945613861084,-0.7617733478546143,-1.5328503847122192,-0.32802215218544006,-9.46982192993164,1.4687985181808472,-7.838124752044678,-7.97820520401001,-7.629335403442383,-17.605751037597656,0.4848240315914154,4.609834671020508,21.115510940551758,2.7449533939361572,1.8199522495269775,1.4028701782226562,-0.4374547004699707,-3.628631830215454,2.834082841873169,-12.095078468322754,-3.752018928527832,20.660476684570312,-14.848835945129395,0.8088789582252502,0.564285159111023,20.617582321166992,3.2116775512695312,4.591791152954102,17.865869522094727,22.955778121948242,15.705429077148438,25.210264205932617,6.196013927459717,3.5147926807403564,0.5914750695228577,-23.19973373413086,3.315971612930298,3.3171095848083496,0.7224726676940918,0.7054805159568787,-0.35537511110305786,-7.227129936218262,-14.579322814941406,-10.132100105285645,7.941368579864502,8.931808471679688,7.746131896972656,8.679503440856934,8.680116653442383,6.6989216804504395,-11.052570343017578,1.6353267431259155,1.6092066764831543,-2.139780282974243,-1.7300664186477661,-2.1413896083831787,-1.895829200744629,9.216529846191406,5.889782905578613,10.762636184692383,1.9177699089050293,-2.521444320678711,-1.6536383628845215,-1.7728713750839233,4.614971160888672,-2.296414375305176,0.03587721660733223,-4.967836856842041,-2.6016290187835693,-0.7091721892356873,-3.273202896118164,-3.1414589881896973,-2.2003989219665527,35.42451477050781,-6.109716415405273,34.689205169677734,36.778839111328125,29.652469635009766,0.2993806004524231,-18.993566513061523,6.6692118644714355,1.413336157798767,35.17582321166992,4.908717632293701,20.041423797607422,20.61750030517578,-11.094520568847656,-11.272204399108887,-1.263672113418579,1.735068678855896,-3.3874237537384033,-6.114051342010498,3.2537522315979004,4.86269998550415,-25.035982131958008,10.181502342224121,3.866671562194824,-2.5747621059417725,-21.789953231811523,-22.90206527709961,39.0354118347168,-13.022677421569824,-22.49399185180664,-14.439948081970215,-6.038630962371826,-12.249676704406738,-11.951562881469727,4.258196830749512,-20.00055503845215,-8.093178749084473,32.66423797607422,-20.157190322875977,-14.542928695678711,11.125090599060059,-23.925378799438477,-20.42310333251953,-13.047731399536133,-0.3604504466056824,-15.216791152954102,-18.39655303955078,-16.490724563598633,-19.425878524780273,-18.353578567504883,33.600215911865234,-18.946908950805664,36.43397903442383,-18.66659164428711,-21.676523208618164,-22.615009307861328,-23.213932037353516,10.430183410644531,-22.661479949951172,32.42652130126953,-21.504802703857422,-22.65812873840332,-21.023109436035156,-23.258846282958984,-21.923879623413086,-23.343236923217773,-22.7493953704834,12.632604598999023,11.615006446838379,10.231335639953613,1.1656265258789062,6.222177505493164,-19.600711822509766,-21.3983154296875,-19.424640655517578,8.772623062133789,-5.493943691253662,3.400452136993408,5.92222785949707,4.154362678527832,33.12381362915039,5.449452877044678,4.370249271392822,4.4201812744140625,4.892343521118164,12.526325225830078,4.4201812744140625,4.953426361083984,7.512552261352539,5.492911338806152,4.274074077606201,3.265732765197754,-21.39214515686035,10.763376235961914,1.0655797719955444,0.2828982174396515,4.155529022216797,34.64909362792969,1.1127675771713257,4.154514789581299,31.014493942260742,4.102260589599609,33.62881088256836,6.748139381408691,-0.8678924441337585,5.8617658615112305,4.086584091186523,-23.88732147216797,5.263641357421875,6.892813682556152,32.45844650268555,11.718585968017578,1.7570809125900269,4.115020275115967,12.531280517578125,-8.605949401855469,-24.369064331054688,-16.529632568359375,-5.408029079437256,6.148714542388916,-16.637876510620117,-16.743135452270508,2.970439910888672,3.4919004440307617,-20.37925910949707,-2.157693862915039,-4.2699151039123535,-14.540803909301758,-20.811796188354492,11.475007057189941,17.32221794128418,-7.464617729187012,-20.424617767333984,35.402732849121094,-3.1627089977264404,-21.445268630981445,-20.439311981201172,-11.077859878540039,-20.111846923828125,-8.320503234863281,10.144071578979492,-20.4603271484375,-0.7802373170852661,-4.920698642730713,-6.925724029541016,-13.51962661743164,-23.084383010864258,6.87583589553833,4.604483604431152,-5.5510029792785645,-1.001891016960144,-1.9122120141983032,-8.572911262512207,-20.07090950012207,-20.07575035095215,-19.881351470947266,-15.479462623596191,-2.297003984451294,-19.600488662719727,34.631832122802734,5.16194486618042,-2.121135711669922,7.642673492431641,-8.222391128540039,23.486520767211914,10.705373764038086,-21.95780372619629,-1.5167728662490845,17.71508026123047,-16.72384262084961,-19.542518615722656,-2.9906375408172607,-12.663508415222168,-5.886977672576904,36.19303512573242,18.587244033813477,-18.032140731811523,2.087536573410034,-10.443184852600098,7.670657157897949,-20.984752655029297,16.047468185424805,-6.5392537117004395,29.771469116210938,-19.497453689575195,34.14842224121094,-2.964818239212036,1.2120102643966675,-3.4704771041870117,-17.43743324279785,34.42829895019531,-9.542019844055176,-20.111574172973633,-20.381790161132812,20.732921600341797,-18.166147232055664,-3.0115859508514404,32.695343017578125,17.51332664489746,36.601192474365234,-18.733484268188477,8.982580184936523,-17.939163208007812,-16.093952178955078,-5.978790760040283,-6.2809648513793945,4.24166202545166,7.382221698760986,-11.963017463684082,-4.1859612464904785,-3.4469897747039795,6.79614782333374,-17.93581199645996,-10.961108207702637,40.010719299316406,38.63964080810547,39.97669219970703,32.907711029052734,19.15781021118164,-14.018007278442383,-16.917238235473633,-15.608574867248535,34.21034622192383,15.741106986999512,-12.374807357788086,-18.251544952392578,34.97439193725586,31.044963836669922,30.497350692749023,0.7647026777267456,-4.84602689743042,-7.1784987449646,-15.55163288116455,-17.046083450317383,-9.761635780334473,-10.292573928833008,15.879114151000977,-14.72746753692627,-8.071503639221191,22.868112564086914,-10.042679786682129,-5.2395758628845215,20.59187889099121,-17.299026489257812,0.9705321788787842,-9.68455696105957,-7.112471103668213,-0.0035009686835110188,14.596287727355957,-6.147105693817139,-10.232393264770508,23.199352264404297,14.24240493774414,-17.833608627319336,-8.339056015014648,21.901647567749023,-12.068224906921387,22.327682495117188,10.532721519470215,23.619400024414062,-13.881032943725586,22.78799057006836,23.882713317871094,22.168514251708984,21.784912109375,21.900794982910156,-16.6409912109375,22.412578582763672,10.284063339233398,24.232135772705078,34.35829162597656,-4.865868091583252,-3.5105977058410645,-5.723543643951416,2.172974109649658,-18.43448829650879,21.814592361450195,22.3577938079834,32.00559616088867,-4.804380893707275,21.13775062561035,-8.271980285644531,22.98090171813965,22.999401092529297,-21.11993408203125,32.771385192871094,2.483065605163574,-12.213272094726562,31.958654403686523,21.272672653198242,-20.271543502807617,10.305538177490234,17.788843154907227,31.35862922668457,1.2166736125946045,-6.717577934265137,34.18964385986328,-3.4210422039031982,6.477379322052002,-3.105832815170288,-18.42397117614746,-4.341307640075684,2.2174930572509766,-13.10515022277832,-8.122451782226562,-11.584676742553711,21.889970779418945,-11.077160835266113,-2.5051944255828857,-0.7948068380355835,-4.652954578399658,-4.209226131439209,-3.9851832389831543,11.7028226852417,5.463839054107666,34.76371383666992,-12.918428421020508,-6.452211856842041,-7.837586879730225,-8.685038566589355,-7.232317924499512,-17.430753707885742,-7.226745128631592,-15.93619441986084,-13.090760231018066,2.528277635574341,2.6023294925689697,-15.717982292175293,-9.279526710510254,-12.424063682556152,2.917027235031128,-1.6516293287277222,-1.3690595626831055,-6.113953113555908,-9.689587593078613,-2.1690728664398193,-12.675470352172852,6.029689311981201,-18.9166316986084,-3.2368295192718506,-19.328577041625977,-16.22451400756836,-1.6809847354888916,-10.807198524475098,-3.2841382026672363,-1.741219162940979,-19.640239715576172,-4.336847305297852,28.29058837890625,33.64398193359375,-9.629688262939453,-8.32002067565918,-0.7063217163085938,-3.9553258419036865,-18.17755889892578,-3.292365789413452,-9.350890159606934,31.864959716796875,-4.369532108306885,-10.990516662597656,20.096174240112305,-5.247601509094238,-18.374637603759766,-7.6049723625183105,1.068579077720642,0.23563703894615173,-18.67877960205078,4.118422508239746,-8.657084465026855,-4.613671779632568,-3.052854061126709,-9.182307243347168,-8.311827659606934,-0.1491870880126953,-6.947420597076416,-12.37386417388916,-15.993133544921875,-2.5769076347351074,-8.056013107299805,-15.897506713867188,-6.714450359344482,-16.937423706054688,-15.535126686096191,-14.839811325073242,-14.797677040100098,-1.2688668966293335,-0.3870919644832611,-19.47109603881836,-10.86300277709961,-18.976829528808594,-6.259006500244141,-17.8430118560791,9.123204231262207,34.41856002807617,-7.86046028137207,32.00559616088867,-8.11626148223877,-6.310049533843994,-10.046551704406738,-5.897529602050781,-3.7931501865386963,-5.246148586273193,-7.789319038391113,-11.903196334838867,-12.450847625732422,-4.892730236053467,10.645995140075684,-8.23742961883545,9.447608947753906,-19.896989822387695,-10.234289169311523,-5.299360275268555,-3.233175039291382,-1.45356285572052,-15.124473571777344,-7.9492011070251465,-11.808831214904785,-6.521652698516846,-3.4109835624694824,-10.806108474731445,-18.233938217163086,-4.820436477661133,-16.7768611907959,8.609920501708984,-11.098124504089355,9.58564567565918,-5.28673791885376,9.433324813842773,-12.05609130859375,-5.551474571228027,35.711395263671875,29.916854858398438,-0.551676869392395,-7.757391929626465,36.142578125,-2.3733885288238525,9.539955139160156,36.05235290527344,-0.29203903675079346,-6.69433069229126,-4.314401626586914,-1.0836347341537476,-4.725029945373535,1.036080002784729,-18.68450164794922,-17.243850708007812,-17.081052780151367,7.11480712890625,-14.824932098388672,-24.6583194732666,-0.5739914178848267,17.862468719482422,-20.377580642700195,3.6683332920074463,37.24953842163086,-13.48129653930664,-5.610182762145996,-13.955909729003906,5.907108783721924,-21.00625228881836,31.7394962310791,38.073890686035156,37.37125015258789,-15.657205581665039,12.428050994873047,10.186161994934082,38.10262680053711,-4.948014259338379,-17.787933349609375,33.12263870239258,-0.611911416053772,-10.467308044433594,-23.714191436767578,37.78529357910156,-1.4818590879440308,33.206153869628906,36.150508880615234,36.253868103027344,19.02404022216797,16.610502243041992,33.234901428222656,20.9749813079834,-5.079855918884277,34.49138259887695,21.48725700378418,3.665529489517212,-20.814516067504883,38.313392639160156,34.72287368774414,24.106611251831055,18.121055603027344,0.62721848487854,-15.251733779907227,35.68327713012695,-15.108122825622559,-21.326322555541992,-6.099300861358643,31.202617645263672,-22.28182029724121,-22.380355834960938,36.34873962402344,-5.194761276245117,-21.405811309814453,10.428864479064941,-23.66100311279297,37.807167053222656,5.906573295593262,-10.631819725036621,-17.79062271118164,9.00292682647705,1.7039403915405273,-16.499004364013672,-25.25897979736328,-0.5168777108192444,13.56270694732666,-21.875774383544922,16.976673126220703,-10.603803634643555,1.8957350254058838,-2.2240407466888428,33.75279998779297,30.08884048461914,39.17070770263672,34.544349670410156,37.43577194213867,32.00559616088867,-11.347929000854492,-3.3418314456939697,2.6930782794952393,-23.202634811401367,-22.764720916748047,-22.990877151489258,-7.687438011169434,-17.077016830444336,20.6551513671875,39.22321319580078,35.97076416015625,-20.118066787719727,-15.177783012390137,1.869415283203125,21.645761489868164,37.04353332519531,-22.028127670288086,37.21989822387695,-8.039290428161621,-16.87114143371582,34.97291946411133,7.989236831665039,32.00559616088867,-22.64917755126953,3.6829452514648438,5.901893138885498,14.052481651306152,36.70796585083008,33.509925842285156,37.98521041870117,-14.903231620788574,34.35829162597656,36.72038650512695,9.711267471313477,-3.155240058898926,6.151856899261475,6.183743953704834,-14.705024719238281,35.32329177856445,30.114702224731445,38.167999267578125,5.906573295593262,7.651035308837891,4.301537036895752,8.124385833740234,16.693225860595703,23.293169021606445,-1.1244111061096191,-1.675649642944336,-4.91527795791626,-8.689200401306152,16.138843536376953,-3.382817029953003,-3.332987070083618,3.9217960834503174,-10.778571128845215,-2.666074514389038,-10.503949165344238,3.1159508228302,3.9858694076538086],\"yaxis\":\"y\",\"type\":\"scatter\",\"textfont\":{\"size\":6},\"textposition\":\"top center\"}],                        {\"template\":{\"data\":{\"histogram2dcontour\":[{\"type\":\"histogram2dcontour\",\"colorbar\":{\"outlinewidth\":0,\"ticks\":\"\"},\"colorscale\":[[0.0,\"#0d0887\"],[0.1111111111111111,\"#46039f\"],[0.2222222222222222,\"#7201a8\"],[0.3333333333333333,\"#9c179e\"],[0.4444444444444444,\"#bd3786\"],[0.5555555555555556,\"#d8576b\"],[0.6666666666666666,\"#ed7953\"],[0.7777777777777778,\"#fb9f3a\"],[0.8888888888888888,\"#fdca26\"],[1.0,\"#f0f921\"]]}],\"choropleth\":[{\"type\":\"choropleth\",\"colorbar\":{\"outlinewidth\":0,\"ticks\":\"\"}}],\"histogram2d\":[{\"type\":\"histogram2d\",\"colorbar\":{\"outlinewidth\":0,\"ticks\":\"\"},\"colorscale\":[[0.0,\"#0d0887\"],[0.1111111111111111,\"#46039f\"],[0.2222222222222222,\"#7201a8\"],[0.3333333333333333,\"#9c179e\"],[0.4444444444444444,\"#bd3786\"],[0.5555555555555556,\"#d8576b\"],[0.6666666666666666,\"#ed7953\"],[0.7777777777777778,\"#fb9f3a\"],[0.8888888888888888,\"#fdca26\"],[1.0,\"#f0f921\"]]}],\"heatmap\":[{\"type\":\"heatmap\",\"colorbar\":{\"outlinewidth\":0,\"ticks\":\"\"},\"colorscale\":[[0.0,\"#0d0887\"],[0.1111111111111111,\"#46039f\"],[0.2222222222222222,\"#7201a8\"],[0.3333333333333333,\"#9c179e\"],[0.4444444444444444,\"#bd3786\"],[0.5555555555555556,\"#d8576b\"],[0.6666666666666666,\"#ed7953\"],[0.7777777777777778,\"#fb9f3a\"],[0.8888888888888888,\"#fdca26\"],[1.0,\"#f0f921\"]]}],\"heatmapgl\":[{\"type\":\"heatmapgl\",\"colorbar\":{\"outlinewidth\":0,\"ticks\":\"\"},\"colorscale\":[[0.0,\"#0d0887\"],[0.1111111111111111,\"#46039f\"],[0.2222222222222222,\"#7201a8\"],[0.3333333333333333,\"#9c179e\"],[0.4444444444444444,\"#bd3786\"],[0.5555555555555556,\"#d8576b\"],[0.6666666666666666,\"#ed7953\"],[0.7777777777777778,\"#fb9f3a\"],[0.8888888888888888,\"#fdca26\"],[1.0,\"#f0f921\"]]}],\"contourcarpet\":[{\"type\":\"contourcarpet\",\"colorbar\":{\"outlinewidth\":0,\"ticks\":\"\"}}],\"contour\":[{\"type\":\"contour\",\"colorbar\":{\"outlinewidth\":0,\"ticks\":\"\"},\"colorscale\":[[0.0,\"#0d0887\"],[0.1111111111111111,\"#46039f\"],[0.2222222222222222,\"#7201a8\"],[0.3333333333333333,\"#9c179e\"],[0.4444444444444444,\"#bd3786\"],[0.5555555555555556,\"#d8576b\"],[0.6666666666666666,\"#ed7953\"],[0.7777777777777778,\"#fb9f3a\"],[0.8888888888888888,\"#fdca26\"],[1.0,\"#f0f921\"]]}],\"surface\":[{\"type\":\"surface\",\"colorbar\":{\"outlinewidth\":0,\"ticks\":\"\"},\"colorscale\":[[0.0,\"#0d0887\"],[0.1111111111111111,\"#46039f\"],[0.2222222222222222,\"#7201a8\"],[0.3333333333333333,\"#9c179e\"],[0.4444444444444444,\"#bd3786\"],[0.5555555555555556,\"#d8576b\"],[0.6666666666666666,\"#ed7953\"],[0.7777777777777778,\"#fb9f3a\"],[0.8888888888888888,\"#fdca26\"],[1.0,\"#f0f921\"]]}],\"mesh3d\":[{\"type\":\"mesh3d\",\"colorbar\":{\"outlinewidth\":0,\"ticks\":\"\"}}],\"scatter\":[{\"fillpattern\":{\"fillmode\":\"overlay\",\"size\":10,\"solidity\":0.2},\"type\":\"scatter\"}],\"parcoords\":[{\"type\":\"parcoords\",\"line\":{\"colorbar\":{\"outlinewidth\":0,\"ticks\":\"\"}}}],\"scatterpolargl\":[{\"type\":\"scatterpolargl\",\"marker\":{\"colorbar\":{\"outlinewidth\":0,\"ticks\":\"\"}}}],\"bar\":[{\"error_x\":{\"color\":\"#2a3f5f\"},\"error_y\":{\"color\":\"#2a3f5f\"},\"marker\":{\"line\":{\"color\":\"#E5ECF6\",\"width\":0.5},\"pattern\":{\"fillmode\":\"overlay\",\"size\":10,\"solidity\":0.2}},\"type\":\"bar\"}],\"scattergeo\":[{\"type\":\"scattergeo\",\"marker\":{\"colorbar\":{\"outlinewidth\":0,\"ticks\":\"\"}}}],\"scatterpolar\":[{\"type\":\"scatterpolar\",\"marker\":{\"colorbar\":{\"outlinewidth\":0,\"ticks\":\"\"}}}],\"histogram\":[{\"marker\":{\"pattern\":{\"fillmode\":\"overlay\",\"size\":10,\"solidity\":0.2}},\"type\":\"histogram\"}],\"scattergl\":[{\"type\":\"scattergl\",\"marker\":{\"colorbar\":{\"outlinewidth\":0,\"ticks\":\"\"}}}],\"scatter3d\":[{\"type\":\"scatter3d\",\"line\":{\"colorbar\":{\"outlinewidth\":0,\"ticks\":\"\"}},\"marker\":{\"colorbar\":{\"outlinewidth\":0,\"ticks\":\"\"}}}],\"scattermapbox\":[{\"type\":\"scattermapbox\",\"marker\":{\"colorbar\":{\"outlinewidth\":0,\"ticks\":\"\"}}}],\"scatterternary\":[{\"type\":\"scatterternary\",\"marker\":{\"colorbar\":{\"outlinewidth\":0,\"ticks\":\"\"}}}],\"scattercarpet\":[{\"type\":\"scattercarpet\",\"marker\":{\"colorbar\":{\"outlinewidth\":0,\"ticks\":\"\"}}}],\"carpet\":[{\"aaxis\":{\"endlinecolor\":\"#2a3f5f\",\"gridcolor\":\"white\",\"linecolor\":\"white\",\"minorgridcolor\":\"white\",\"startlinecolor\":\"#2a3f5f\"},\"baxis\":{\"endlinecolor\":\"#2a3f5f\",\"gridcolor\":\"white\",\"linecolor\":\"white\",\"minorgridcolor\":\"white\",\"startlinecolor\":\"#2a3f5f\"},\"type\":\"carpet\"}],\"table\":[{\"cells\":{\"fill\":{\"color\":\"#EBF0F8\"},\"line\":{\"color\":\"white\"}},\"header\":{\"fill\":{\"color\":\"#C8D4E3\"},\"line\":{\"color\":\"white\"}},\"type\":\"table\"}],\"barpolar\":[{\"marker\":{\"line\":{\"color\":\"#E5ECF6\",\"width\":0.5},\"pattern\":{\"fillmode\":\"overlay\",\"size\":10,\"solidity\":0.2}},\"type\":\"barpolar\"}],\"pie\":[{\"automargin\":true,\"type\":\"pie\"}]},\"layout\":{\"autotypenumbers\":\"strict\",\"colorway\":[\"#636efa\",\"#EF553B\",\"#00cc96\",\"#ab63fa\",\"#FFA15A\",\"#19d3f3\",\"#FF6692\",\"#B6E880\",\"#FF97FF\",\"#FECB52\"],\"font\":{\"color\":\"#2a3f5f\"},\"hovermode\":\"closest\",\"hoverlabel\":{\"align\":\"left\"},\"paper_bgcolor\":\"white\",\"plot_bgcolor\":\"#E5ECF6\",\"polar\":{\"bgcolor\":\"#E5ECF6\",\"angularaxis\":{\"gridcolor\":\"white\",\"linecolor\":\"white\",\"ticks\":\"\"},\"radialaxis\":{\"gridcolor\":\"white\",\"linecolor\":\"white\",\"ticks\":\"\"}},\"ternary\":{\"bgcolor\":\"#E5ECF6\",\"aaxis\":{\"gridcolor\":\"white\",\"linecolor\":\"white\",\"ticks\":\"\"},\"baxis\":{\"gridcolor\":\"white\",\"linecolor\":\"white\",\"ticks\":\"\"},\"caxis\":{\"gridcolor\":\"white\",\"linecolor\":\"white\",\"ticks\":\"\"}},\"coloraxis\":{\"colorbar\":{\"outlinewidth\":0,\"ticks\":\"\"}},\"colorscale\":{\"sequential\":[[0.0,\"#0d0887\"],[0.1111111111111111,\"#46039f\"],[0.2222222222222222,\"#7201a8\"],[0.3333333333333333,\"#9c179e\"],[0.4444444444444444,\"#bd3786\"],[0.5555555555555556,\"#d8576b\"],[0.6666666666666666,\"#ed7953\"],[0.7777777777777778,\"#fb9f3a\"],[0.8888888888888888,\"#fdca26\"],[1.0,\"#f0f921\"]],\"sequentialminus\":[[0.0,\"#0d0887\"],[0.1111111111111111,\"#46039f\"],[0.2222222222222222,\"#7201a8\"],[0.3333333333333333,\"#9c179e\"],[0.4444444444444444,\"#bd3786\"],[0.5555555555555556,\"#d8576b\"],[0.6666666666666666,\"#ed7953\"],[0.7777777777777778,\"#fb9f3a\"],[0.8888888888888888,\"#fdca26\"],[1.0,\"#f0f921\"]],\"diverging\":[[0,\"#8e0152\"],[0.1,\"#c51b7d\"],[0.2,\"#de77ae\"],[0.3,\"#f1b6da\"],[0.4,\"#fde0ef\"],[0.5,\"#f7f7f7\"],[0.6,\"#e6f5d0\"],[0.7,\"#b8e186\"],[0.8,\"#7fbc41\"],[0.9,\"#4d9221\"],[1,\"#276419\"]]},\"xaxis\":{\"gridcolor\":\"white\",\"linecolor\":\"white\",\"ticks\":\"\",\"title\":{\"standoff\":15},\"zerolinecolor\":\"white\",\"automargin\":true,\"zerolinewidth\":2},\"yaxis\":{\"gridcolor\":\"white\",\"linecolor\":\"white\",\"ticks\":\"\",\"title\":{\"standoff\":15},\"zerolinecolor\":\"white\",\"automargin\":true,\"zerolinewidth\":2},\"scene\":{\"xaxis\":{\"backgroundcolor\":\"#E5ECF6\",\"gridcolor\":\"white\",\"linecolor\":\"white\",\"showbackground\":true,\"ticks\":\"\",\"zerolinecolor\":\"white\",\"gridwidth\":2},\"yaxis\":{\"backgroundcolor\":\"#E5ECF6\",\"gridcolor\":\"white\",\"linecolor\":\"white\",\"showbackground\":true,\"ticks\":\"\",\"zerolinecolor\":\"white\",\"gridwidth\":2},\"zaxis\":{\"backgroundcolor\":\"#E5ECF6\",\"gridcolor\":\"white\",\"linecolor\":\"white\",\"showbackground\":true,\"ticks\":\"\",\"zerolinecolor\":\"white\",\"gridwidth\":2}},\"shapedefaults\":{\"line\":{\"color\":\"#2a3f5f\"}},\"annotationdefaults\":{\"arrowcolor\":\"#2a3f5f\",\"arrowhead\":0,\"arrowwidth\":1},\"geo\":{\"bgcolor\":\"white\",\"landcolor\":\"#E5ECF6\",\"subunitcolor\":\"white\",\"showland\":true,\"showlakes\":true,\"lakecolor\":\"white\"},\"title\":{\"x\":0.05},\"mapbox\":{\"style\":\"light\"}}},\"xaxis\":{\"anchor\":\"y\",\"domain\":[0.0,1.0],\"title\":{\"text\":\"tsne_1\"}},\"yaxis\":{\"anchor\":\"x\",\"domain\":[0.0,1.0],\"title\":{\"text\":\"tsne_2\"}},\"coloraxis\":{\"colorbar\":{\"title\":{\"text\":\"cluster\"}},\"colorscale\":[[0.0,\"#0d0887\"],[0.1111111111111111,\"#46039f\"],[0.2222222222222222,\"#7201a8\"],[0.3333333333333333,\"#9c179e\"],[0.4444444444444444,\"#bd3786\"],[0.5555555555555556,\"#d8576b\"],[0.6666666666666666,\"#ed7953\"],[0.7777777777777778,\"#fb9f3a\"],[0.8888888888888888,\"#fdca26\"],[1.0,\"#f0f921\"]]},\"legend\":{\"tracegroupgap\":0},\"margin\":{\"t\":60},\"title\":{\"text\":\"Embeddings of TikTok Video Descriptions\"}},                        {\"responsive\": true}                    ).then(function(){\n",
       "                            \n",
       "var gd = document.getElementById('ecf8cc3e-46c1-4eee-9fb7-8524736d350f');\n",
       "var x = new MutationObserver(function (mutations, observer) {{\n",
       "        var display = window.getComputedStyle(gd).display;\n",
       "        if (!display || display === 'none') {{\n",
       "            console.log([gd, 'removed!']);\n",
       "            Plotly.purge(gd);\n",
       "            observer.disconnect();\n",
       "        }}\n",
       "}});\n",
       "\n",
       "// Listen for the removal of the full notebook cells\n",
       "var notebookContainer = gd.closest('#notebook-container');\n",
       "if (notebookContainer) {{\n",
       "    x.observe(notebookContainer, {childList: true});\n",
       "}}\n",
       "\n",
       "// Listen for the clearing of the current output cell\n",
       "var outputEl = gd.closest('.output');\n",
       "if (outputEl) {{\n",
       "    x.observe(outputEl, {childList: true});\n",
       "}}\n",
       "\n",
       "                        })                };                });            </script>        </div>"
      ]
     },
     "metadata": {},
     "output_type": "display_data"
    }
   ],
   "source": [
    "# import plotly.express as px\n",
    "\n",
    "# Create the scatter plot\n",
    "fig = px.scatter(df2, x='tsne_1', y='tsne_2', hover_data='description', color=\"cluster\")\n",
    "\n",
    "# Format what to show next to the markers\n",
    "fig.update_traces(textposition='top center', \n",
    "                  mode='markers+text', \n",
    "                  textfont=dict(size=6))\n",
    "\n",
    "fig.update_layout(title='Embeddings of TikTok Video Descriptions')\n",
    "fig.show()\n",
    "\n",
    "\n",
    "\n",
    "\n"
   ]
  },
  {
   "cell_type": "code",
   "execution_count": 93,
   "id": "5f95557f",
   "metadata": {},
   "outputs": [],
   "source": [
    "df = df.reset_index(drop=True)\n",
    "df2['cosine']=df['cos_score']"
   ]
  },
  {
   "cell_type": "code",
   "execution_count": 94,
   "id": "a6dd498a",
   "metadata": {},
   "outputs": [
    {
     "data": {
      "text/html": [
       "<div>\n",
       "<style scoped>\n",
       "    .dataframe tbody tr th:only-of-type {\n",
       "        vertical-align: middle;\n",
       "    }\n",
       "\n",
       "    .dataframe tbody tr th {\n",
       "        vertical-align: top;\n",
       "    }\n",
       "\n",
       "    .dataframe thead th {\n",
       "        text-align: right;\n",
       "    }\n",
       "</style>\n",
       "<table border=\"1\" class=\"dataframe\">\n",
       "  <thead>\n",
       "    <tr style=\"text-align: right;\">\n",
       "      <th></th>\n",
       "      <th>tsne_1</th>\n",
       "      <th>tsne_2</th>\n",
       "      <th>description</th>\n",
       "      <th>cluster</th>\n",
       "      <th>cosine</th>\n",
       "    </tr>\n",
       "  </thead>\n",
       "  <tbody>\n",
       "    <tr>\n",
       "      <th>0</th>\n",
       "      <td>3.782550</td>\n",
       "      <td>-10.835074</td>\n",
       "      <td>things ex staff said about kpop idols pt k pop...</td>\n",
       "      <td>0</td>\n",
       "      <td>0.553455</td>\n",
       "    </tr>\n",
       "    <tr>\n",
       "      <th>1</th>\n",
       "      <td>-14.726149</td>\n",
       "      <td>-17.889147</td>\n",
       "      <td>part hand over all your movie film series show...</td>\n",
       "      <td>0</td>\n",
       "      <td>0.604250</td>\n",
       "    </tr>\n",
       "    <tr>\n",
       "      <th>2</th>\n",
       "      <td>-24.326784</td>\n",
       "      <td>-1.949025</td>\n",
       "      <td>have an urmo christmas</td>\n",
       "      <td>5</td>\n",
       "      <td>0.600661</td>\n",
       "    </tr>\n",
       "    <tr>\n",
       "      <th>3</th>\n",
       "      <td>-20.365002</td>\n",
       "      <td>-0.211998</td>\n",
       "      <td>nwrd chicken</td>\n",
       "      <td>3</td>\n",
       "      <td>0.565047</td>\n",
       "    </tr>\n",
       "    <tr>\n",
       "      <th>4</th>\n",
       "      <td>9.418864</td>\n",
       "      <td>14.050371</td>\n",
       "      <td>the thailand tsunami resulted from a magnitude...</td>\n",
       "      <td>0</td>\n",
       "      <td>0.601743</td>\n",
       "    </tr>\n",
       "    <tr>\n",
       "      <th>...</th>\n",
       "      <td>...</td>\n",
       "      <td>...</td>\n",
       "      <td>...</td>\n",
       "      <td>...</td>\n",
       "      <td>...</td>\n",
       "    </tr>\n",
       "    <tr>\n",
       "      <th>727</th>\n",
       "      <td>4.456134</td>\n",
       "      <td>-10.778571</td>\n",
       "      <td>spanish king the boyz tbz kpop k pop fy p eric</td>\n",
       "      <td>0</td>\n",
       "      <td>0.570069</td>\n",
       "    </tr>\n",
       "    <tr>\n",
       "      <th>728</th>\n",
       "      <td>-25.509790</td>\n",
       "      <td>-2.666075</td>\n",
       "      <td>these olaplex holiday kits are my favorite gif...</td>\n",
       "      <td>5</td>\n",
       "      <td>0.644740</td>\n",
       "    </tr>\n",
       "    <tr>\n",
       "      <th>729</th>\n",
       "      <td>3.959590</td>\n",
       "      <td>-10.503949</td>\n",
       "      <td>just taemin casually taking foot long steps ta...</td>\n",
       "      <td>0</td>\n",
       "      <td>0.581785</td>\n",
       "    </tr>\n",
       "    <tr>\n",
       "      <th>730</th>\n",
       "      <td>-23.228472</td>\n",
       "      <td>3.115951</td>\n",
       "      <td>best mexican thanksgiving turkey thanksgiving ...</td>\n",
       "      <td>5</td>\n",
       "      <td>0.645523</td>\n",
       "    </tr>\n",
       "    <tr>\n",
       "      <th>731</th>\n",
       "      <td>-19.965023</td>\n",
       "      <td>3.985869</td>\n",
       "      <td>pumpkin pie pumpkin pie thanksgiving plates fr...</td>\n",
       "      <td>5</td>\n",
       "      <td>0.685900</td>\n",
       "    </tr>\n",
       "  </tbody>\n",
       "</table>\n",
       "<p>732 rows × 5 columns</p>\n",
       "</div>"
      ],
      "text/plain": [
       "        tsne_1     tsne_2                                        description  \\\n",
       "0     3.782550 -10.835074  things ex staff said about kpop idols pt k pop...   \n",
       "1   -14.726149 -17.889147  part hand over all your movie film series show...   \n",
       "2   -24.326784  -1.949025                             have an urmo christmas   \n",
       "3   -20.365002  -0.211998                                       nwrd chicken   \n",
       "4     9.418864  14.050371  the thailand tsunami resulted from a magnitude...   \n",
       "..         ...        ...                                                ...   \n",
       "727   4.456134 -10.778571     spanish king the boyz tbz kpop k pop fy p eric   \n",
       "728 -25.509790  -2.666075  these olaplex holiday kits are my favorite gif...   \n",
       "729   3.959590 -10.503949  just taemin casually taking foot long steps ta...   \n",
       "730 -23.228472   3.115951  best mexican thanksgiving turkey thanksgiving ...   \n",
       "731 -19.965023   3.985869  pumpkin pie pumpkin pie thanksgiving plates fr...   \n",
       "\n",
       "     cluster    cosine  \n",
       "0          0  0.553455  \n",
       "1          0  0.604250  \n",
       "2          5  0.600661  \n",
       "3          3  0.565047  \n",
       "4          0  0.601743  \n",
       "..       ...       ...  \n",
       "727        0  0.570069  \n",
       "728        5  0.644740  \n",
       "729        0  0.581785  \n",
       "730        5  0.645523  \n",
       "731        5  0.685900  \n",
       "\n",
       "[732 rows x 5 columns]"
      ]
     },
     "execution_count": 94,
     "metadata": {},
     "output_type": "execute_result"
    }
   ],
   "source": [
    "df2"
   ]
  },
  {
   "cell_type": "code",
   "execution_count": 95,
   "id": "ec802b1d",
   "metadata": {},
   "outputs": [
    {
     "name": "stdout",
     "output_type": "stream",
     "text": [
      "ANOVA F-value: 6.475596255987362\n",
      "ANOVA P-value: 3.676328140009434e-08\n"
     ]
    }
   ],
   "source": [
    "from scipy import stats\n",
    "anova_result = stats.f_oneway(*[group['cosine'].values for _, group in df2.groupby('cluster')])\n",
    "\n",
    "print(f\"ANOVA F-value: {anova_result.statistic}\")\n",
    "print(f\"ANOVA P-value: {anova_result.pvalue}\")"
   ]
  },
  {
   "cell_type": "code",
   "execution_count": 98,
   "id": "740ef567",
   "metadata": {},
   "outputs": [
    {
     "name": "stdout",
     "output_type": "stream",
     "text": [
      "Multiple Comparison of Means - Tukey HSD, FWER=0.05\n",
      "===================================================\n",
      "group1 group2 meandiff p-adj   lower  upper  reject\n",
      "---------------------------------------------------\n",
      "     0      1  -0.0054 0.9984 -0.0287 0.0178  False\n",
      "     0      2   0.0229 0.1793 -0.0043 0.0501  False\n",
      "     0      3  -0.0011    1.0 -0.0262 0.0239  False\n",
      "     0      4   0.0326 0.0134  0.0038 0.0614   True\n",
      "     0      5   0.0365 0.0002  0.0114 0.0616   True\n",
      "     0      6   0.0217 0.6637 -0.0153 0.0588  False\n",
      "     0      7   0.0088 0.9982 -0.0282 0.0458  False\n",
      "     0      8    0.017 0.8598 -0.0185 0.0524  False\n",
      "     1      2   0.0283 0.0198  0.0025 0.0542   True\n",
      "     1      3   0.0043 0.9998 -0.0193 0.0279  False\n",
      "     1      4    0.038 0.0007  0.0105 0.0656   True\n",
      "     1      5   0.0419    0.0  0.0183 0.0656   True\n",
      "     1      6   0.0272 0.3171 -0.0089 0.0632  False\n",
      "     1      7   0.0142 0.9503 -0.0218 0.0503  False\n",
      "     1      8   0.0224 0.5267  -0.012 0.0568  False\n",
      "     2      3  -0.0241 0.1418 -0.0516 0.0034  False\n",
      "     2      4   0.0097 0.9881 -0.0213 0.0407  False\n",
      "     2      5   0.0136 0.8381 -0.0139 0.0412  False\n",
      "     2      6  -0.0012    1.0 -0.0399 0.0375  False\n",
      "     2      7  -0.0141 0.9689 -0.0528 0.0246  False\n",
      "     2      8  -0.0059 0.9999 -0.0431 0.0313  False\n",
      "     3      4   0.0338 0.0099  0.0047 0.0629   True\n",
      "     3      5   0.0377 0.0002  0.0122 0.0631   True\n",
      "     3      6   0.0229 0.6053 -0.0144 0.0601  False\n",
      "     3      7     0.01 0.9959 -0.0273 0.0472  False\n",
      "     3      8   0.0181 0.8151 -0.0175 0.0538  False\n",
      "     4      5   0.0039    1.0 -0.0252 0.0331  False\n",
      "     4      6  -0.0109 0.9953 -0.0507  0.029  False\n",
      "     4      7  -0.0238 0.6432 -0.0637 0.0161  False\n",
      "     4      8  -0.0156 0.9406  -0.054 0.0228  False\n",
      "     5      6  -0.0148 0.9491 -0.0521 0.0225  False\n",
      "     5      7  -0.0277 0.3357  -0.065 0.0096  False\n",
      "     5      8  -0.0195 0.7449 -0.0552 0.0162  False\n",
      "     6      7  -0.0129 0.9943 -0.0591 0.0332  False\n",
      "     6      8  -0.0048    1.0 -0.0497 0.0401  False\n",
      "     7      8   0.0082 0.9997 -0.0367 0.0531  False\n",
      "---------------------------------------------------\n"
     ]
    }
   ],
   "source": [
    "import statsmodels.api as sm\n",
    "from statsmodels.stats.multicomp import pairwise_tukeyhsd\n",
    "tukey = pairwise_tukeyhsd(endog=df2['cosine'],     # Data\n",
    "                        groups=df2['cluster'],   # Groups\n",
    "                        alpha=0.05)            # Significance level\n",
    "print(tukey)\n"
   ]
  },
  {
   "cell_type": "code",
   "execution_count": null,
   "id": "93059812",
   "metadata": {},
   "outputs": [],
   "source": []
  }
 ],
 "metadata": {
  "kernelspec": {
   "display_name": "CS315 Project2",
   "language": "python",
   "name": ".project2"
  },
  "language_info": {
   "codemirror_mode": {
    "name": "ipython",
    "version": 3
   },
   "file_extension": ".py",
   "mimetype": "text/x-python",
   "name": "python",
   "nbconvert_exporter": "python",
   "pygments_lexer": "ipython3",
   "version": "3.11.5"
  }
 },
 "nbformat": 4,
 "nbformat_minor": 5
}
