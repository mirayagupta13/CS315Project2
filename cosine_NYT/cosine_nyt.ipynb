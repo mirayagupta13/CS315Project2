{
 "cells": [
  {
   "cell_type": "markdown",
   "metadata": {},
   "source": [
    "## Running Cosine Similarity and NYT API Requests\n"
   ]
  },
  {
   "cell_type": "markdown",
   "metadata": {},
   "source": [
    "### Looking at NYT API Data\n"
   ]
  },
  {
   "cell_type": "code",
   "execution_count": 1,
   "metadata": {},
   "outputs": [],
   "source": [
    "myAPIkey = \"G2G9F7zgkQ6gQYd6WWjrwwzLHAtG192b\"\n",
    "import pandas as pd\n"
   ]
  },
  {
   "cell_type": "code",
   "execution_count": 2,
   "metadata": {},
   "outputs": [],
   "source": [
    "import requests, json\n",
    "import string\n",
    "\n",
    "def getNYTArticles(year, month, apiKey):\n",
    "    \"\"\"Function that sends a request to the NYT API for all articles in a month\n",
    "    and then stores the results in a JSON file.\n",
    "    \"\"\"\n",
    "    # create URL\n",
    "    URL = f\"https://api.nytimes.com/svc/archive/v1/{year}/{month}.json?api-key={apiKey}\"\n",
    "\n",
    "    # send the request to get the data\n",
    "    data = requests.get(URL)\n",
    "    if data.status_code == 200:\n",
    "        print(f'Successfully got the data for month {month}.')\n",
    "\n",
    "    dataJson = data.json() # get response as JSON\n",
    "\n",
    "    return dataJson"
   ]
  },
  {
   "cell_type": "code",
   "execution_count": 3,
   "metadata": {},
   "outputs": [],
   "source": [
    "def write_allMonths(year, list_month, apiKey):\n",
    "    year_headlines = {}\n",
    "    for month in list_month:\n",
    "       jsonMonth = getNYTArticles(year, month, apiKey)\n",
    "       year_headlines[month] = jsonMonth\n",
    "    return year_headlines\n",
    "#write_allMonths(2022, [1,2,3,4,5,6,7,8,9,10,11,12], myAPIkey)"
   ]
  },
  {
   "cell_type": "code",
   "execution_count": 15,
   "metadata": {},
   "outputs": [
    {
     "name": "stdout",
     "output_type": "stream",
     "text": [
      "Successfully got the data for month 1.\n",
      "Successfully got the data for month 2.\n",
      "Successfully got the data for month 3.\n",
      "Successfully got the data for month 4.\n",
      "Successfully got the data for month 5.\n",
      "Successfully got the data for month 6.\n",
      "Successfully got the data for month 7.\n",
      "Successfully got the data for month 8.\n",
      "Successfully got the data for month 9.\n",
      "Successfully got the data for month 10.\n",
      "Successfully got the data for month 11.\n",
      "Successfully got the data for month 12.\n"
     ]
    }
   ],
   "source": [
    "dataJson22 = write_allMonths(2022, [1,2,3,4,5,6,7,8,9,10,11,12], myAPIkey)\n",
    "with open(f\"NYT_2022.json\", 'w') as fout:\n",
    "        json.dump(dataJson22, fout)"
   ]
  },
  {
   "cell_type": "code",
   "execution_count": 16,
   "metadata": {},
   "outputs": [
    {
     "name": "stdout",
     "output_type": "stream",
     "text": [
      "Successfully got the data for month 1.\n",
      "Successfully got the data for month 2.\n",
      "Successfully got the data for month 3.\n",
      "Successfully got the data for month 4.\n",
      "Successfully got the data for month 5.\n",
      "Successfully got the data for month 6.\n",
      "Successfully got the data for month 7.\n",
      "Successfully got the data for month 8.\n",
      "Successfully got the data for month 9.\n",
      "Successfully got the data for month 10.\n",
      "Successfully got the data for month 11.\n",
      "Successfully got the data for month 12.\n"
     ]
    }
   ],
   "source": [
    "dataJson23 = write_allMonths(2023, [1,2,3,4,5,6,7,8,9,10,11,12], myAPIkey)\n",
    "with open(f\"NYT_2023.json\", 'w') as fout:\n",
    "        json.dump(dataJson23, fout)"
   ]
  },
  {
   "cell_type": "code",
   "execution_count": 120,
   "metadata": {},
   "outputs": [
    {
     "name": "stdout",
     "output_type": "stream",
     "text": [
      "Successfully got the data for month 1.\n",
      "Successfully got the data for month 2.\n",
      "Successfully got the data for month 3.\n"
     ]
    }
   ],
   "source": [
    "dataJson24 = write_allMonths(2024, [1,2,3], myAPIkey)\n",
    "with open(f\"NYT_2024.json\", 'w') as fout:\n",
    "        json.dump(dataJson24, fout)"
   ]
  },
  {
   "cell_type": "code",
   "execution_count": 122,
   "metadata": {},
   "outputs": [
    {
     "name": "stdout",
     "output_type": "stream",
     "text": [
      "Combined JSON file created successfully.\n"
     ]
    }
   ],
   "source": [
    "def combine_nytFiles(file_names, keys):\n",
    "\n",
    "    combined_content = {}\n",
    "\n",
    "    for key, file_name in zip(keys, file_names):\n",
    "        with open(file_name, 'r') as file:\n",
    "            content = json.load(file)\n",
    "            combined_content[key] = content\n",
    "\n",
    "    with open('combinedNYT.json', 'w') as combined_file:\n",
    "        json.dump(combined_content, combined_file, indent=4)\n",
    "\n",
    "    print(\"Combined JSON file created successfully.\")\n",
    "\n",
    "file_names = ['NYT_2022.json','NYT_2023.json','NYT_2024.json']\n",
    "keys = ['2022','2023','2024']\n",
    "combine_nytFiles(file_names, keys)"
   ]
  },
  {
   "cell_type": "code",
   "execution_count": 4,
   "metadata": {},
   "outputs": [],
   "source": [
    "def filter_NewsDetails(jsonData):\n",
    "    json_year = {}\n",
    "    for year in jsonData.keys():\n",
    "        months_all = {}\n",
    "        for month in jsonData[year].keys():\n",
    "            keywords = []\n",
    "            headlines = []\n",
    "            article_types = []\n",
    "            news_desks = []\n",
    "            docsList = jsonData[year][month][\"response\"][\"docs\"]\n",
    "            for doc in docsList:\n",
    "                keywordIndv = [keyword[\"value\"] for keyword in doc[\"keywords\"]]\n",
    "                keywords.append(keywordIndv)\n",
    "                \n",
    "                headlines.append(doc[\"headline\"][\"main\"])\n",
    "                article_types.append(doc[\"type_of_material\"])\n",
    "                news_desks.append(doc[\"news_desk\"])\n",
    "\n",
    "            month_data = {\n",
    "                \"headlines\": headlines,\n",
    "                \"keywords\": keywords,\n",
    "                \"article_type\": article_types,\n",
    "                \"news_desk\": news_desks\n",
    "            }\n",
    "            months_all[month] = month_data\n",
    "        \n",
    "        json_year[year] = months_all\n",
    "    \n",
    "    return json_year\n",
    "\n",
    "\n",
    "\n",
    "with open('combinedNYT.json', 'r') as file:\n",
    "    data = json.load(file)\n",
    "json_all = filter_NewsDetails(data)"
   ]
  },
  {
   "cell_type": "code",
   "execution_count": 5,
   "metadata": {},
   "outputs": [],
   "source": [
    "with open('allDetailsNYT.json', 'w') as combined_file:\n",
    "        json.dump(json_all, combined_file, indent=4)"
   ]
  },
  {
   "cell_type": "markdown",
   "metadata": {},
   "source": [
    "### Looking at Pyktok Info from our Browsed Videos"
   ]
  },
  {
   "cell_type": "code",
   "execution_count": 6,
   "metadata": {},
   "outputs": [],
   "source": [
    "with open(\"allDetailsNYT.json\", 'r') as file:\n",
    "    NYTcontent = json.load(file)"
   ]
  },
  {
   "cell_type": "code",
   "execution_count": 7,
   "metadata": {},
   "outputs": [
    {
     "data": {
      "text/plain": [
       "['could australia and new zealand become one nation',\n",
       " 'john isner says goodbye to pro tennis at the us open',\n",
       " 'corrections sept  ',\n",
       " 'in visit to tiny flock in mongolia pope has an eye on russia and china']"
      ]
     },
     "execution_count": 7,
     "metadata": {},
     "output_type": "execute_result"
    }
   ],
   "source": [
    "import re\n",
    "def clean_nyt(value):\n",
    "    fixed = []\n",
    "    for v in value:\n",
    "        words = [char for char in v.lower().split() if char not in string.punctuation]\n",
    "        words = [re.sub(r'[^\\w\\s]', '', word).lower() for word in words]\n",
    "        words = [re.sub(r'\\d+', '', word) for word in words]\n",
    "        sentence = ' '.join(words)\n",
    "        fixed.append(sentence)\n",
    "    return fixed  \n",
    "headlines = ['Could Australia and New Zealand Become One Nation?', 'John Isner Says Goodbye to Pro Tennis at the U.S. Open', 'Corrections: Sept. 1, 2023', 'In Visit to Tiny Flock in Mongolia, Pope Has an Eye on Russia and China']\n",
    "clean_nyt(headlines)\n"
   ]
  },
  {
   "cell_type": "code",
   "execution_count": 8,
   "metadata": {},
   "outputs": [],
   "source": [
    "\n",
    "def get_nytDetailsMonth(date, json_all):\n",
    "    date_parts = date.split(\"-\")\n",
    "    year = date_parts[0]\n",
    "    month = str(int(date_parts[1]))\n",
    "\n",
    "    try:\n",
    "        if year in list(json_all.keys()):\n",
    "            if month in list(json_all[year].keys()):\n",
    "                value = json_all[year][month]\n",
    "                titles = (value['headlines'])\n",
    "                titles = clean_nyt(titles)\n",
    "                all_words = (value['keywords'])\n",
    "                articleTypes = (value['article_type'])\n",
    "                type_genre = (value['news_desk'])\n",
    "        else:\n",
    "            print(f'{year} Year not in Collected Data')\n",
    "            all_words =[]\n",
    "            titles = []\n",
    "            articleTypes = []\n",
    "            type_genre = []\n",
    "\n",
    "    except KeyError as e:\n",
    "        print(f'Error accessing data for year {year}: {e}')\n",
    "\n",
    "    return all_words, titles, articleTypes, type_genre\n",
    "        \n",
    "keywords, headlines, article_type, type_genre = get_nytDetailsMonth(\"2023-09-20\",NYTcontent)\n"
   ]
  },
  {
   "cell_type": "code",
   "execution_count": 9,
   "metadata": {},
   "outputs": [
    {
     "name": "stdout",
     "output_type": "stream",
     "text": [
      "3823\n",
      "3823\n",
      "3823\n"
     ]
    }
   ],
   "source": [
    "print(len(headlines))\n",
    "print(len(keywords))\n",
    "print(len(article_type))"
   ]
  },
  {
   "cell_type": "code",
   "execution_count": 10,
   "metadata": {},
   "outputs": [
    {
     "name": "stdout",
     "output_type": "stream",
     "text": [
      "Total number of videos 1727\n",
      "Total number of unique videos 1678\n",
      "Total Videos Without description 66\n",
      "Total Videos Not Created In US, CA, or GB: 370\n",
      "Total Videos After Cleaning: 1242\n"
     ]
    },
    {
     "name": "stderr",
     "output_type": "stream",
     "text": [
      "C:\\Users\\ashle\\AppData\\Local\\Temp\\ipykernel_16944\\3262746171.py:15: SettingWithCopyWarning: \n",
      "A value is trying to be set on a copy of a slice from a DataFrame\n",
      "\n",
      "See the caveats in the documentation: https://pandas.pydata.org/pandas-docs/stable/user_guide/indexing.html#returning-a-view-versus-a-copy\n",
      "  df.dropna(subset=['video_description'], how='all', inplace=True)\n",
      "C:\\Users\\ashle\\AppData\\Local\\Temp\\ipykernel_16944\\3262746171.py:26: SettingWithCopyWarning: \n",
      "A value is trying to be set on a copy of a slice from a DataFrame.\n",
      "Try using .loc[row_indexer,col_indexer] = value instead\n",
      "\n",
      "See the caveats in the documentation: https://pandas.pydata.org/pandas-docs/stable/user_guide/indexing.html#returning-a-view-versus-a-copy\n",
      "  df_english['video_date'] = df_english['video_timestamp'].str[:10]\n"
     ]
    }
   ],
   "source": [
    "import pandas as pd\n",
    "\n",
    "df = pd.read_csv('results_CF.csv')\n",
    "\n",
    "def clean_csvs(df):\n",
    "    \n",
    "    num = len(df)\n",
    "    print('Total number of videos', num)\n",
    "\n",
    "    df = df.drop_duplicates(subset=['video_id'])\n",
    "    num_unique = len(df)\n",
    "    print('Total number of unique videos', num_unique)\n",
    "\n",
    "    # drop all videos where video_description are NaN\n",
    "    df.dropna(subset=['video_description'], how='all', inplace=True)\n",
    "    num_no_sugg_descr = num_unique-len(df)\n",
    "\n",
    "    print(\"Total Videos Without description\", num_no_sugg_descr)\n",
    "\n",
    "    # drop all videos not created in US\n",
    "    df_english = df[df['video_locationcreated'].isin(['US', 'CA', 'GB'])]\n",
    "    without_US = len(df_english)\n",
    "\n",
    "    print(\"Total Videos Not Created In US, CA, or GB:\",len(df)-without_US)\n",
    "\n",
    "    df_english['video_date'] = df_english['video_timestamp'].str[:10]\n",
    "\n",
    "    print(\"Total Videos After Cleaning:\",len(df_english))\n",
    "\n",
    "    return df_english\n",
    "\n",
    "df_english = clean_csvs(df)\n"
   ]
  },
  {
   "cell_type": "code",
   "execution_count": 11,
   "metadata": {},
   "outputs": [],
   "source": [
    "\n",
    "df_english.to_csv('english_nytTiktokData.csv', index=False)\n",
    "import pandas as pd\n",
    "import string\n",
    "import re\n",
    "import wordninja"
   ]
  },
  {
   "cell_type": "code",
   "execution_count": 12,
   "metadata": {},
   "outputs": [],
   "source": [
    "def clean_string(value):\n",
    "    words = [char for char in value.lower().split() if char not in string.punctuation]\n",
    "    i = 0  \n",
    "    while i < len(words):\n",
    "        if '#' in words[i]:\n",
    "            words[i] = re.sub(r'\\W+', '', words[i])\n",
    "            if words[i] not in {'fyp', 'foryou', 'fypシ', 'foryoupage', 'fypシviral', 'fypage'}:\n",
    "                split_words = wordninja.split(words[i])\n",
    "                del words[i]\n",
    "                words[i:i] = split_words\n",
    "        i += 1\n",
    "    \n",
    "    words = [re.sub(r'[^\\w\\s]', '', word).lower() for word in words] # removes all non-characters\n",
    "    words = [re.sub(r'\\d+', '', word) for word in words]\n",
    "    words = [word for word in words if word not in {'fyp', 'foryou', 'fypシ', 'foryoupage', 'fypシviral', 'fypage'}]\n",
    "    words = [item for item in words if item]\n",
    "\n",
    "    sentence = ' '.join(words)\n",
    "    return sentence\n",
    "        "
   ]
  },
  {
   "cell_type": "code",
   "execution_count": 13,
   "metadata": {},
   "outputs": [],
   "source": [
    "\n",
    "\n",
    "def isolate_vars(df):\n",
    "    df = df[['video_id', 'video_date', 'video_description', 'suggested_words']]\n",
    "    df = df.dropna(subset=['video_date'])\n",
    "    \n",
    "    for index, row in df.iterrows():\n",
    "        value = row['video_description']\n",
    "        df.loc[index, 'video_description'] = clean_string(value)\n",
    "\n",
    "\n",
    "    for index, row in df.iterrows():\n",
    "        value = row['suggested_words']\n",
    "        if isinstance(value, str):  # Check if value is a string\n",
    "            df.loc[index, 'suggested_words'] = clean_string(value)\n",
    "\n",
    "        else:\n",
    "            df.loc[index, 'suggested_words'] = None\n",
    "    \n",
    "    return df\n",
    "\n",
    "df = pd.read_csv('english_nytTiktokData.csv')\n",
    "df_isolate = isolate_vars(df)"
   ]
  },
  {
   "cell_type": "code",
   "execution_count": 14,
   "metadata": {},
   "outputs": [
    {
     "name": "stdout",
     "output_type": "stream",
     "text": [
      "['video_id', 'video_date', 'video_description', 'suggested_words']\n"
     ]
    }
   ],
   "source": [
    "column_names = df_isolate.columns.tolist()\n",
    "print(column_names)\n",
    "\n",
    "df_isolate.to_csv('cleaned_nytTiktokData.csv', index=False)\n",
    "df = pd.read_csv('cleaned_nytTiktokData.csv')\n"
   ]
  },
  {
   "cell_type": "markdown",
   "metadata": {},
   "source": [
    "## Starting cosine and embedding"
   ]
  },
  {
   "cell_type": "code",
   "execution_count": 15,
   "metadata": {},
   "outputs": [],
   "source": [
    "import tensorflow as tf\n",
    "import tensorflow_hub as hub\n",
    "import numpy as np"
   ]
  },
  {
   "cell_type": "code",
   "execution_count": 16,
   "metadata": {},
   "outputs": [],
   "source": [
    "embed = hub.load(\"https://tfhub.dev/google/universal-sentence-encoder/4\")"
   ]
  },
  {
   "cell_type": "code",
   "execution_count": 17,
   "metadata": {},
   "outputs": [],
   "source": [
    "from numpy.linalg import norm\n",
    "\n",
    "def cosineSimilarity(vec1, vec2):\n",
    "    \"\"\"Calculate the cosine similarity between two vectors.\"\"\"\n",
    "    V1 = np.array(vec1)\n",
    "    V2 = np.array(vec2)\n",
    "    cosine = np.dot(V1, V2)/(norm(V1)*norm(V2))\n",
    "    return cosine"
   ]
  },
  {
   "cell_type": "code",
   "execution_count": 18,
   "metadata": {},
   "outputs": [],
   "source": [
    "def fixpairwiseSimilarity(df,json_all):\n",
    "    \"\"\"Given a matrix of embeddings for words or sentences,\n",
    "    calculate the cosine similarity for each pair.\n",
    "    \"\"\"\n",
    "    df['cos_score'] = None\n",
    "    df['headline'] = None\n",
    "    df['headline_type'] = None\n",
    "    df['headline_genre'] = None\n",
    "    for index, row in df.iterrows():\n",
    "        list1 = row['video_description']\n",
    "        list2 = row['suggested_words']\n",
    "        if pd.isna(list1):\n",
    "            video_details = []\n",
    "        elif pd.isna(list2) and not pd.isna(list1):\n",
    "            video_details = list1\n",
    "        else:\n",
    "            video_details = list1+list2\n",
    "\n",
    "        date = row['video_date']\n",
    "        nyt_keywords,nyt_headlines, headline_type, headline_genre = get_nytDetailsMonth(date,json_all)\n",
    "\n",
    "        try:\n",
    "            if len(nyt_keywords) > 0 and len(nyt_headlines) > 0 and len(video_details) > 0:\n",
    "                cos_scoresList = []\n",
    "                video_detailsEmbed = embed([video_details])[0]\n",
    "                for headline in nyt_headlines:\n",
    "                    nyt_headlinesEmbed = embed([headline])[0]\n",
    "                    cos_indvscore = cosineSimilarity(video_detailsEmbed, nyt_headlinesEmbed)\n",
    "                    cos_scoresList.append(cos_indvscore)\n",
    "                    \n",
    "                cos_score = max(cos_scoresList)\n",
    "                video_id = row['video_id']\n",
    "                cos_score = max(cos_scoresList)\n",
    "                index_of_max_score = cos_scoresList.index(cos_score)\n",
    "                compare_headline = nyt_headlines[index_of_max_score]\n",
    "                headlineType = headline_type[index_of_max_score]\n",
    "                headlineGenre = headline_genre[index_of_max_score]\n",
    "\n",
    "                print(f'{video_id} has cosine score: {cos_score}============details {video_details}')\n",
    "                print(f'{compare_headline}')\n",
    "                print(f'{headlineType}')\n",
    "                print(f'{headlineGenre}')\n",
    "\n",
    "            else:\n",
    "                cos_score = None\n",
    "            df.at[index, 'cos_score'] = cos_score\n",
    "            df.at[index, 'headline'] = compare_headline\n",
    "            df.at[index, 'headline_type'] = headlineType\n",
    "            df.at[index, 'headline_type'] = headlineGenre\n",
    "        except Exception as e:\n",
    "            print(f'Error found on {row[\"video_id\"]}:{e}')\n",
    "    return df"
   ]
  },
  {
   "cell_type": "code",
   "execution_count": 21,
   "metadata": {},
   "outputs": [
    {
     "ename": "KeyboardInterrupt",
     "evalue": "",
     "output_type": "error",
     "traceback": [
      "\u001b[1;31m---------------------------------------------------------------------------\u001b[0m",
      "\u001b[1;31mKeyboardInterrupt\u001b[0m                         Traceback (most recent call last)",
      "Cell \u001b[1;32mIn[21], line 1\u001b[0m\n\u001b[1;32m----> 1\u001b[0m df_scores \u001b[38;5;241m=\u001b[39m fixpairwiseSimilarity(df,NYTcontent)\n\u001b[0;32m      2\u001b[0m \u001b[38;5;28mprint\u001b[39m(df_scores)\n\u001b[0;32m      3\u001b[0m df_scores\u001b[38;5;241m.\u001b[39mto_csv(\u001b[38;5;124m'\u001b[39m\u001b[38;5;124mresults_CF_Scores.csv\u001b[39m\u001b[38;5;124m'\u001b[39m, index\u001b[38;5;241m=\u001b[39m\u001b[38;5;28;01mTrue\u001b[39;00m)\n",
      "Cell \u001b[1;32mIn[20], line 27\u001b[0m, in \u001b[0;36mfixpairwiseSimilarity\u001b[1;34m(df, json_all)\u001b[0m\n\u001b[0;32m     25\u001b[0m video_detailsEmbed \u001b[38;5;241m=\u001b[39m embed([video_details])[\u001b[38;5;241m0\u001b[39m]\n\u001b[0;32m     26\u001b[0m \u001b[38;5;28;01mfor\u001b[39;00m headline \u001b[38;5;129;01min\u001b[39;00m nyt_headlines:\n\u001b[1;32m---> 27\u001b[0m     nyt_headlinesEmbed \u001b[38;5;241m=\u001b[39m embed([headline])[\u001b[38;5;241m0\u001b[39m]\n\u001b[0;32m     28\u001b[0m     cos_indvscore \u001b[38;5;241m=\u001b[39m cosineSimilarity(video_detailsEmbed, nyt_headlinesEmbed)\n\u001b[0;32m     29\u001b[0m     cos_scoresList\u001b[38;5;241m.\u001b[39mappend(cos_indvscore)\n",
      "File \u001b[1;32mc:\\Users\\ashle\\anaconda3\\Lib\\site-packages\\tensorflow\\python\\saved_model\\load.py:817\u001b[0m, in \u001b[0;36m_call_attribute\u001b[1;34m(instance, *args, **kwargs)\u001b[0m\n\u001b[0;32m    816\u001b[0m \u001b[38;5;28;01mdef\u001b[39;00m \u001b[38;5;21m_call_attribute\u001b[39m(instance, \u001b[38;5;241m*\u001b[39margs, \u001b[38;5;241m*\u001b[39m\u001b[38;5;241m*\u001b[39mkwargs):\n\u001b[1;32m--> 817\u001b[0m   \u001b[38;5;28;01mreturn\u001b[39;00m instance\u001b[38;5;241m.\u001b[39m\u001b[38;5;21m__call__\u001b[39m(\u001b[38;5;241m*\u001b[39margs, \u001b[38;5;241m*\u001b[39m\u001b[38;5;241m*\u001b[39mkwargs)\n",
      "File \u001b[1;32mc:\\Users\\ashle\\anaconda3\\Lib\\site-packages\\tensorflow\\python\\util\\traceback_utils.py:150\u001b[0m, in \u001b[0;36mfilter_traceback.<locals>.error_handler\u001b[1;34m(*args, **kwargs)\u001b[0m\n\u001b[0;32m    148\u001b[0m filtered_tb \u001b[38;5;241m=\u001b[39m \u001b[38;5;28;01mNone\u001b[39;00m\n\u001b[0;32m    149\u001b[0m \u001b[38;5;28;01mtry\u001b[39;00m:\n\u001b[1;32m--> 150\u001b[0m   \u001b[38;5;28;01mreturn\u001b[39;00m fn(\u001b[38;5;241m*\u001b[39margs, \u001b[38;5;241m*\u001b[39m\u001b[38;5;241m*\u001b[39mkwargs)\n\u001b[0;32m    151\u001b[0m \u001b[38;5;28;01mexcept\u001b[39;00m \u001b[38;5;167;01mException\u001b[39;00m \u001b[38;5;28;01mas\u001b[39;00m e:\n\u001b[0;32m    152\u001b[0m   filtered_tb \u001b[38;5;241m=\u001b[39m _process_traceback_frames(e\u001b[38;5;241m.\u001b[39m__traceback__)\n",
      "File \u001b[1;32mc:\\Users\\ashle\\anaconda3\\Lib\\site-packages\\tensorflow\\python\\eager\\polymorphic_function\\polymorphic_function.py:833\u001b[0m, in \u001b[0;36mFunction.__call__\u001b[1;34m(self, *args, **kwds)\u001b[0m\n\u001b[0;32m    830\u001b[0m compiler \u001b[38;5;241m=\u001b[39m \u001b[38;5;124m\"\u001b[39m\u001b[38;5;124mxla\u001b[39m\u001b[38;5;124m\"\u001b[39m \u001b[38;5;28;01mif\u001b[39;00m \u001b[38;5;28mself\u001b[39m\u001b[38;5;241m.\u001b[39m_jit_compile \u001b[38;5;28;01melse\u001b[39;00m \u001b[38;5;124m\"\u001b[39m\u001b[38;5;124mnonXla\u001b[39m\u001b[38;5;124m\"\u001b[39m\n\u001b[0;32m    832\u001b[0m \u001b[38;5;28;01mwith\u001b[39;00m OptionalXlaContext(\u001b[38;5;28mself\u001b[39m\u001b[38;5;241m.\u001b[39m_jit_compile):\n\u001b[1;32m--> 833\u001b[0m   result \u001b[38;5;241m=\u001b[39m \u001b[38;5;28mself\u001b[39m\u001b[38;5;241m.\u001b[39m_call(\u001b[38;5;241m*\u001b[39margs, \u001b[38;5;241m*\u001b[39m\u001b[38;5;241m*\u001b[39mkwds)\n\u001b[0;32m    835\u001b[0m new_tracing_count \u001b[38;5;241m=\u001b[39m \u001b[38;5;28mself\u001b[39m\u001b[38;5;241m.\u001b[39mexperimental_get_tracing_count()\n\u001b[0;32m    836\u001b[0m without_tracing \u001b[38;5;241m=\u001b[39m (tracing_count \u001b[38;5;241m==\u001b[39m new_tracing_count)\n",
      "File \u001b[1;32mc:\\Users\\ashle\\anaconda3\\Lib\\site-packages\\tensorflow\\python\\eager\\polymorphic_function\\polymorphic_function.py:878\u001b[0m, in \u001b[0;36mFunction._call\u001b[1;34m(self, *args, **kwds)\u001b[0m\n\u001b[0;32m    875\u001b[0m \u001b[38;5;28mself\u001b[39m\u001b[38;5;241m.\u001b[39m_lock\u001b[38;5;241m.\u001b[39mrelease()\n\u001b[0;32m    876\u001b[0m \u001b[38;5;66;03m# In this case we have not created variables on the first call. So we can\u001b[39;00m\n\u001b[0;32m    877\u001b[0m \u001b[38;5;66;03m# run the first trace but we should fail if variables are created.\u001b[39;00m\n\u001b[1;32m--> 878\u001b[0m results \u001b[38;5;241m=\u001b[39m tracing_compilation\u001b[38;5;241m.\u001b[39mcall_function(\n\u001b[0;32m    879\u001b[0m     args, kwds, \u001b[38;5;28mself\u001b[39m\u001b[38;5;241m.\u001b[39m_variable_creation_config\n\u001b[0;32m    880\u001b[0m )\n\u001b[0;32m    881\u001b[0m \u001b[38;5;28;01mif\u001b[39;00m \u001b[38;5;28mself\u001b[39m\u001b[38;5;241m.\u001b[39m_created_variables:\n\u001b[0;32m    882\u001b[0m   \u001b[38;5;28;01mraise\u001b[39;00m \u001b[38;5;167;01mValueError\u001b[39;00m(\u001b[38;5;124m\"\u001b[39m\u001b[38;5;124mCreating variables on a non-first call to a function\u001b[39m\u001b[38;5;124m\"\u001b[39m\n\u001b[0;32m    883\u001b[0m                    \u001b[38;5;124m\"\u001b[39m\u001b[38;5;124m decorated with tf.function.\u001b[39m\u001b[38;5;124m\"\u001b[39m)\n",
      "File \u001b[1;32mc:\\Users\\ashle\\anaconda3\\Lib\\site-packages\\tensorflow\\python\\eager\\polymorphic_function\\tracing_compilation.py:139\u001b[0m, in \u001b[0;36mcall_function\u001b[1;34m(args, kwargs, tracing_options)\u001b[0m\n\u001b[0;32m    137\u001b[0m bound_args \u001b[38;5;241m=\u001b[39m function\u001b[38;5;241m.\u001b[39mfunction_type\u001b[38;5;241m.\u001b[39mbind(\u001b[38;5;241m*\u001b[39margs, \u001b[38;5;241m*\u001b[39m\u001b[38;5;241m*\u001b[39mkwargs)\n\u001b[0;32m    138\u001b[0m flat_inputs \u001b[38;5;241m=\u001b[39m function\u001b[38;5;241m.\u001b[39mfunction_type\u001b[38;5;241m.\u001b[39munpack_inputs(bound_args)\n\u001b[1;32m--> 139\u001b[0m \u001b[38;5;28;01mreturn\u001b[39;00m function\u001b[38;5;241m.\u001b[39m_call_flat(  \u001b[38;5;66;03m# pylint: disable=protected-access\u001b[39;00m\n\u001b[0;32m    140\u001b[0m     flat_inputs, captured_inputs\u001b[38;5;241m=\u001b[39mfunction\u001b[38;5;241m.\u001b[39mcaptured_inputs\n\u001b[0;32m    141\u001b[0m )\n",
      "File \u001b[1;32mc:\\Users\\ashle\\anaconda3\\Lib\\site-packages\\tensorflow\\python\\eager\\polymorphic_function\\concrete_function.py:1322\u001b[0m, in \u001b[0;36mConcreteFunction._call_flat\u001b[1;34m(self, tensor_inputs, captured_inputs)\u001b[0m\n\u001b[0;32m   1318\u001b[0m possible_gradient_type \u001b[38;5;241m=\u001b[39m gradients_util\u001b[38;5;241m.\u001b[39mPossibleTapeGradientTypes(args)\n\u001b[0;32m   1319\u001b[0m \u001b[38;5;28;01mif\u001b[39;00m (possible_gradient_type \u001b[38;5;241m==\u001b[39m gradients_util\u001b[38;5;241m.\u001b[39mPOSSIBLE_GRADIENT_TYPES_NONE\n\u001b[0;32m   1320\u001b[0m     \u001b[38;5;129;01mand\u001b[39;00m executing_eagerly):\n\u001b[0;32m   1321\u001b[0m   \u001b[38;5;66;03m# No tape is watching; skip to running the function.\u001b[39;00m\n\u001b[1;32m-> 1322\u001b[0m   \u001b[38;5;28;01mreturn\u001b[39;00m \u001b[38;5;28mself\u001b[39m\u001b[38;5;241m.\u001b[39m_inference_function\u001b[38;5;241m.\u001b[39mcall_preflattened(args)\n\u001b[0;32m   1323\u001b[0m forward_backward \u001b[38;5;241m=\u001b[39m \u001b[38;5;28mself\u001b[39m\u001b[38;5;241m.\u001b[39m_select_forward_and_backward_functions(\n\u001b[0;32m   1324\u001b[0m     args,\n\u001b[0;32m   1325\u001b[0m     possible_gradient_type,\n\u001b[0;32m   1326\u001b[0m     executing_eagerly)\n\u001b[0;32m   1327\u001b[0m forward_function, args_with_tangents \u001b[38;5;241m=\u001b[39m forward_backward\u001b[38;5;241m.\u001b[39mforward()\n",
      "File \u001b[1;32mc:\\Users\\ashle\\anaconda3\\Lib\\site-packages\\tensorflow\\python\\eager\\polymorphic_function\\atomic_function.py:216\u001b[0m, in \u001b[0;36mAtomicFunction.call_preflattened\u001b[1;34m(self, args)\u001b[0m\n\u001b[0;32m    214\u001b[0m \u001b[38;5;28;01mdef\u001b[39;00m \u001b[38;5;21mcall_preflattened\u001b[39m(\u001b[38;5;28mself\u001b[39m, args: Sequence[core\u001b[38;5;241m.\u001b[39mTensor]) \u001b[38;5;241m-\u001b[39m\u001b[38;5;241m>\u001b[39m Any:\n\u001b[0;32m    215\u001b[0m \u001b[38;5;250m  \u001b[39m\u001b[38;5;124;03m\"\"\"Calls with flattened tensor inputs and returns the structured output.\"\"\"\u001b[39;00m\n\u001b[1;32m--> 216\u001b[0m   flat_outputs \u001b[38;5;241m=\u001b[39m \u001b[38;5;28mself\u001b[39m\u001b[38;5;241m.\u001b[39mcall_flat(\u001b[38;5;241m*\u001b[39margs)\n\u001b[0;32m    217\u001b[0m   \u001b[38;5;28;01mreturn\u001b[39;00m \u001b[38;5;28mself\u001b[39m\u001b[38;5;241m.\u001b[39mfunction_type\u001b[38;5;241m.\u001b[39mpack_output(flat_outputs)\n",
      "File \u001b[1;32mc:\\Users\\ashle\\anaconda3\\Lib\\site-packages\\tensorflow\\python\\eager\\polymorphic_function\\atomic_function.py:251\u001b[0m, in \u001b[0;36mAtomicFunction.call_flat\u001b[1;34m(self, *args)\u001b[0m\n\u001b[0;32m    249\u001b[0m \u001b[38;5;28;01mwith\u001b[39;00m record\u001b[38;5;241m.\u001b[39mstop_recording():\n\u001b[0;32m    250\u001b[0m   \u001b[38;5;28;01mif\u001b[39;00m \u001b[38;5;28mself\u001b[39m\u001b[38;5;241m.\u001b[39m_bound_context\u001b[38;5;241m.\u001b[39mexecuting_eagerly():\n\u001b[1;32m--> 251\u001b[0m     outputs \u001b[38;5;241m=\u001b[39m \u001b[38;5;28mself\u001b[39m\u001b[38;5;241m.\u001b[39m_bound_context\u001b[38;5;241m.\u001b[39mcall_function(\n\u001b[0;32m    252\u001b[0m         \u001b[38;5;28mself\u001b[39m\u001b[38;5;241m.\u001b[39mname,\n\u001b[0;32m    253\u001b[0m         \u001b[38;5;28mlist\u001b[39m(args),\n\u001b[0;32m    254\u001b[0m         \u001b[38;5;28mlen\u001b[39m(\u001b[38;5;28mself\u001b[39m\u001b[38;5;241m.\u001b[39mfunction_type\u001b[38;5;241m.\u001b[39mflat_outputs),\n\u001b[0;32m    255\u001b[0m     )\n\u001b[0;32m    256\u001b[0m   \u001b[38;5;28;01melse\u001b[39;00m:\n\u001b[0;32m    257\u001b[0m     outputs \u001b[38;5;241m=\u001b[39m make_call_op_in_graph(\n\u001b[0;32m    258\u001b[0m         \u001b[38;5;28mself\u001b[39m,\n\u001b[0;32m    259\u001b[0m         \u001b[38;5;28mlist\u001b[39m(args),\n\u001b[0;32m    260\u001b[0m         \u001b[38;5;28mself\u001b[39m\u001b[38;5;241m.\u001b[39m_bound_context\u001b[38;5;241m.\u001b[39mfunction_call_options\u001b[38;5;241m.\u001b[39mas_attrs(),\n\u001b[0;32m    261\u001b[0m     )\n",
      "File \u001b[1;32mc:\\Users\\ashle\\anaconda3\\Lib\\site-packages\\tensorflow\\python\\eager\\context.py:1500\u001b[0m, in \u001b[0;36mContext.call_function\u001b[1;34m(self, name, tensor_inputs, num_outputs)\u001b[0m\n\u001b[0;32m   1498\u001b[0m cancellation_context \u001b[38;5;241m=\u001b[39m cancellation\u001b[38;5;241m.\u001b[39mcontext()\n\u001b[0;32m   1499\u001b[0m \u001b[38;5;28;01mif\u001b[39;00m cancellation_context \u001b[38;5;129;01mis\u001b[39;00m \u001b[38;5;28;01mNone\u001b[39;00m:\n\u001b[1;32m-> 1500\u001b[0m   outputs \u001b[38;5;241m=\u001b[39m execute\u001b[38;5;241m.\u001b[39mexecute(\n\u001b[0;32m   1501\u001b[0m       name\u001b[38;5;241m.\u001b[39mdecode(\u001b[38;5;124m\"\u001b[39m\u001b[38;5;124mutf-8\u001b[39m\u001b[38;5;124m\"\u001b[39m),\n\u001b[0;32m   1502\u001b[0m       num_outputs\u001b[38;5;241m=\u001b[39mnum_outputs,\n\u001b[0;32m   1503\u001b[0m       inputs\u001b[38;5;241m=\u001b[39mtensor_inputs,\n\u001b[0;32m   1504\u001b[0m       attrs\u001b[38;5;241m=\u001b[39mattrs,\n\u001b[0;32m   1505\u001b[0m       ctx\u001b[38;5;241m=\u001b[39m\u001b[38;5;28mself\u001b[39m,\n\u001b[0;32m   1506\u001b[0m   )\n\u001b[0;32m   1507\u001b[0m \u001b[38;5;28;01melse\u001b[39;00m:\n\u001b[0;32m   1508\u001b[0m   outputs \u001b[38;5;241m=\u001b[39m execute\u001b[38;5;241m.\u001b[39mexecute_with_cancellation(\n\u001b[0;32m   1509\u001b[0m       name\u001b[38;5;241m.\u001b[39mdecode(\u001b[38;5;124m\"\u001b[39m\u001b[38;5;124mutf-8\u001b[39m\u001b[38;5;124m\"\u001b[39m),\n\u001b[0;32m   1510\u001b[0m       num_outputs\u001b[38;5;241m=\u001b[39mnum_outputs,\n\u001b[1;32m   (...)\u001b[0m\n\u001b[0;32m   1514\u001b[0m       cancellation_manager\u001b[38;5;241m=\u001b[39mcancellation_context,\n\u001b[0;32m   1515\u001b[0m   )\n",
      "File \u001b[1;32mc:\\Users\\ashle\\anaconda3\\Lib\\site-packages\\tensorflow\\python\\eager\\execute.py:53\u001b[0m, in \u001b[0;36mquick_execute\u001b[1;34m(op_name, num_outputs, inputs, attrs, ctx, name)\u001b[0m\n\u001b[0;32m     51\u001b[0m \u001b[38;5;28;01mtry\u001b[39;00m:\n\u001b[0;32m     52\u001b[0m   ctx\u001b[38;5;241m.\u001b[39mensure_initialized()\n\u001b[1;32m---> 53\u001b[0m   tensors \u001b[38;5;241m=\u001b[39m pywrap_tfe\u001b[38;5;241m.\u001b[39mTFE_Py_Execute(ctx\u001b[38;5;241m.\u001b[39m_handle, device_name, op_name,\n\u001b[0;32m     54\u001b[0m                                       inputs, attrs, num_outputs)\n\u001b[0;32m     55\u001b[0m \u001b[38;5;28;01mexcept\u001b[39;00m core\u001b[38;5;241m.\u001b[39m_NotOkStatusException \u001b[38;5;28;01mas\u001b[39;00m e:\n\u001b[0;32m     56\u001b[0m   \u001b[38;5;28;01mif\u001b[39;00m name \u001b[38;5;129;01mis\u001b[39;00m \u001b[38;5;129;01mnot\u001b[39;00m \u001b[38;5;28;01mNone\u001b[39;00m:\n",
      "\u001b[1;31mKeyboardInterrupt\u001b[0m: "
     ]
    }
   ],
   "source": [
    "df_scores = fixpairwiseSimilarity(df,NYTcontent)\n",
    "print(df_scores)\n",
    "df_scores.to_csv('results_CF_Scores.csv', index=True)\n",
    "\n",
    "#category of each headline, to see which headlines were greatest similarity in tiktok, get category/"
   ]
  },
  {
   "cell_type": "code",
   "execution_count": 178,
   "metadata": {},
   "outputs": [
    {
     "name": "stdout",
     "output_type": "stream",
     "text": [
      "0.39215237\n",
      "taylor swift taylorswift shakeitoff square tiananmensquare tiananmensquare tragedy notcool notcoolbro tragic tragicstory chinese china chinatiktok taylorsversion taylorswifterastour taylorswiftedit politics politicstiktok xijingping xijinping donaldtrump joebiden tank war meme memes memestiktok\n"
     ]
    }
   ],
   "source": [
    "#df_scores.to_csv('tiktokNytScores.csv', index=False, float_format='%.0f')\n",
    "max_score = df_scores['score_news'].max()\n",
    "print(max_score)\n",
    "max_score_video_id = df.loc[df['score_news'].idxmax(), 'video_description']\n",
    "print(max_score_video_id)"
   ]
  },
  {
   "cell_type": "code",
   "execution_count": 189,
   "metadata": {},
   "outputs": [
    {
     "data": {
      "image/png": "[encoded data removed]",
      "text/plain": [
       "<Figure size 640x480 with 1 Axes>"
      ]
     },
     "metadata": {},
     "output_type": "display_data"
    }
   ],
   "source": [
    "import matplotlib.pyplot as plt\n",
    "\n",
    "df_filtered = df_scores.dropna(subset=['score_news'])\n",
    "\n",
    "plt.hist(df_filtered['score_news'], bins=15)  # Adjust number of bins as needed\n",
    "plt.xlabel('Scores')\n",
    "plt.ylabel('Count')\n",
    "plt.title('Histogram of Scores (Excluding Empty Values)')\n",
    "plt.xlim(0, 1)\n",
    "\n",
    "plt.show()"
   ]
  }
 ],
 "metadata": {
  "kernelspec": {
   "display_name": "base",
   "language": "python",
   "name": "python3"
  },
  "language_info": {
   "codemirror_mode": {
    "name": "ipython",
    "version": 3
   },
   "file_extension": ".py",
   "mimetype": "text/x-python",
   "name": "python",
   "nbconvert_exporter": "python",
   "pygments_lexer": "ipython3",
   "version": "3.11.7"
  }
 },
 "nbformat": 4,
 "nbformat_minor": 2
}
