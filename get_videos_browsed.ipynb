{
 "cells": [
  {
   "cell_type": "code",
   "execution_count": null,
   "id": "a7e4cc93",
   "metadata": {},
   "outputs": [],
   "source": [
    "import json\n",
    "import random"
   ]
  },
  {
   "cell_type": "code",
   "execution_count": null,
   "id": "3d1e8b93",
   "metadata": {},
   "outputs": [],
   "source": [
    "def open_file(file, sec, gr):\n",
    "    \"\"\"\n",
    "    file: path name to TikTok user data, sec: CS 315 class section, gr: group number\n",
    "    \"\"\"\n",
    "    with open(file, 'r') as inF:\n",
    "        data = json.load(inF)\n",
    "    browsed = data['Activity']['Video Browsing History']\n",
    "    print(\"Number of videos browsed:\", len(browsed))\n",
    "    #generate output file name with anonymous random number\n",
    "    out_name = f\"Sec{sec}Gr{gr}_{random.randrange(10000,100000)}.json\"\n",
    "    with open(out_name, 'w') as outF:\n",
    "        json.dump(browsed, outF)   "
   ]
  },
  {
   "cell_type": "code",
   "execution_count": null,
   "id": "8bf6417e",
   "metadata": {
    "scrolled": true
   },
   "outputs": [],
   "source": [
    "open_file('/Users/catherinefoster/Downloads/user_data.json', 2, 1)"
   ]
  }
 ],
 "metadata": {
  "kernelspec": {
   "display_name": "Python 3 (ipykernel)",
   "language": "python",
   "name": "python3"
  },
  "language_info": {
   "codemirror_mode": {
    "name": "ipython",
    "version": 3
   },
   "file_extension": ".py",
   "mimetype": "text/x-python",
   "name": "python",
   "nbconvert_exporter": "python",
   "pygments_lexer": "ipython3",
   "version": "3.9.13"
  }
 },
 "nbformat": 4,
 "nbformat_minor": 5
}
